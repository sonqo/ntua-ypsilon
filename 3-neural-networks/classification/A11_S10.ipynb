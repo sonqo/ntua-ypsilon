{
 "cells": [
  {
   "cell_type": "markdown",
   "metadata": {},
   "source": [
    "[Α.Στοιχεία Ομάδας](#Στοιχεία) \n",
    "\n",
    "[Β.Εισαγωγή του Dataset](#Εισαγωγή)\n",
    "\n",
    "[Γ.Baseline Classification](#Baseline)\n",
    "\n",
    "[Δ.Βελτίωση Ταξινομητών](#Βελτίωση)\n",
    "\n",
    "[Ε.Τελική Αρχιτεκτονική Μετασχηματισμών](#Final)"
   ]
  },
  {
   "cell_type": "markdown",
   "metadata": {},
   "source": [
    "<a id='Στοιχεία'></a>\n",
    "\n",
    "## Στοιχεία Ομάδας"
   ]
  },
  {
   "cell_type": "markdown",
   "metadata": {},
   "source": [
    "Αριθμός Ομάδας: Μ.Α.11\n",
    "\n",
    "    > Καρυπιάδης Ευστράτιος: 03114911"
   ]
  },
  {
   "cell_type": "code",
   "execution_count": 2,
   "metadata": {},
   "outputs": [],
   "source": [
    "import warnings\n",
    "warnings.filterwarnings('ignore')"
   ]
  },
  {
   "cell_type": "markdown",
   "metadata": {},
   "source": [
    "Η ανάπτυξη του Notebook πραγματοποιήθηκε σε τοπικό περιβάλλον. Κατά συνέπεια ο πίνακας περιεχομένων που παρουσιάζεται παραπάνω, αλλά και εκείνος του Δ. κεφαλαίου ενδέχεται να μην διατηρούν τη λειτουργικότητά τους σε διαφορετικά περιβάλλοντα. Επίσης, εντολές μορφοποίησης κειμένου ενδέχεται επίσης να μεταβάλλουν τη συμπεριφορά τους."
   ]
  },
  {
   "cell_type": "markdown",
   "metadata": {},
   "source": [
    "---\n",
    "\n",
    "<a id='Εισαγωγή'></a>\n",
    "\n",
    "## Εισαγωγή του Dataset"
   ]
  },
  {
   "cell_type": "markdown",
   "metadata": {},
   "source": [
    "Το dataset μας προκύπτει έπειτα απο την εφαρμογή του συστήματος _HIPS (Hierarchical Image Processing System)_ σε σειρά εικονών, οι οποίες ελήφθησαν για τεσσερις διαφορετικές κατηγορίες οχημάτων κάτω από τις ίδιες συνθήκες φωτισμού και γωνίας λήψης. Τα χαρακτηριστικά που εξήχθησαν αντιστοιχούν σε μετρικές ψηφιακής περιγραφής των εικόνων και αποτελούν τις στήλες των δεδομένων μας. Εκμεταλλευόμενοι τα παραπάνω χαρακτηριστικά θα επιχειρήσουμε να ταξινομήσουμε τα δείγματα που έχουμε στην διάθεσή μας στην αντίστοιχη κατηγορία οχήματος που ανήκουν.\n",
    "\n",
    "Τα αρχεία δεδομένων μας είναι χωρισμένα σε εννέα διαφορετικά αρχεία τα οποία θα ομαδοποιήσουμε σε έναν πίνακα. Αυτό επιτυγχάνεται με το σειριακό διάβασμα των αρχείων και την τελική ενοποίηση όλων των δεδομένων σε ένα Dataframe. Δεν υπάρχει αρίθμηση για κάθε διαφορετικό δείγμα-γραμμή, αλλά ούτε ονομασία για τα χαρακτηριστικά-στήλες μας. Για αυτό το λόγο επιλέγουμε να ονοματίσουμε της στήλες των δεδομένων μας, συμβουλεύομενοι την περιγραφή του dataset."
   ]
  },
  {
   "cell_type": "code",
   "execution_count": 3,
   "metadata": {},
   "outputs": [
    {
     "data": {
      "text/html": [
       "<div>\n",
       "<style scoped>\n",
       "    .dataframe tbody tr th:only-of-type {\n",
       "        vertical-align: middle;\n",
       "    }\n",
       "\n",
       "    .dataframe tbody tr th {\n",
       "        vertical-align: top;\n",
       "    }\n",
       "\n",
       "    .dataframe thead th {\n",
       "        text-align: right;\n",
       "    }\n",
       "</style>\n",
       "<table border=\"1\" class=\"dataframe\">\n",
       "  <thead>\n",
       "    <tr style=\"text-align: right;\">\n",
       "      <th></th>\n",
       "      <th>compactness</th>\n",
       "      <th>circularity</th>\n",
       "      <th>distance_circularity</th>\n",
       "      <th>radius_ratio</th>\n",
       "      <th>pr.axis_aspect_ratio</th>\n",
       "      <th>max.length_aspect_ratio</th>\n",
       "      <th>scatter_ratio</th>\n",
       "      <th>elongatedness</th>\n",
       "      <th>pr.axis_rectangularity</th>\n",
       "      <th>max.length_rectangularity</th>\n",
       "      <th>major.axis_scaled_variance</th>\n",
       "      <th>minor.axis_scaled_variance</th>\n",
       "      <th>gyration_scaled_radius</th>\n",
       "      <th>major.axis skewness</th>\n",
       "      <th>minor.axis_skewness</th>\n",
       "      <th>minor.axis_kurtosis</th>\n",
       "      <th>major.axis_curtosis</th>\n",
       "      <th>hollows_ratio</th>\n",
       "      <th>label</th>\n",
       "    </tr>\n",
       "  </thead>\n",
       "  <tbody>\n",
       "    <tr>\n",
       "      <th>0</th>\n",
       "      <td>95</td>\n",
       "      <td>48</td>\n",
       "      <td>83</td>\n",
       "      <td>178</td>\n",
       "      <td>72</td>\n",
       "      <td>10</td>\n",
       "      <td>162</td>\n",
       "      <td>42</td>\n",
       "      <td>20</td>\n",
       "      <td>159</td>\n",
       "      <td>176</td>\n",
       "      <td>379</td>\n",
       "      <td>184</td>\n",
       "      <td>70</td>\n",
       "      <td>6</td>\n",
       "      <td>16</td>\n",
       "      <td>187</td>\n",
       "      <td>197</td>\n",
       "      <td>van</td>\n",
       "    </tr>\n",
       "    <tr>\n",
       "      <th>1</th>\n",
       "      <td>91</td>\n",
       "      <td>41</td>\n",
       "      <td>84</td>\n",
       "      <td>141</td>\n",
       "      <td>57</td>\n",
       "      <td>9</td>\n",
       "      <td>149</td>\n",
       "      <td>45</td>\n",
       "      <td>19</td>\n",
       "      <td>143</td>\n",
       "      <td>170</td>\n",
       "      <td>330</td>\n",
       "      <td>158</td>\n",
       "      <td>72</td>\n",
       "      <td>9</td>\n",
       "      <td>14</td>\n",
       "      <td>189</td>\n",
       "      <td>199</td>\n",
       "      <td>van</td>\n",
       "    </tr>\n",
       "    <tr>\n",
       "      <th>2</th>\n",
       "      <td>104</td>\n",
       "      <td>50</td>\n",
       "      <td>106</td>\n",
       "      <td>209</td>\n",
       "      <td>66</td>\n",
       "      <td>10</td>\n",
       "      <td>207</td>\n",
       "      <td>32</td>\n",
       "      <td>23</td>\n",
       "      <td>158</td>\n",
       "      <td>223</td>\n",
       "      <td>635</td>\n",
       "      <td>220</td>\n",
       "      <td>73</td>\n",
       "      <td>14</td>\n",
       "      <td>9</td>\n",
       "      <td>188</td>\n",
       "      <td>196</td>\n",
       "      <td>saab</td>\n",
       "    </tr>\n",
       "    <tr>\n",
       "      <th>3</th>\n",
       "      <td>93</td>\n",
       "      <td>41</td>\n",
       "      <td>82</td>\n",
       "      <td>159</td>\n",
       "      <td>63</td>\n",
       "      <td>9</td>\n",
       "      <td>144</td>\n",
       "      <td>46</td>\n",
       "      <td>19</td>\n",
       "      <td>143</td>\n",
       "      <td>160</td>\n",
       "      <td>309</td>\n",
       "      <td>127</td>\n",
       "      <td>63</td>\n",
       "      <td>6</td>\n",
       "      <td>10</td>\n",
       "      <td>199</td>\n",
       "      <td>207</td>\n",
       "      <td>van</td>\n",
       "    </tr>\n",
       "    <tr>\n",
       "      <th>4</th>\n",
       "      <td>85</td>\n",
       "      <td>44</td>\n",
       "      <td>70</td>\n",
       "      <td>205</td>\n",
       "      <td>103</td>\n",
       "      <td>52</td>\n",
       "      <td>149</td>\n",
       "      <td>45</td>\n",
       "      <td>19</td>\n",
       "      <td>144</td>\n",
       "      <td>241</td>\n",
       "      <td>325</td>\n",
       "      <td>188</td>\n",
       "      <td>127</td>\n",
       "      <td>9</td>\n",
       "      <td>11</td>\n",
       "      <td>180</td>\n",
       "      <td>183</td>\n",
       "      <td>bus</td>\n",
       "    </tr>\n",
       "    <tr>\n",
       "      <th>5</th>\n",
       "      <td>107</td>\n",
       "      <td>57</td>\n",
       "      <td>106</td>\n",
       "      <td>172</td>\n",
       "      <td>50</td>\n",
       "      <td>6</td>\n",
       "      <td>255</td>\n",
       "      <td>26</td>\n",
       "      <td>28</td>\n",
       "      <td>169</td>\n",
       "      <td>280</td>\n",
       "      <td>957</td>\n",
       "      <td>264</td>\n",
       "      <td>85</td>\n",
       "      <td>5</td>\n",
       "      <td>9</td>\n",
       "      <td>181</td>\n",
       "      <td>183</td>\n",
       "      <td>bus</td>\n",
       "    </tr>\n",
       "    <tr>\n",
       "      <th>6</th>\n",
       "      <td>97</td>\n",
       "      <td>43</td>\n",
       "      <td>73</td>\n",
       "      <td>173</td>\n",
       "      <td>65</td>\n",
       "      <td>6</td>\n",
       "      <td>153</td>\n",
       "      <td>42</td>\n",
       "      <td>19</td>\n",
       "      <td>143</td>\n",
       "      <td>176</td>\n",
       "      <td>361</td>\n",
       "      <td>172</td>\n",
       "      <td>66</td>\n",
       "      <td>13</td>\n",
       "      <td>1</td>\n",
       "      <td>200</td>\n",
       "      <td>204</td>\n",
       "      <td>bus</td>\n",
       "    </tr>\n",
       "    <tr>\n",
       "      <th>7</th>\n",
       "      <td>90</td>\n",
       "      <td>43</td>\n",
       "      <td>66</td>\n",
       "      <td>157</td>\n",
       "      <td>65</td>\n",
       "      <td>9</td>\n",
       "      <td>137</td>\n",
       "      <td>48</td>\n",
       "      <td>18</td>\n",
       "      <td>146</td>\n",
       "      <td>162</td>\n",
       "      <td>281</td>\n",
       "      <td>164</td>\n",
       "      <td>67</td>\n",
       "      <td>3</td>\n",
       "      <td>3</td>\n",
       "      <td>193</td>\n",
       "      <td>202</td>\n",
       "      <td>van</td>\n",
       "    </tr>\n",
       "    <tr>\n",
       "      <th>8</th>\n",
       "      <td>86</td>\n",
       "      <td>34</td>\n",
       "      <td>62</td>\n",
       "      <td>140</td>\n",
       "      <td>61</td>\n",
       "      <td>7</td>\n",
       "      <td>122</td>\n",
       "      <td>54</td>\n",
       "      <td>17</td>\n",
       "      <td>127</td>\n",
       "      <td>141</td>\n",
       "      <td>223</td>\n",
       "      <td>112</td>\n",
       "      <td>64</td>\n",
       "      <td>2</td>\n",
       "      <td>14</td>\n",
       "      <td>200</td>\n",
       "      <td>208</td>\n",
       "      <td>van</td>\n",
       "    </tr>\n",
       "    <tr>\n",
       "      <th>9</th>\n",
       "      <td>93</td>\n",
       "      <td>44</td>\n",
       "      <td>98</td>\n",
       "      <td>197</td>\n",
       "      <td>62</td>\n",
       "      <td>11</td>\n",
       "      <td>183</td>\n",
       "      <td>36</td>\n",
       "      <td>22</td>\n",
       "      <td>146</td>\n",
       "      <td>202</td>\n",
       "      <td>505</td>\n",
       "      <td>152</td>\n",
       "      <td>64</td>\n",
       "      <td>4</td>\n",
       "      <td>14</td>\n",
       "      <td>195</td>\n",
       "      <td>204</td>\n",
       "      <td>saab</td>\n",
       "    </tr>\n",
       "  </tbody>\n",
       "</table>\n",
       "</div>"
      ],
      "text/plain": [
       "   compactness  circularity  distance_circularity  radius_ratio  \\\n",
       "0           95           48                    83           178   \n",
       "1           91           41                    84           141   \n",
       "2          104           50                   106           209   \n",
       "3           93           41                    82           159   \n",
       "4           85           44                    70           205   \n",
       "5          107           57                   106           172   \n",
       "6           97           43                    73           173   \n",
       "7           90           43                    66           157   \n",
       "8           86           34                    62           140   \n",
       "9           93           44                    98           197   \n",
       "\n",
       "   pr.axis_aspect_ratio  max.length_aspect_ratio  scatter_ratio  \\\n",
       "0                    72                       10            162   \n",
       "1                    57                        9            149   \n",
       "2                    66                       10            207   \n",
       "3                    63                        9            144   \n",
       "4                   103                       52            149   \n",
       "5                    50                        6            255   \n",
       "6                    65                        6            153   \n",
       "7                    65                        9            137   \n",
       "8                    61                        7            122   \n",
       "9                    62                       11            183   \n",
       "\n",
       "   elongatedness  pr.axis_rectangularity  max.length_rectangularity  \\\n",
       "0             42                      20                        159   \n",
       "1             45                      19                        143   \n",
       "2             32                      23                        158   \n",
       "3             46                      19                        143   \n",
       "4             45                      19                        144   \n",
       "5             26                      28                        169   \n",
       "6             42                      19                        143   \n",
       "7             48                      18                        146   \n",
       "8             54                      17                        127   \n",
       "9             36                      22                        146   \n",
       "\n",
       "   major.axis_scaled_variance  minor.axis_scaled_variance  \\\n",
       "0                         176                         379   \n",
       "1                         170                         330   \n",
       "2                         223                         635   \n",
       "3                         160                         309   \n",
       "4                         241                         325   \n",
       "5                         280                         957   \n",
       "6                         176                         361   \n",
       "7                         162                         281   \n",
       "8                         141                         223   \n",
       "9                         202                         505   \n",
       "\n",
       "   gyration_scaled_radius  major.axis skewness  minor.axis_skewness  \\\n",
       "0                     184                   70                    6   \n",
       "1                     158                   72                    9   \n",
       "2                     220                   73                   14   \n",
       "3                     127                   63                    6   \n",
       "4                     188                  127                    9   \n",
       "5                     264                   85                    5   \n",
       "6                     172                   66                   13   \n",
       "7                     164                   67                    3   \n",
       "8                     112                   64                    2   \n",
       "9                     152                   64                    4   \n",
       "\n",
       "   minor.axis_kurtosis  major.axis_curtosis  hollows_ratio label  \n",
       "0                   16                  187            197   van  \n",
       "1                   14                  189            199   van  \n",
       "2                    9                  188            196  saab  \n",
       "3                   10                  199            207   van  \n",
       "4                   11                  180            183   bus  \n",
       "5                    9                  181            183   bus  \n",
       "6                    1                  200            204   bus  \n",
       "7                    3                  193            202   van  \n",
       "8                   14                  200            208   van  \n",
       "9                   14                  195            204  saab  "
      ]
     },
     "execution_count": 3,
     "metadata": {},
     "output_type": "execute_result"
    }
   ],
   "source": [
    "import glob\n",
    "import pandas as pd\n",
    "\n",
    "path = 'data'\n",
    "all_data = glob.glob(path + '/*.dat')\n",
    "\n",
    "l = []\n",
    "\n",
    "column_names = ['compactness', 'circularity', 'distance_circularity', 'radius_ratio', 'pr.axis_aspect_ratio',\n",
    "                'max.length_aspect_ratio', 'scatter_ratio', 'elongatedness', 'pr.axis_rectangularity', \n",
    "                'max.length_rectangularity', 'major.axis_scaled_variance', 'minor.axis_scaled_variance',\n",
    "                'gyration_scaled_radius', 'major.axis skewness', 'minor.axis_skewness', 'minor.axis_kurtosis',\n",
    "                'major.axis_curtosis', 'hollows_ratio', 'label']\n",
    "\n",
    "for filename in all_data:\n",
    "    df = pd.read_csv(filename, header=None, sep=' ', names = column_names, usecols= [num for num in range(19)])\n",
    "    l.append(df)\n",
    "    \n",
    "cars = pd.concat(l, axis=0, ignore_index=True)\n",
    "cars.head(10)"
   ]
  },
  {
   "cell_type": "markdown",
   "metadata": {},
   "source": [
    "Στη συνέχεια θα εξάγουμε χρήσιμες πληροφορίες για τα δεδομένα μας:"
   ]
  },
  {
   "cell_type": "code",
   "execution_count": 3,
   "metadata": {
    "scrolled": false
   },
   "outputs": [
    {
     "name": "stdout",
     "output_type": "stream",
     "text": [
      "<class 'pandas.core.frame.DataFrame'>\n",
      "RangeIndex: 846 entries, 0 to 845\n",
      "Data columns (total 19 columns):\n",
      "compactness                   846 non-null int64\n",
      "circularity                   846 non-null int64\n",
      "distance_circularity          846 non-null int64\n",
      "radius_ratio                  846 non-null int64\n",
      "pr.axis_aspect_ratio          846 non-null int64\n",
      "max.length_aspect_ratio       846 non-null int64\n",
      "scatter_ratio                 846 non-null int64\n",
      "elongatedness                 846 non-null int64\n",
      "pr.axis_rectangularity        846 non-null int64\n",
      "max.length_rectangularity     846 non-null int64\n",
      "major.axis_scaled_variance    846 non-null int64\n",
      "minor.axis_scaled_variance    846 non-null int64\n",
      "gyration_scaled_radius        846 non-null int64\n",
      "major.axis skewness           846 non-null int64\n",
      "minor.axis_skewness           846 non-null int64\n",
      "minor.axis_kurtosis           846 non-null int64\n",
      "major.axis_curtosis           846 non-null int64\n",
      "hollows_ratio                 846 non-null int64\n",
      "label                         846 non-null object\n",
      "dtypes: int64(18), object(1)\n",
      "memory usage: 125.7+ KB\n"
     ]
    }
   ],
   "source": [
    "cars.info()"
   ]
  },
  {
   "cell_type": "code",
   "execution_count": 4,
   "metadata": {},
   "outputs": [
    {
     "data": {
      "text/html": [
       "<div>\n",
       "<style scoped>\n",
       "    .dataframe tbody tr th:only-of-type {\n",
       "        vertical-align: middle;\n",
       "    }\n",
       "\n",
       "    .dataframe tbody tr th {\n",
       "        vertical-align: top;\n",
       "    }\n",
       "\n",
       "    .dataframe thead th {\n",
       "        text-align: right;\n",
       "    }\n",
       "</style>\n",
       "<table border=\"1\" class=\"dataframe\">\n",
       "  <thead>\n",
       "    <tr style=\"text-align: right;\">\n",
       "      <th></th>\n",
       "      <th>compactness</th>\n",
       "      <th>circularity</th>\n",
       "      <th>distance_circularity</th>\n",
       "      <th>radius_ratio</th>\n",
       "      <th>pr.axis_aspect_ratio</th>\n",
       "      <th>max.length_aspect_ratio</th>\n",
       "      <th>scatter_ratio</th>\n",
       "      <th>elongatedness</th>\n",
       "      <th>pr.axis_rectangularity</th>\n",
       "      <th>max.length_rectangularity</th>\n",
       "      <th>major.axis_scaled_variance</th>\n",
       "      <th>minor.axis_scaled_variance</th>\n",
       "      <th>gyration_scaled_radius</th>\n",
       "      <th>major.axis skewness</th>\n",
       "      <th>minor.axis_skewness</th>\n",
       "      <th>minor.axis_kurtosis</th>\n",
       "      <th>major.axis_curtosis</th>\n",
       "      <th>hollows_ratio</th>\n",
       "    </tr>\n",
       "  </thead>\n",
       "  <tbody>\n",
       "    <tr>\n",
       "      <th>count</th>\n",
       "      <td>846.000000</td>\n",
       "      <td>846.000000</td>\n",
       "      <td>846.000000</td>\n",
       "      <td>846.000000</td>\n",
       "      <td>846.000000</td>\n",
       "      <td>846.000000</td>\n",
       "      <td>846.000000</td>\n",
       "      <td>846.000000</td>\n",
       "      <td>846.000000</td>\n",
       "      <td>846.000000</td>\n",
       "      <td>846.000000</td>\n",
       "      <td>846.000000</td>\n",
       "      <td>846.00000</td>\n",
       "      <td>846.000000</td>\n",
       "      <td>846.000000</td>\n",
       "      <td>846.000000</td>\n",
       "      <td>846.000000</td>\n",
       "      <td>846.000000</td>\n",
       "    </tr>\n",
       "    <tr>\n",
       "      <th>mean</th>\n",
       "      <td>93.678487</td>\n",
       "      <td>44.861702</td>\n",
       "      <td>82.088652</td>\n",
       "      <td>168.940898</td>\n",
       "      <td>61.693853</td>\n",
       "      <td>8.567376</td>\n",
       "      <td>168.839243</td>\n",
       "      <td>40.933806</td>\n",
       "      <td>20.582742</td>\n",
       "      <td>147.998818</td>\n",
       "      <td>188.625296</td>\n",
       "      <td>439.911348</td>\n",
       "      <td>174.70331</td>\n",
       "      <td>72.462175</td>\n",
       "      <td>6.377069</td>\n",
       "      <td>12.599291</td>\n",
       "      <td>188.932624</td>\n",
       "      <td>195.632388</td>\n",
       "    </tr>\n",
       "    <tr>\n",
       "      <th>std</th>\n",
       "      <td>8.234474</td>\n",
       "      <td>6.169866</td>\n",
       "      <td>15.771533</td>\n",
       "      <td>33.472183</td>\n",
       "      <td>7.888251</td>\n",
       "      <td>4.601217</td>\n",
       "      <td>33.244978</td>\n",
       "      <td>7.811560</td>\n",
       "      <td>2.592138</td>\n",
       "      <td>14.515652</td>\n",
       "      <td>31.394837</td>\n",
       "      <td>176.692614</td>\n",
       "      <td>32.54649</td>\n",
       "      <td>7.486974</td>\n",
       "      <td>4.918353</td>\n",
       "      <td>8.931240</td>\n",
       "      <td>6.163949</td>\n",
       "      <td>7.438797</td>\n",
       "    </tr>\n",
       "    <tr>\n",
       "      <th>min</th>\n",
       "      <td>73.000000</td>\n",
       "      <td>33.000000</td>\n",
       "      <td>40.000000</td>\n",
       "      <td>104.000000</td>\n",
       "      <td>47.000000</td>\n",
       "      <td>2.000000</td>\n",
       "      <td>112.000000</td>\n",
       "      <td>26.000000</td>\n",
       "      <td>17.000000</td>\n",
       "      <td>118.000000</td>\n",
       "      <td>130.000000</td>\n",
       "      <td>184.000000</td>\n",
       "      <td>109.00000</td>\n",
       "      <td>59.000000</td>\n",
       "      <td>0.000000</td>\n",
       "      <td>0.000000</td>\n",
       "      <td>176.000000</td>\n",
       "      <td>181.000000</td>\n",
       "    </tr>\n",
       "    <tr>\n",
       "      <th>25%</th>\n",
       "      <td>87.000000</td>\n",
       "      <td>40.000000</td>\n",
       "      <td>70.000000</td>\n",
       "      <td>141.000000</td>\n",
       "      <td>57.000000</td>\n",
       "      <td>7.000000</td>\n",
       "      <td>146.250000</td>\n",
       "      <td>33.000000</td>\n",
       "      <td>19.000000</td>\n",
       "      <td>137.000000</td>\n",
       "      <td>167.000000</td>\n",
       "      <td>318.250000</td>\n",
       "      <td>149.00000</td>\n",
       "      <td>67.000000</td>\n",
       "      <td>2.000000</td>\n",
       "      <td>5.000000</td>\n",
       "      <td>184.000000</td>\n",
       "      <td>190.250000</td>\n",
       "    </tr>\n",
       "    <tr>\n",
       "      <th>50%</th>\n",
       "      <td>93.000000</td>\n",
       "      <td>44.000000</td>\n",
       "      <td>80.000000</td>\n",
       "      <td>167.000000</td>\n",
       "      <td>61.000000</td>\n",
       "      <td>8.000000</td>\n",
       "      <td>157.000000</td>\n",
       "      <td>43.000000</td>\n",
       "      <td>20.000000</td>\n",
       "      <td>146.000000</td>\n",
       "      <td>178.500000</td>\n",
       "      <td>364.000000</td>\n",
       "      <td>173.00000</td>\n",
       "      <td>71.500000</td>\n",
       "      <td>6.000000</td>\n",
       "      <td>11.000000</td>\n",
       "      <td>188.000000</td>\n",
       "      <td>197.000000</td>\n",
       "    </tr>\n",
       "    <tr>\n",
       "      <th>75%</th>\n",
       "      <td>100.000000</td>\n",
       "      <td>49.000000</td>\n",
       "      <td>98.000000</td>\n",
       "      <td>195.000000</td>\n",
       "      <td>65.000000</td>\n",
       "      <td>10.000000</td>\n",
       "      <td>198.000000</td>\n",
       "      <td>46.000000</td>\n",
       "      <td>23.000000</td>\n",
       "      <td>159.000000</td>\n",
       "      <td>217.000000</td>\n",
       "      <td>587.000000</td>\n",
       "      <td>198.00000</td>\n",
       "      <td>75.000000</td>\n",
       "      <td>9.000000</td>\n",
       "      <td>19.000000</td>\n",
       "      <td>193.000000</td>\n",
       "      <td>201.000000</td>\n",
       "    </tr>\n",
       "    <tr>\n",
       "      <th>max</th>\n",
       "      <td>119.000000</td>\n",
       "      <td>59.000000</td>\n",
       "      <td>112.000000</td>\n",
       "      <td>333.000000</td>\n",
       "      <td>138.000000</td>\n",
       "      <td>55.000000</td>\n",
       "      <td>265.000000</td>\n",
       "      <td>61.000000</td>\n",
       "      <td>29.000000</td>\n",
       "      <td>188.000000</td>\n",
       "      <td>320.000000</td>\n",
       "      <td>1018.000000</td>\n",
       "      <td>268.00000</td>\n",
       "      <td>135.000000</td>\n",
       "      <td>22.000000</td>\n",
       "      <td>41.000000</td>\n",
       "      <td>206.000000</td>\n",
       "      <td>211.000000</td>\n",
       "    </tr>\n",
       "  </tbody>\n",
       "</table>\n",
       "</div>"
      ],
      "text/plain": [
       "       compactness  circularity  distance_circularity  radius_ratio  \\\n",
       "count   846.000000   846.000000            846.000000    846.000000   \n",
       "mean     93.678487    44.861702             82.088652    168.940898   \n",
       "std       8.234474     6.169866             15.771533     33.472183   \n",
       "min      73.000000    33.000000             40.000000    104.000000   \n",
       "25%      87.000000    40.000000             70.000000    141.000000   \n",
       "50%      93.000000    44.000000             80.000000    167.000000   \n",
       "75%     100.000000    49.000000             98.000000    195.000000   \n",
       "max     119.000000    59.000000            112.000000    333.000000   \n",
       "\n",
       "       pr.axis_aspect_ratio  max.length_aspect_ratio  scatter_ratio  \\\n",
       "count            846.000000               846.000000     846.000000   \n",
       "mean              61.693853                 8.567376     168.839243   \n",
       "std                7.888251                 4.601217      33.244978   \n",
       "min               47.000000                 2.000000     112.000000   \n",
       "25%               57.000000                 7.000000     146.250000   \n",
       "50%               61.000000                 8.000000     157.000000   \n",
       "75%               65.000000                10.000000     198.000000   \n",
       "max              138.000000                55.000000     265.000000   \n",
       "\n",
       "       elongatedness  pr.axis_rectangularity  max.length_rectangularity  \\\n",
       "count     846.000000              846.000000                 846.000000   \n",
       "mean       40.933806               20.582742                 147.998818   \n",
       "std         7.811560                2.592138                  14.515652   \n",
       "min        26.000000               17.000000                 118.000000   \n",
       "25%        33.000000               19.000000                 137.000000   \n",
       "50%        43.000000               20.000000                 146.000000   \n",
       "75%        46.000000               23.000000                 159.000000   \n",
       "max        61.000000               29.000000                 188.000000   \n",
       "\n",
       "       major.axis_scaled_variance  minor.axis_scaled_variance  \\\n",
       "count                  846.000000                  846.000000   \n",
       "mean                   188.625296                  439.911348   \n",
       "std                     31.394837                  176.692614   \n",
       "min                    130.000000                  184.000000   \n",
       "25%                    167.000000                  318.250000   \n",
       "50%                    178.500000                  364.000000   \n",
       "75%                    217.000000                  587.000000   \n",
       "max                    320.000000                 1018.000000   \n",
       "\n",
       "       gyration_scaled_radius  major.axis skewness  minor.axis_skewness  \\\n",
       "count               846.00000           846.000000           846.000000   \n",
       "mean                174.70331            72.462175             6.377069   \n",
       "std                  32.54649             7.486974             4.918353   \n",
       "min                 109.00000            59.000000             0.000000   \n",
       "25%                 149.00000            67.000000             2.000000   \n",
       "50%                 173.00000            71.500000             6.000000   \n",
       "75%                 198.00000            75.000000             9.000000   \n",
       "max                 268.00000           135.000000            22.000000   \n",
       "\n",
       "       minor.axis_kurtosis  major.axis_curtosis  hollows_ratio  \n",
       "count           846.000000           846.000000     846.000000  \n",
       "mean             12.599291           188.932624     195.632388  \n",
       "std               8.931240             6.163949       7.438797  \n",
       "min               0.000000           176.000000     181.000000  \n",
       "25%               5.000000           184.000000     190.250000  \n",
       "50%              11.000000           188.000000     197.000000  \n",
       "75%              19.000000           193.000000     201.000000  \n",
       "max              41.000000           206.000000     211.000000  "
      ]
     },
     "execution_count": 4,
     "metadata": {},
     "output_type": "execute_result"
    }
   ],
   "source": [
    "cars.describe()"
   ]
  },
  {
   "cell_type": "code",
   "execution_count": 5,
   "metadata": {},
   "outputs": [
    {
     "data": {
      "text/plain": [
       "(846, 19)"
      ]
     },
     "execution_count": 5,
     "metadata": {},
     "output_type": "execute_result"
    }
   ],
   "source": [
    "cars.shape"
   ]
  },
  {
   "cell_type": "markdown",
   "metadata": {},
   "source": [
    "Παρατηρούμε ότι έχουμε στη διάθεσή μας 846 δείγματα, καθένα από τα οποία συνοδεύεται από 18 συνολικά χαρακτηριστικά. Κατά συνέπεια ο πίνακας των δεδομένων μας αποτελείται από 19 στήλες, δεδομένου ότι η τελευταία αντιστοιχεί στις ετικέτες των κατηγοριών. Τα χαρακτηριστικά αυτά είναι σε μορφή αριθμών, ενώ δεν υπάρχει στήλη στην οποία να απουσιάζουν τιμές. Σημειώνουμε ότι η στήλη των ετικετών περιέχει τιμές σε μορφή κειμένου, τις οποίες όμως δε χρειάζεται να κωδικοποιήσουμε σε αριθμούς, εφόσον είναι διαφορετικές μεταξύ τους."
   ]
  },
  {
   "cell_type": "code",
   "execution_count": 6,
   "metadata": {},
   "outputs": [
    {
     "data": {
      "text/plain": [
       "bus     25.768322\n",
       "saab    25.650118\n",
       "opel    25.059102\n",
       "van     23.522459\n",
       "Name: label, dtype: float64"
      ]
     },
     "execution_count": 6,
     "metadata": {},
     "output_type": "execute_result"
    }
   ],
   "source": [
    "cars['label'].value_counts(normalize=True) * 100"
   ]
  },
  {
   "cell_type": "markdown",
   "metadata": {},
   "source": [
    "Οι κατηγορίες των οχημάτων μας είναι 4 και φέρουν τα ονόματα: _Bus, Van, Opel_ και _Saab_. Έχουμε ισορροπία στο σύνολο των δεδομένων, αφού όπως υπολογίζουμε κάθε κατηγορία συναστά περίπου το 1/4 του Dataset."
   ]
  },
  {
   "cell_type": "markdown",
   "metadata": {},
   "source": [
    "---\n",
    "\n",
    "## Διαχωρισμός Δεδομένων Εκπαίδευσης & Ελέγχου"
   ]
  },
  {
   "cell_type": "markdown",
   "metadata": {},
   "source": [
    "Για το διαχωρισμό του dataset μας θα χρησιμοποιήσουμε τη *ShuffleSplit*:"
   ]
  },
  {
   "cell_type": "code",
   "execution_count": 4,
   "metadata": {},
   "outputs": [
    {
     "data": {
      "text/plain": [
       "bus     26.035503\n",
       "saab    25.443787\n",
       "opel    24.704142\n",
       "van     23.816568\n",
       "Name: label, dtype: float64"
      ]
     },
     "execution_count": 4,
     "metadata": {},
     "output_type": "execute_result"
    }
   ],
   "source": [
    "import numpy as np\n",
    "from sklearn.model_selection import ShuffleSplit\n",
    "\n",
    "split = ShuffleSplit(n_splits = 1, test_size = 0.2)\n",
    "for train_index, test_index in split.split(cars, cars['label']):\n",
    "    train_set = cars.reindex(train_index)\n",
    "    test_set = cars.reindex(test_index)\n",
    "    \n",
    "train_set['label'].value_counts() / len(train_set) * 100"
   ]
  },
  {
   "cell_type": "markdown",
   "metadata": {},
   "source": [
    "Τέλος, θα διαχωρίσουμε τα χαρακτηριστικά των δεδομένων μας από την κατηγορία στην οποία ανήκουν:"
   ]
  },
  {
   "cell_type": "code",
   "execution_count": 5,
   "metadata": {},
   "outputs": [],
   "source": [
    "# Training Set\n",
    "cars_train = train_set.drop('label', axis=1)\n",
    "cars_train_labels = train_set['label'].copy()\n",
    "\n",
    "# Test Set\n",
    "cars_test = test_set.drop('label', axis=1)\n",
    "cars_test_labels = test_set['label'].copy()"
   ]
  },
  {
   "cell_type": "markdown",
   "metadata": {},
   "source": [
    "---\n",
    "\n",
    "<a id='Baseline'></a>\n",
    "\n",
    "## Baseline Classification"
   ]
  },
  {
   "cell_type": "markdown",
   "metadata": {},
   "source": [
    "#### DummyClassifier"
   ]
  },
  {
   "cell_type": "markdown",
   "metadata": {},
   "source": [
    "Αρχικά θα εκπαιδεύσουμε έναν _DummyClassifier_ χωρίς να μεταβάλλουμε τις παραμέτρους αρχικοποίησής του:"
   ]
  },
  {
   "cell_type": "code",
   "execution_count": 30,
   "metadata": {},
   "outputs": [],
   "source": [
    "from sklearn.dummy import DummyClassifier\n",
    "from sklearn.metrics import accuracy_score\n",
    "\n",
    "dc_default = DummyClassifier() # default strategy: stratified\n",
    "dc_default.fit(cars_train, cars_train_labels) # fitting on train_set\n",
    "\n",
    "cars_predictions = dc_default.predict(cars_test) # predicting on test_set\n",
    "\n",
    "target_names = dc_default.classes_.tolist() # fetch class names\n",
    "\n",
    "dummy_default = accuracy_score(cars_test_labels, cars_predictions) * 100"
   ]
  },
  {
   "cell_type": "code",
   "execution_count": 31,
   "metadata": {},
   "outputs": [
    {
     "data": {
      "text/plain": [
       "21.7647"
      ]
     },
     "execution_count": 31,
     "metadata": {},
     "output_type": "execute_result"
    }
   ],
   "source": [
    "round(dummy_default, 4)"
   ]
  },
  {
   "cell_type": "markdown",
   "metadata": {},
   "source": [
    "Παρατηρούμε ότι η ακρίβεια του _DummyClassifier_ είναι αρκετά χαμηλή, με ποσοστό 22% περίπου.\n",
    "\n",
    "Συνεχίζοντας, θα πάρουμε περισσότερες πληροφόριες για τη διαδικασία ταξινόμησης, υπολογίζοντας _Confusion Table_ καθώς και τις τιμές _Precision, Recall_ και _F1-Score_ :"
   ]
  },
  {
   "cell_type": "code",
   "execution_count": 88,
   "metadata": {},
   "outputs": [
    {
     "data": {
      "image/png": "[encoded data removed]",
      "text/plain": [
       "<Figure size 576x432 with 2 Axes>"
      ]
     },
     "metadata": {
      "needs_background": "light"
     },
     "output_type": "display_data"
    }
   ],
   "source": [
    "from matplotlib import cm\n",
    "import matplotlib.pyplot as plt\n",
    "from sklearn.metrics import confusion_matrix\n",
    "\n",
    "matrix = confusion_matrix(cars_test_labels, cars_predictions)\n",
    "\n",
    "fig = plt.figure(figsize=(8,6))\n",
    "ax = fig.add_subplot(111)\n",
    "cax = ax.matshow(matrix, cmap=cm.get_cmap('PuBu'))\n",
    "fig.colorbar(cax)\n",
    "\n",
    "ax.set_xticklabels([''] + target_names)\n",
    "ax.set_yticklabels([''] + target_names)\n",
    "\n",
    "plt.show()"
   ]
  },
  {
   "cell_type": "code",
   "execution_count": 90,
   "metadata": {},
   "outputs": [
    {
     "name": "stdout",
     "output_type": "stream",
     "text": [
      "F1-Micro Average: 22.9412\n",
      "F1-Macro Average: 23.0027\n",
      "\n",
      "              precision    recall  f1-score   support\n",
      "\n",
      "         bus       0.31      0.41      0.35        37\n",
      "        opel       0.19      0.16      0.17        50\n",
      "        saab       0.19      0.20      0.20        40\n",
      "         van       0.22      0.19      0.20        43\n",
      "\n",
      "    accuracy                           0.23       170\n",
      "   macro avg       0.23      0.24      0.23       170\n",
      "weighted avg       0.22      0.23      0.22       170\n",
      "\n"
     ]
    }
   ],
   "source": [
    "from sklearn.metrics import f1_score\n",
    "from sklearn.metrics import classification_report\n",
    "from sklearn.metrics import precision_recall_fscore_support\n",
    "\n",
    "dc_f1_micro = f1_score(cars_test_labels, cars_predictions, average='micro')*100\n",
    "dc_f1_macro = f1_score(cars_test_labels, cars_predictions, average='macro')*100\n",
    "\n",
    "print(\"F1-Micro Average: \" + str(round(dc_f1_micro, 4)))\n",
    "print(\"F1-Macro Average: \" + str(round(dc_f1_macro, 4)) + \"\\n\")\n",
    "\n",
    "print(classification_report(cars_test_labels, cars_predictions))"
   ]
  },
  {
   "cell_type": "markdown",
   "metadata": {},
   "source": [
    "Μελετώντας τον πίνακα σύγχυσης διασταυρώνουμε το ποσοστό επιτυχίας που σημειώσαμε παραπάνω, παρατηρώντας πως η κύρια διαγώνιος \n",
    "δεν παρουσιάζει εμφανώς έντονες τιμές. Σχετικά με τα _F1-Macro_ και _F1-Micro_ αναμένουμε να έχουν σχεδόν ίδιες τιμές, επειδή το πλήθος των δεδομένων μας ήταν ισορροπημένο ως προς τις κατηγορίες οχημάτων και κατά συνέπεια δε δημιουργείται κάποια κλίση ως προς την περισσότερη ή λιγότερη συχνή κατήγορια. Σε αυτό συμβάλλει επίπροσθέτως και το γεγονός ότι η ακρίβεια και η ανάκλιση της εκάστοτε κατηγορίας έχουν παραπλήσιες τιμές.\n",
    "\n",
    "Σχετικά με τις τιμές ακρίβειας και ανάκλισης, παρατηρούμε ότι η κατηγορία *Bus* εμφανίζει τις υψηλότερες τιμές. Πιο συγκεκριμένα, εάν το σύστημα μας προβλέψει πως κάποιο δείγμα είναι αυτοκίνητο της συγκεκριμένης κατηγορίας είναι σωστό με ποσοστό 31%, ενώ από τις συνολικές φωτογραφίες του δεδομένου αυτοκινήτου, μπορεί να αναγνωρίσει μόλις το 40% αυτών. \n",
    "\n",
    "Τα παραπάνω αποτελέσματα δεν συνάδουν με τη διαισθητική, αρχική μας πρόβλεψη, καθώς αναμέναμε τις κατηγορίες _Bus_ και _Van_ να εμφανίζουν τις υψηλότερες αποδόσεις. Αυτό οφείλεται στο γεγονός ότι οι δύο αυτές κατηγορίες οχημάτων είναι οι περισσότερο προφανής προς ταξινόμηση, λόγω των χαρακτηριστικών διαφορών που παρουσιάζουν στο μέγεθος και στο σχήμα τους, σε σύγκριση με τα παραδοσιακά αμάξια των υπολοίπων δύο κατηγοριών. Αποδίδουμε αυτό το αποτέλεσμα στην τυχαιότητα προβλέψεων του _DummyClassifier_ και αναμένουμε να διασταυρώσουμε την εκτίμηση μας με επόμενους ταξινομητές."
   ]
  },
  {
   "cell_type": "markdown",
   "metadata": {},
   "source": [
    "#### KNeighborsClassifier"
   ]
  },
  {
   "cell_type": "markdown",
   "metadata": {},
   "source": [
    "Θα συνεχίσουμε με την εκπαίδευση ενός προεπιλεγμένου _KNeighborsClassifier_ :"
   ]
  },
  {
   "cell_type": "code",
   "execution_count": 98,
   "metadata": {},
   "outputs": [],
   "source": [
    "from sklearn.neighbors import KNeighborsClassifier\n",
    "\n",
    "knn = KNeighborsClassifier() # default n: 5\n",
    "knn.fit(cars_train, cars_train_labels) # fitting on train_set\n",
    "\n",
    "cars_predictions = knn.predict(cars_test) # predicting on test_set\n",
    "\n",
    "target_names = knn.classes_.tolist() # fetch class names\n",
    "\n",
    "knn_default = accuracy_score(cars_test_labels, cars_predictions) * 100"
   ]
  },
  {
   "cell_type": "code",
   "execution_count": 99,
   "metadata": {},
   "outputs": [
    {
     "data": {
      "text/plain": [
       "60.5882"
      ]
     },
     "execution_count": 99,
     "metadata": {},
     "output_type": "execute_result"
    }
   ],
   "source": [
    "round(knn_default, 4)"
   ]
  },
  {
   "cell_type": "markdown",
   "metadata": {},
   "source": [
    "Η ακρίβεια σε αυτήν την περίπτωση είναι αισθητά υψηλότερη από προηγουμένως. Ας εξετάσουμε τις ανάλογες μετρικές απόδοσης:"
   ]
  },
  {
   "cell_type": "code",
   "execution_count": 100,
   "metadata": {},
   "outputs": [
    {
     "data": {
      "image/png": "[encoded data removed]",
      "text/plain": [
       "<Figure size 576x432 with 2 Axes>"
      ]
     },
     "metadata": {
      "needs_background": "light"
     },
     "output_type": "display_data"
    }
   ],
   "source": [
    "matrix = confusion_matrix(cars_test_labels, cars_predictions)\n",
    "\n",
    "fig = plt.figure(figsize=(8,6))\n",
    "ax = fig.add_subplot(111)\n",
    "cax = ax.matshow(matrix, cmap=cm.get_cmap('PuBu'))\n",
    "fig.colorbar(cax)\n",
    "\n",
    "ax.set_xticklabels([''] + target_names)\n",
    "ax.set_yticklabels([''] + target_names)\n",
    "\n",
    "plt.show()"
   ]
  },
  {
   "cell_type": "code",
   "execution_count": 101,
   "metadata": {},
   "outputs": [
    {
     "name": "stdout",
     "output_type": "stream",
     "text": [
      "F1-Micro Average: 60.5882\n",
      "F1-Macro Average: 60.0919\n",
      "\n",
      "              precision    recall  f1-score   support\n",
      "\n",
      "         bus       0.76      0.86      0.81        37\n",
      "        opel       0.45      0.36      0.40        50\n",
      "        saab       0.34      0.33      0.33        40\n",
      "         van       0.80      0.93      0.86        43\n",
      "\n",
      "    accuracy                           0.61       170\n",
      "   macro avg       0.59      0.62      0.60       170\n",
      "weighted avg       0.58      0.61      0.59       170\n",
      "\n"
     ]
    }
   ],
   "source": [
    "kn_f1_micro = f1_score(cars_test_labels, cars_predictions, average='micro')*100\n",
    "kn_f1_macro = f1_score(cars_test_labels, cars_predictions, average='macro')*100\n",
    "\n",
    "print(\"F1-Micro Average: \" + str(round(kn_f1_micro, 4)))\n",
    "print(\"F1-Macro Average: \" + str(round(kn_f1_macro, 4)) + \"\\n\")\n",
    "\n",
    "print(classification_report(cars_test_labels, cars_predictions))"
   ]
  },
  {
   "cell_type": "markdown",
   "metadata": {},
   "source": [
    "Ο πίνακας σύγχυσης για το δεδομένο ταξινομητή παρατηρούμε ότι είναι περισσότερο διαγωνιοποιημένος, με υψηλά ποσοστά ακρίβειας για τις κατηγορίες _Bus_ και _Van_ , όπως αναμέναμε. Ανάλογη αύξηση σημειώνουμε και στις τιμές του *F1-score*, με παραπλήσιες τιμές για *Macro* και *Micro Average*. Οι λόγοι που οδηγούν σε αυτήν την οριακά ταύτιση των *F1-Micro* και *F1-Macro* αναλύθηκαν παραπάνω.\n",
    "\n",
    "Τέλος σημειώνουμε ότι αν και ο ταξινομητής παρουσιάζει βελτιωμένη απόδοση με προηγουμένως, αντιμετωπίζει δυσκολία στο διαχωρισμό των δύο παραδοσιακών αυτοκινήτων _Opel_ και _Saab_ , αφού παρατηρώντας την ανάκλιση των συγκεκριμένων κατηγοριών, διαπιστώνουμε ότι μπορεί να αναγνωρίσει μονάχα το 36% και 33% αυτών, αντίστοιχα. Όπως αναμέναμε η ταξινόμηση των λεωφορείων και των φορτηγών χαρακτηρίζεται από υψηλότερα ποσοστά ακριβείας, γεγονός που αποτυπώνεται και στον πίνακα σύγχυσης."
   ]
  },
  {
   "cell_type": "markdown",
   "metadata": {},
   "source": [
    "Ολοκληρώντας την πρώτη μελέτη των δεδομένων μας με τους _Dummy_ και _KNeighbors_ ταξινομητές μας, παρουσιάζουμε παρακάτω ένα διάγραμμα συγκρίνοντας τις τιμές των βαθμολογιών *F1* ξεχωριστά για κάθε ταξινομητή:"
   ]
  },
  {
   "cell_type": "code",
   "execution_count": 102,
   "metadata": {},
   "outputs": [
    {
     "data": {
      "image/png": "[encoded data removed]",
      "text/plain": [
       "<Figure size 576x432 with 1 Axes>"
      ]
     },
     "metadata": {
      "needs_background": "light"
     },
     "output_type": "display_data"
    }
   ],
   "source": [
    "# Grouped BarPlot source: https://bit.ly/36y14Sw\n",
    "\n",
    "labels = ['DummyClassifier', 'KNeighbors']\n",
    "f1_micro = [round(dc_f1_micro, 3), round(kn_f1_micro, 3)]\n",
    "f1_macro = [round(dc_f1_macro, 3), round(kn_f1_macro, 3)]\n",
    "\n",
    "width = 0.20\n",
    "x = np.arange(len(labels))\n",
    "\n",
    "fig, ax = plt.subplots(figsize=(8, 6))\n",
    "rect1 = ax.bar(x-width/2, f1_micro, width, label='F1-Micro Average', color=(0.2, 0.4, 0.6, 0.3))\n",
    "rect2 = ax.bar(x+width/2, f1_macro, width, label='F1-Macro Average', color=(0.2, 0.4, 0.6, 0.9))\n",
    "\n",
    "ax.legend()\n",
    "ax.set_xticks(x)\n",
    "ax.set_ylabel('Scores')\n",
    "ax.set_xticklabels(labels)\n",
    "ax.set_title('F1-Score Comparison')\n",
    "\n",
    "def autolabel(rects):\n",
    "    for rect in rects:\n",
    "        height = rect.get_height()\n",
    "        ax.annotate('{}'.format(height), xy=(rect.get_x()+rect.get_width()/2, height), xytext=(0, 3), \n",
    "                    textcoords=\"offset points\", ha='center', va='bottom')\n",
    "\n",
    "autolabel(rect1)\n",
    "autolabel(rect2)\n",
    "fig.tight_layout()\n",
    "\n",
    "plt.show()"
   ]
  },
  {
   "cell_type": "markdown",
   "metadata": {},
   "source": [
    "---\n",
    "\n",
    "<a id='Βελτίωση'></a>\n",
    "\n",
    "## Βελτίωση Ταξινομητών"
   ]
  },
  {
   "cell_type": "markdown",
   "metadata": {},
   "source": [
    "Το σχήμα που θα ακολουθήσουμε για τη βελτιστιποίηση των ταξινομητών θα είναι:\n",
    "\n",
    "                Επιλογή Χαρακτηριστικών - Κανονικοποίηση - Εξαγωγή Χαρακτηριστικών - Ταξινομητής\n",
    "Πιο συγκεκριμένα θα προσθέτουμε σταδιακά κάθε ένα επίπεδο και θα ελέγχουμε τις αποδόσεις των μοντέλων για κάθε ένα από αυτά. Στη συνέχεια ακολουθεί ένας πίνακας περιεχομένων που παρουσιάζει τις τεχνικές που ακολουθήσαμε. Με πράσινο χρώμα σημειώνεται η αρχιτεκτονική εκείνη που είχε τα καλύτερα αποτελέσματα και η οποία ακολουθείται στο επόμενο μέρος του Notebook, για να εκτιμηθεί στο σύνολο ελέγχου των δεδομένων μας."
   ]
  },
  {
   "cell_type": "markdown",
   "metadata": {},
   "source": [
    "[1.Standardization](#Standardization) \n",
    "\n",
    "[2.Univariate Selection - Standardization](#Univariate_SelectionStandardization)\n",
    "\n",
    "[3.Univariate Selection - Standardization - PCA](#Univariate_SelectionStandardizationPCA)\n",
    "\n",
    "[4.Univariate Selection - Standardization - ICA](#Univariate_SelectionStandardizationICA)\n",
    "\n",
    "[5.Recursive Feature Elimination - Standardization](#RFEStandardization)\n",
    "\n",
    "[6.Recursive Feature Elimination - Standardization - PCA](#RFEStandardizationPCA)\n",
    "\n",
    "[<font color='green'> 7.Recursive Feature Elimination - Standardization - ICA </font>](#RFEStandardizationICA)"
   ]
  },
  {
   "cell_type": "markdown",
   "metadata": {},
   "source": [
    "<font color='red'>Για μετρικές αξιολόγησης έχουμε στη διάθεσή μας της *F1-Micro* και *F1-Macro*. Η *F1-Micro* υπολογίζει την τιμή *F1* για το σύνολο των δεδομένων, για να καταλήξει στη μέση τιμή αυτών. Αντίθετα, η *F1-Macro* υπολογίζει την τιμή *F1* ανεξάρτητα για κάθε κατηγορία, προτού καταλήξει στην αντίστοιχη μέση τιμή. Είναι προφανές λοιπόν ότι η τελευτάια δίνει μεγαλύτερο βάρος στις λιγότερο συχνές κατηγορίες, καθώς επηρεάζεται από τις χαμηλότερες τιμές τους. Δεδομένου ότι τα δεδομένα μας είναι ισορροπημένα, δεν αναμένουμε μεγάλες διαφορές μεταξύ των δύο τιμών, όπως παρατηρήσαμε στην ταξινόμηση του προηγούμενου μέρους του Notebook. Συνεπώς, ως μετρική για την επιλογή των καλύτερων παραμέτρων κατά τη διαδικασία του *Cross_Validation*, θα κάνουμε χρήση της *F1-Micro*.</font>\n",
    "\n",
    "Σημειώνουμε ότι κατά αυτό το στάδιο θα ασχοληθούμε αποκλειστικά με τα δεδομένα εκπαίδευσής μας. Προς αξιολόγηση των μοντέλων, λοιπόν, που πρόκειται να εξετάσουμε θα ακολουθήσουμε το σχήμα της *Cross_Validation*.\n",
    "\n",
    "Προτού ξεκινήσουμε τη διαδικασία βελτιστοποίησης, θα υλοποιήσουμε μία δική μας συνάρτηση *Cross_Validation*, η οποία θα διαχωρίζει τα δεδομένα σε k μέρη και θα επιστρέφει σειριακά (k-1) ως train_set και (1) ως test_set. Σημειώνουμε ότι τα ορίσματα θα πρέπει να βρίσκονται σε μορφή NumPyArray, δεδομένου ότι θα έχουν περάσει ήδη από διαδικασία κανονικοποίησης. Θα χρησιμοποιήσουμε σχήμα διαχωρισμού δεδομένων 10-fold."
   ]
  },
  {
   "cell_type": "code",
   "execution_count": 18,
   "metadata": {},
   "outputs": [],
   "source": [
    "def KFold_Dataframe(dataset, datalabels, i, k):\n",
    "    \"\"\" Splits dataset and respective datalabels to k-folds, returns train and validation sets. \"\"\"\n",
    "    n = len(dataset)\n",
    "    test = dataset[n*(i-1)//k:n*i//k]\n",
    "    test_labels = datalabels[n*(i-1)//k:n*i//k]\n",
    "    train = pd.concat([dataset[:n*(i-1)//k], dataset[n*i//k:]])\n",
    "    train_labels = pd.concat([datalabels[:n*(i-1)//k], datalabels[n*i//k:]])\n",
    "    \n",
    "    return train, train_labels, test, test_labels\n",
    "\n",
    "def KFold_NumpyArray(dataset, datalabels, i, k):\n",
    "    \"\"\" Splits dataset and respective datalabels to k-folds, returns train and validation sets. \"\"\"\n",
    "    n = len(dataset)\n",
    "    test = dataset[n*(i-1)//k:n*i//k]\n",
    "    test_labels = datalabels[n*(i-1)//k:n*i//k]\n",
    "    train = np.concatenate((dataset[:n*(i-1)//k], dataset[n*i//k:]), axis=0)\n",
    "    train_labels = np.concatenate((datalabels[:n*(i-1)//k], datalabels[n*i//k:]), axis=0)\n",
    "    \n",
    "    return train, train_labels, test, test_labels\n",
    "\n",
    "def Cross_Validation(cars_train_scaled, cars_train_labels, k):\n",
    "    \"\"\" Yields dataset folds for cross validation. \"\"\"\n",
    "    for i in range(1, k+1):\n",
    "        train, train_labels, test, test_labels = KFold_NumpyArray(cars_train_scaled, cars_train_labels.values, i, k)\n",
    "        \n",
    "        yield train, train_labels, test, test_labels\n",
    "        \n",
    "def KFold(dataset, k):\n",
    "    \"\"\" Yields train and test indexes for a given dataset. \"\"\"\n",
    "    n = len(dataset)\n",
    "    for i in range(1, k+1):\n",
    "        curr_train_index = [num for num in list(range(0, n*(i-1)//k)) + list(range(n*i//k, n))]\n",
    "        train_index = np.asarray(curr_train_index)\n",
    "        curr_test_index = [num for num in range(n*(i-1)//k, n*i//k)]\n",
    "        test_index = np.asarray(curr_test_index)\n",
    "        \n",
    "        yield train_index, test_index"
   ]
  },
  {
   "cell_type": "markdown",
   "metadata": {},
   "source": [
    "Τον ταξινομητή *KNeighbors* θα τον εξετάσουμε σε σε διαδοχικές τιμές γειτόνων του διαστήματος [1,30]. Για λόγους εξοικονόμησης χρόνου εκπαίδευσης και υπολογιστικής ισχύς, θα δοκιμάσουμε τους περιττούς αριθμούς του διαστήματος."
   ]
  },
  {
   "cell_type": "code",
   "execution_count": 19,
   "metadata": {},
   "outputs": [],
   "source": [
    "features = [i for i in range(1,18)] # features to select for SelectKBest\n",
    "neighbors = [i for i in range(1,30,2)] # range of neighbors to examine for KNeighborsClassifier"
   ]
  },
  {
   "cell_type": "markdown",
   "metadata": {},
   "source": [
    "Τέλος, θα χρονομετρήσουμε τη διαδικασία εκπαίδευσης και αξιολόγησης των επόμενων σταδίων. Ο χρόνος εκπαίδευσης στα δεδομένα ελέγχου μας μέσω *Cross_Validation* θα απεικονίζεται στο τέλος κάθε σταδίου."
   ]
  },
  {
   "cell_type": "code",
   "execution_count": 20,
   "metadata": {},
   "outputs": [],
   "source": [
    "import time"
   ]
  },
  {
   "cell_type": "markdown",
   "metadata": {},
   "source": [
    "<a id='Standardization'></a>\n",
    "\n",
    "### 1. Standardization"
   ]
  },
  {
   "cell_type": "markdown",
   "metadata": {},
   "source": [
    "Σαν πρώτο βήμα προεπεξεργασίας θα δοκιμάσουμε μόνο την κανονικοποίηση των δεδομένων μας. Επιλέγουμε τον *StandardScaler*, προκειμένου το μοντέλο μας να είναι περισσότερο ανεκτικό σε outlier τιμές."
   ]
  },
  {
   "cell_type": "code",
   "execution_count": 12,
   "metadata": {},
   "outputs": [],
   "source": [
    "from sklearn.preprocessing import StandardScaler\n",
    "\n",
    "std_scaler = StandardScaler()\n",
    "cars_train_scaled = std_scaler.fit_transform(cars_train) # fitting/transforming on train set"
   ]
  },
  {
   "cell_type": "markdown",
   "metadata": {},
   "source": [
    "#### KNeighborsClassifier - Scaled"
   ]
  },
  {
   "cell_type": "code",
   "execution_count": 126,
   "metadata": {},
   "outputs": [],
   "source": [
    "start_time = time.time()\n",
    "\n",
    "result_knn_scaled = {}\n",
    "\n",
    "for el in neighbors:\n",
    "    acc = []\n",
    "    knn = KNeighborsClassifier(n_neighbors=el)\n",
    "    for train, train_labels, test, test_labels in Cross_Validation(cars_train_scaled, cars_train_labels, 10):\n",
    "        knn.fit(train, train_labels)\n",
    "        pred = knn.predict(test)\n",
    "        acc.append(f1_score(test_labels, pred, average='micro') * 100)\n",
    "    result_knn_scaled[sum(acc)/len(acc)] = el\n",
    "\n",
    "knn_scaled = max(result_knn_scaled)\n",
    "\n",
    "final_time = (time.time() - start_time)/60"
   ]
  },
  {
   "cell_type": "code",
   "execution_count": 127,
   "metadata": {},
   "outputs": [
    {
     "name": "stdout",
     "output_type": "stream",
     "text": [
      "Training Time: 0.0216 minutes\n",
      "\n",
      "Default: 60.5882\n",
      "Scaled with 3 neighbors: 71.1611\n"
     ]
    }
   ],
   "source": [
    "print(\"Training Time: \" + str(round(final_time, 4)) + \" minutes\" + \"\\n\")\n",
    "print(\"Default: \" + str(round(kn_f1_micro, 4)))\n",
    "print(\"Scaled with \" + str(result_knn_scaled[knn_scaled])+ \" neighbors: \" + str(round(knn_scaled, 4)))"
   ]
  },
  {
   "cell_type": "markdown",
   "metadata": {},
   "source": [
    "Παρατηρούμε ότι η κανονικοποίηση επηρέασε θετικά την απόδοση του ταξινομητή μας. Θα την συμπεριλάβουμε λοιπόν στην αρχιτεκτονική μετασχηματισμού των δεδομένων μας, προσθέτωντας πριν από αυτή τεχνικές επιλογής χαρακτηριστικών."
   ]
  },
  {
   "cell_type": "markdown",
   "metadata": {},
   "source": [
    "<a id='Univariate_SelectionStandardization'></a>\n",
    "\n",
    "### 2. Univariate Selection, Standardization"
   ]
  },
  {
   "cell_type": "markdown",
   "metadata": {},
   "source": [
    "Ως τεχνική επιλογής χαρακτηριστικών επιλέγουμε τη συνάρτηση *SelectKBest*, η οποία με τη βοήθεια της *mutual_info_classif* θα επιλέξει εκείνα τα χαρακτηριστικά που έχουν τη μεγαλύτερη εξάρτηση με την κατηγορία των δειγμάτων μας. Προφανώς μετά την επιλογή, κανονικοποιούμε τα δεδομένα μας και έπειτα τα εκπαιδεύουμε στους ταξινομητές μας."
   ]
  },
  {
   "cell_type": "code",
   "execution_count": 11,
   "metadata": {},
   "outputs": [],
   "source": [
    "from sklearn.feature_selection import SelectKBest\n",
    "from sklearn.feature_selection import mutual_info_classif"
   ]
  },
  {
   "cell_type": "markdown",
   "metadata": {},
   "source": [
    "#### KNeighborsClassifier - UniSelected, Scaled"
   ]
  },
  {
   "cell_type": "code",
   "execution_count": 128,
   "metadata": {},
   "outputs": [],
   "source": [
    "start_time = time.time()\n",
    "\n",
    "knn_uni_scaled = 0\n",
    "\n",
    "for feat in features:\n",
    "    fs = SelectKBest(score_func=mutual_info_classif, k=feat)\n",
    "    cars_train_selected = fs.fit_transform(cars_train, cars_train_labels)\n",
    "    cars_train_selected_scaled = std_scaler.fit_transform(cars_train_selected)\n",
    "    for el in neighbors:\n",
    "        acc = []\n",
    "        knn = KNeighborsClassifier(n_neighbors=el)\n",
    "        for train, train_labels, test, test_labels in Cross_Validation(cars_train_selected_scaled, cars_train_labels, 10):\n",
    "            knn.fit(train, train_labels)\n",
    "            pred = knn.predict(test)\n",
    "            acc.append(f1_score(test_labels, pred, average='micro') * 100)\n",
    "        if sum(acc)/len(acc) > knn_uni_scaled:\n",
    "            knn_uni_scaled = sum(acc)/len(acc)\n",
    "            knn_uni_scaled_feat = feat\n",
    "            knn_uni_scaled_neigh = el\n",
    "\n",
    "final_time = (time.time() - start_time)/60"
   ]
  },
  {
   "cell_type": "code",
   "execution_count": 129,
   "metadata": {},
   "outputs": [
    {
     "name": "stdout",
     "output_type": "stream",
     "text": [
      "Training Time: 0.3734 minutes\n",
      "\n",
      "Default: 60.5882\n",
      "Scaled with 3 neighbors: 71.1611\n",
      "UniSelected_Scaled with 13 neighbors and 16 features: 73.8191\n"
     ]
    }
   ],
   "source": [
    "print(\"Training Time: \" + str(round(final_time, 4)) + \" minutes\" + \"\\n\")\n",
    "print(\"Default: \" + str(round(kn_f1_micro, 4)))\n",
    "print(\"Scaled with \" + str(result_knn_scaled[knn_scaled])+ \" neighbors: \" + str(round(knn_scaled, 4)))\n",
    "print(\"UniSelected_Scaled with \" + str(knn_uni_scaled_neigh)+ \" neighbors and \" + str(knn_uni_scaled_feat) + \" features: \" + str(round(knn_uni_scaled, 4)))"
   ]
  },
  {
   "cell_type": "markdown",
   "metadata": {},
   "source": [
    "Η απόδοση του ταξινομητή μας βελτιώθηκε με την επιλογή χαρακτηριστικών που εφαρμόσαμε. Σαν τελικό στάδιο θα προσθέσουμε τη διαδικασία εξαγωγής χαρακτηριστικών."
   ]
  },
  {
   "cell_type": "markdown",
   "metadata": {},
   "source": [
    "<a id='Univariate_SelectionStandardizationPCA'></a>\n",
    "\n",
    "### 3. Univariate Selection, Standardization, PCA"
   ]
  },
  {
   "cell_type": "markdown",
   "metadata": {},
   "source": [
    "Συνεχίζουμε την παραπάνω διαδικασία με τη μείωση της διαστατικότητας των δεδομένων μας. Αρχικά θα δοκιμάσουμε την *Principal Component Analysis (PCA)*, με όρισμα τον πραγματικό αριθμό 0.95 που αντιστοιχεί στο ελάχιστο ποσοστό διακύμανσης που θα πρέπει να διατηρούν τα χαρακτηριστικά μας, ούτως ώστε να μην αφαιρεθούν από το σύνολο."
   ]
  },
  {
   "cell_type": "code",
   "execution_count": 10,
   "metadata": {},
   "outputs": [],
   "source": [
    "from sklearn.decomposition import PCA\n",
    "\n",
    "pca = PCA(n_components=0.95)"
   ]
  },
  {
   "cell_type": "markdown",
   "metadata": {},
   "source": [
    "#### KNeighborsClassifier - UniSelected, Scaled, PCA"
   ]
  },
  {
   "cell_type": "code",
   "execution_count": 131,
   "metadata": {},
   "outputs": [],
   "source": [
    "start_time = time.time()\n",
    "\n",
    "knn_uni_scaled_pca = 0\n",
    "\n",
    "for feat in features:\n",
    "    fs = SelectKBest(score_func=mutual_info_classif, k=feat)\n",
    "    cars_train_selected = fs.fit_transform(cars_train, cars_train_labels)\n",
    "    cars_train_selected_scaled = std_scaler.fit_transform(cars_train_selected)\n",
    "    cars_train_selected_scaled_pca = pca.fit_transform(cars_train_selected_scaled)\n",
    "    for el in neighbors:\n",
    "        acc = []\n",
    "        knn = KNeighborsClassifier(n_neighbors=el)\n",
    "        for train, train_labels, test, test_labels in Cross_Validation(cars_train_selected_scaled_pca, cars_train_labels, 10):\n",
    "            knn.fit(train, train_labels)\n",
    "            pred = knn.predict(test)\n",
    "            acc.append(f1_score(test_labels, pred, average='micro') * 100)\n",
    "        if sum(acc)/len(acc) > knn_uni_scaled_pca:\n",
    "            knn_uni_scaled_pca = sum(acc)/len(acc)\n",
    "            knn_uni_scaled_pca_feat = feat\n",
    "            knn_uni_scaled_pca_neigh = el\n",
    "\n",
    "final_time = (time.time() - start_time)/60"
   ]
  },
  {
   "cell_type": "code",
   "execution_count": 132,
   "metadata": {},
   "outputs": [
    {
     "name": "stdout",
     "output_type": "stream",
     "text": [
      "Training Time: 0.4549 minutes\n",
      "\n",
      "Default: 60.5882\n",
      "Scaled with 3 neighbors: 71.1611\n",
      "UniSelected_Scaled with 13 neighbors and 16 features: 73.8191\n",
      "UniSelected_Scaled_PCA with 15 neighbors and 13 features: 69.6817\n"
     ]
    }
   ],
   "source": [
    "print(\"Training Time: \" + str(round(final_time, 4)) + \" minutes\" + \"\\n\")\n",
    "print(\"Default: \" + str(round(kn_f1_micro, 4)))\n",
    "print(\"Scaled with \" + str(result_knn_scaled[knn_scaled])+ \" neighbors: \" + str(round(knn_scaled, 4)))\n",
    "print(\"UniSelected_Scaled with \" + str(knn_uni_scaled_neigh)+ \" neighbors and \" + str(knn_uni_scaled_feat) + \" features: \" + str(round(knn_uni_scaled, 4)))\n",
    "print(\"UniSelected_Scaled_PCA with \" + str(knn_uni_scaled_pca_neigh)+ \" neighbors and \" + str(knn_uni_scaled_pca_feat) + \" features: \" + str(round(knn_uni_scaled_pca, 4)))"
   ]
  },
  {
   "cell_type": "markdown",
   "metadata": {},
   "source": [
    "Η τεχνική _PCA_ δε βελτίωσε περαιτέρω την απόδοση των ταξινομητών μας και για αυτό δοκιμάζουμε στη συνέχεια την τεχνική *ICA*."
   ]
  },
  {
   "cell_type": "markdown",
   "metadata": {},
   "source": [
    "<a id='Univariate_SelectionStandardizationICA'></a>\n",
    "\n",
    "### 4. Univariate Selection, Standardization, ICA"
   ]
  },
  {
   "cell_type": "markdown",
   "metadata": {},
   "source": [
    "Θα εφαρμόσουμε την *Independent Component Analysis (ICA)*, με σκοπό να διαχωρίσουμε τα δεδομένα μας σε ανεξάρτητα δομικά στοιχεία και να κρατήσουμε τα περισσότερο σημαντικά από αυτά. Για να εξερευνήσουμε ποιός είναι ο αριθμός των χρήσιμων χαρακτηριστικών, θα εξετάσουμε προφανώς το διάστημα [1,18] για κάθε διαφοερετικό πλήθος γειτόνων του διαστήματός μας. Παράλληλα θα δοκιμάζουμε και όλους τους πιθανούς συνδυασμούς χρήσιμων χαρακτηριστικών μέσω της *SelectKBest*."
   ]
  },
  {
   "cell_type": "code",
   "execution_count": 9,
   "metadata": {},
   "outputs": [],
   "source": [
    "from sklearn.decomposition import FastICA"
   ]
  },
  {
   "cell_type": "markdown",
   "metadata": {},
   "source": [
    "#### KNeighborsClassifier - UniSelected, Scaled, ICA"
   ]
  },
  {
   "cell_type": "code",
   "execution_count": 133,
   "metadata": {},
   "outputs": [],
   "source": [
    "start_time = time.time()\n",
    "\n",
    "knn_uni_scaled_ica = 0\n",
    "\n",
    "for comp in features:\n",
    "    ica = FastICA(n_components=comp)\n",
    "    for feat in features:\n",
    "        fs = SelectKBest(score_func=mutual_info_classif, k=feat)\n",
    "        cars_train_selected = fs.fit_transform(cars_train, cars_train_labels)\n",
    "        cars_train_selected_scaled = std_scaler.fit_transform(cars_train_selected)\n",
    "        cars_train_selected_scaled_ica = ica.fit_transform(cars_train_selected_scaled)\n",
    "        for el in neighbors:\n",
    "            acc = []\n",
    "            knn = KNeighborsClassifier(n_neighbors=el)\n",
    "            for train, train_labels, test, test_labels in Cross_Validation(cars_train_selected_scaled_ica, cars_train_labels, 10):\n",
    "                knn.fit(train, train_labels)\n",
    "                pred = knn.predict(test)\n",
    "                acc.append(f1_score(test_labels, pred, average='micro') * 100)\n",
    "            if sum(acc)/len(acc) > knn_uni_scaled_ica:\n",
    "                knn_uni_scaled_ica = sum(acc)/len(acc)\n",
    "                knn_uni_scaled_ica_feat = feat\n",
    "                knn_uni_scaled_ica_neigh = el\n",
    "                knn_uni_scaled_ica_comps = comp\n",
    "                \n",
    "final_time = (time.time() - start_time)/60"
   ]
  },
  {
   "cell_type": "code",
   "execution_count": 134,
   "metadata": {},
   "outputs": [
    {
     "name": "stdout",
     "output_type": "stream",
     "text": [
      "Training Time: 7.9276 minutes\n",
      "\n",
      "Default: 60.5882\n",
      "Scaled with 3 neighbors: 71.1611\n",
      "UniSelected_Scaled with 13 neighbors and 16 features: 73.8191\n",
      "UniSelected_Scaled_PCA with 15 neighbors and 13 features: 69.6817\n",
      "UniSelected_Scaled_ICA with 12 neighbors, 16 features and 16 componetns: 80.4807\n"
     ]
    }
   ],
   "source": [
    "print(\"Training Time: \" + str(round(final_time, 4)) + \" minutes\" + \"\\n\")\n",
    "print(\"Default: \" + str(round(kn_f1_micro, 4)))\n",
    "print(\"Scaled with \" + str(result_knn_scaled[knn_scaled])+ \" neighbors: \" + str(round(knn_scaled, 4)))\n",
    "print(\"UniSelected_Scaled with \" + str(knn_uni_scaled_neigh)+ \" neighbors and \" + str(knn_uni_scaled_feat) + \" features: \" + str(round(knn_uni_scaled, 4)))\n",
    "print(\"UniSelected_Scaled_PCA with \" + str(knn_uni_scaled_pca_neigh)+ \" neighbors and \" + str(knn_uni_scaled_pca_feat) + \" features: \" + str(round(knn_uni_scaled_pca, 4)))\n",
    "print(\"UniSelected_Scaled_ICA with \" + str(knn_uni_scaled_ica_neigh)+ \" neighbors, \" + str(knn_uni_scaled_ica_feat) + \" features and \" + str(knn_uni_scaled_ica_comps) + \" componetns: \" + str(round(knn_uni_scaled_ica, 4)))"
   ]
  },
  {
   "cell_type": "markdown",
   "metadata": {},
   "source": [
    "Συνολικά το παραπάνω σχήμα, πρόκειται για ένα μοντέλο με προοπτικές αφού παρατηρούμε ότι βελτιώσαμε την απόδοση του *KNeighborsClassifier* από 60.59% σε 80.48%. Προτού ωστόσο καταλήξουμε σε αυτό θα δοκιμάσουμε ακόμα μία σειρά μετασχηματισμών για τα δεδομένα μας."
   ]
  },
  {
   "cell_type": "markdown",
   "metadata": {},
   "source": [
    "<a id='RFEStandardization'></a>\n",
    "\n",
    "### 5. Recursive Feature Elimination, Standardization"
   ]
  },
  {
   "cell_type": "markdown",
   "metadata": {},
   "source": [
    "Σε αυτή τη προσέγγισή μας θα ακολουθήσουμε την τεχνική της σταδιακής αφαίρεσης χαρακτηριστικών (*Recursive Feature Elimination*) ελέγχοντας την απόδοση του ταξινομητή μας σε κάθε κατάσταση από εκείνες που προκύπτουν. Για να χρησιμοποιήσουμε την αντίστοιχη συνάρτηση του *SkLearn*, θα χρειαστούμε τη *LogisticRegression* ως εκτιμητή, εκμεταλλευόμενοι τους συντελεστές των χαρακτηριστικών που προκύπτουν απο τη διαδικασία."
   ]
  },
  {
   "cell_type": "code",
   "execution_count": 8,
   "metadata": {},
   "outputs": [],
   "source": [
    "from sklearn.feature_selection import RFE\n",
    "from sklearn.linear_model import LogisticRegression"
   ]
  },
  {
   "cell_type": "markdown",
   "metadata": {},
   "source": [
    "#### KNeighborsClassifier - RFE, Scaled"
   ]
  },
  {
   "cell_type": "code",
   "execution_count": 135,
   "metadata": {},
   "outputs": [],
   "source": [
    "start_time = time.time()\n",
    "\n",
    "knn_rfe_scaled = 0\n",
    "\n",
    "for feat in features:\n",
    "    rfe_selector = RFE(estimator=LogisticRegression(), n_features_to_select=feat, step=1)\n",
    "    cars_train_selected = rfe_selector.fit_transform(cars_train, cars_train_labels)\n",
    "    cars_train_selected_scaled = std_scaler.fit_transform(cars_train_selected)\n",
    "    for el in neighbors:\n",
    "        acc = []\n",
    "        knn = KNeighborsClassifier(n_neighbors=el)\n",
    "        for train, train_labels, test, test_labels in Cross_Validation(cars_train_selected_scaled, cars_train_labels, 10):\n",
    "            knn.fit(train, train_labels)\n",
    "            pred = knn.predict(test)\n",
    "            acc.append(f1_score(test_labels, pred, average='micro') * 100)\n",
    "        if sum(acc)/len(acc) > knn_rfe_scaled:\n",
    "            knn_rfe_scaled = sum(acc)/len(acc)\n",
    "            knn_rfe_scaled_neigh = el\n",
    "            knn_rfe_scaled_feat = feat\n",
    "            \n",
    "final_time = (time.time() - start_time)/60"
   ]
  },
  {
   "cell_type": "code",
   "execution_count": 136,
   "metadata": {},
   "outputs": [
    {
     "name": "stdout",
     "output_type": "stream",
     "text": [
      "Training Time: 0.4095 minutes\n",
      "\n",
      "Default: 60.5882\n",
      "RFESelected_Scaled with 3 neighbors: 71.1611\n"
     ]
    }
   ],
   "source": [
    "print(\"Training Time: \" + str(round(final_time, 4)) + \" minutes\" + \"\\n\")\n",
    "print(\"Default: \" + str(round(kn_f1_micro, 4)))\n",
    "print(\"RFESelected_Scaled with \" + str(result_knn_scaled[knn_scaled])+ \" neighbors: \" + str(round(knn_scaled, 4)))"
   ]
  },
  {
   "cell_type": "markdown",
   "metadata": {},
   "source": [
    "Παρατηρούμε ότι η παραπάνω διαδικασία βελτιώνει και πάλι τις αποδόσεις του ταξινομητή μας. Θα προχωρήσουμε το μοντέλο μας, προσθέτοντας τεχνικές εξαγωγής χαρακτηριστικών."
   ]
  },
  {
   "cell_type": "markdown",
   "metadata": {},
   "source": [
    "<a id='RFEStandardizationPCA'></a>\n",
    "\n",
    "### 6. Recursive Feature Elimination, Standardization, PCA"
   ]
  },
  {
   "cell_type": "markdown",
   "metadata": {},
   "source": [
    "Όπως και προηγουμένως, θα ξεκινήσουμε με *Principal Components Analysis (PCA)*:"
   ]
  },
  {
   "cell_type": "markdown",
   "metadata": {},
   "source": [
    "#### KNeighborsClassifier - RFE, Scaled, PCA"
   ]
  },
  {
   "cell_type": "code",
   "execution_count": 137,
   "metadata": {},
   "outputs": [],
   "source": [
    "start_time = time.time()\n",
    "\n",
    "knn_rfe_scaled_pca = 0\n",
    "\n",
    "for feat in features:\n",
    "    rfe_selector = RFE(estimator=LogisticRegression(), n_features_to_select=feat, step=1)\n",
    "    cars_train_selected = rfe_selector.fit_transform(cars_train, cars_train_labels)\n",
    "    cars_train_selected_scaled = std_scaler.fit_transform(cars_train_selected)\n",
    "    cars_train_selected_scaled_pca = pca.fit_transform(cars_train_selected_scaled)\n",
    "    for el in neighbors:\n",
    "        acc = []\n",
    "        knn = KNeighborsClassifier(n_neighbors=el)\n",
    "        for train, train_labels, test, test_labels in Cross_Validation(cars_train_selected_scaled_pca, cars_train_labels, 10):\n",
    "            knn.fit(train, train_labels)\n",
    "            pred = knn.predict(test)\n",
    "            acc.append(f1_score(test_labels, pred, average='micro') * 100)\n",
    "        if sum(acc)/len(acc) > knn_rfe_scaled_pca:\n",
    "            knn_rfe_scaled_pca = sum(acc)/len(acc)\n",
    "            knn_rfe_scaled_pca_neigh = el\n",
    "            knn_rfe_scaled_pca_feat = feat\n",
    "\n",
    "final_time = (time.time() - start_time)/60"
   ]
  },
  {
   "cell_type": "code",
   "execution_count": 138,
   "metadata": {},
   "outputs": [
    {
     "name": "stdout",
     "output_type": "stream",
     "text": [
      "Training Time: 0.4353 minutes\n",
      "\n",
      "Default: 60.5882\n",
      "RFESelected_Scaled with 3 neighbors: 71.1611\n",
      "RFESelected_Scaled_PCA with 15 neighbors, 12 features: 70.709\n"
     ]
    }
   ],
   "source": [
    "print(\"Training Time: \" + str(round(final_time, 4)) + \" minutes\" + \"\\n\")\n",
    "print(\"Default: \" + str(round(kn_f1_micro, 4)))\n",
    "print(\"RFESelected_Scaled with \" + str(result_knn_scaled[knn_scaled])+ \" neighbors: \" + str(round(knn_scaled, 4)))\n",
    "print(\"RFESelected_Scaled_PCA with \" + str(knn_rfe_scaled_pca_neigh)+ \" neighbors, \" + str(knn_rfe_scaled_pca_feat) + \" features: \" + str(round(knn_rfe_scaled_pca, 4)))"
   ]
  },
  {
   "cell_type": "markdown",
   "metadata": {},
   "source": [
    "Παρατηρούμε ότι η *PCA* δεν συνέβαλε στη βελτίωση της απόδοσης του ταξινομητή μας, όπως παρατηρήσαμε και στην προηγούμενη αρχιτεκτονική που ακολουθήσαμε."
   ]
  },
  {
   "cell_type": "markdown",
   "metadata": {},
   "source": [
    "<a id='RFEStandardizationICA'></a>\n",
    "\n",
    "### 7. Recursive Feature Elimination, Standardization, ICA"
   ]
  },
  {
   "cell_type": "markdown",
   "metadata": {},
   "source": [
    "Έναντι της *PCA*, προσθέτουμε στην αρχιτεκτονική μετασχηματισμού των δεδομένων μας την τεχνική *ICA*:"
   ]
  },
  {
   "cell_type": "markdown",
   "metadata": {},
   "source": [
    "#### KNeighborsClassifier - RFE, Scaled, ICA"
   ]
  },
  {
   "cell_type": "code",
   "execution_count": 139,
   "metadata": {},
   "outputs": [],
   "source": [
    "start_time = time.time()\n",
    "\n",
    "knn_rfe_scaled_ica = 0\n",
    "\n",
    "for comp in features:\n",
    "    ica = FastICA(n_components=comp)\n",
    "    for feat in features:\n",
    "        rfe_selector = RFE(estimator=LogisticRegression(), n_features_to_select=feat, step=1)\n",
    "        cars_train_selected = rfe_selector.fit_transform(cars_train, cars_train_labels)\n",
    "        cars_train_selected_scaled = std_scaler.fit_transform(cars_train_selected)\n",
    "        cars_train_selected_scaled_ica = ica.fit_transform(cars_train_selected_scaled)\n",
    "        for el in neighbors:\n",
    "            acc = []\n",
    "            knn = KNeighborsClassifier(n_neighbors=el)\n",
    "            for train, train_labels, test, test_labels in Cross_Validation(cars_train_selected_scaled_ica, cars_train_labels, 10):\n",
    "                knn.fit(train, train_labels)\n",
    "                pred = knn.predict(test)\n",
    "                acc.append(f1_score(test_labels, pred, average='micro') * 100)\n",
    "            if sum(acc)/len(acc) > knn_rfe_scaled_ica:\n",
    "                knn_rfe_scaled_ica = sum(acc)/len(acc)\n",
    "                knn_rfe_scaled_ica_neigh = el\n",
    "                knn_rfe_scaled_ica_feat = feat\n",
    "                knn_rfe_scaled_ica_comps = comp\n",
    "                \n",
    "final_time = (time.time() - start_time)/60"
   ]
  },
  {
   "cell_type": "code",
   "execution_count": 140,
   "metadata": {},
   "outputs": [
    {
     "name": "stdout",
     "output_type": "stream",
     "text": [
      "Training Time: 7.7513 minutes\n",
      "\n",
      "Default: 60.5882\n",
      "RFESelected_Scaled with 3 neighbors: 71.1611\n",
      "RFESelected_Scaled_PCA with 15 neighbors, 12 features: 70.709\n",
      "RFESelected_Scaled_ICA with 9 neighbors, 9 features and 9 components: 81.363\n"
     ]
    }
   ],
   "source": [
    "print(\"Training Time: \" + str(round(final_time, 4)) + \" minutes\" + \"\\n\")\n",
    "print(\"Default: \" + str(round(kn_f1_micro, 4)))\n",
    "print(\"RFESelected_Scaled with \" + str(result_knn_scaled[knn_scaled])+ \" neighbors: \" + str(round(knn_scaled, 4)))\n",
    "print(\"RFESelected_Scaled_PCA with \" + str(knn_rfe_scaled_pca_neigh)+ \" neighbors, \" + str(knn_rfe_scaled_pca_feat) + \" features: \" + str(round(knn_rfe_scaled_pca, 4)))\n",
    "print(\"RFESelected_Scaled_ICA with \" + str(knn_rfe_scaled_ica_neigh)+ \" neighbors, \" + str(knn_rfe_scaled_ica_feat) + \" features and \" + str(knn_rfe_scaled_ica_comps) + \" components: \" + str(round(knn_rfe_scaled_ica, 4)))"
   ]
  },
  {
   "cell_type": "markdown",
   "metadata": {},
   "source": [
    "Όπως και προηγουμένως, η τεχνική *ICA* επιδρά θετικά στη βελτίωση της απόδοσης του ταξινομητή μας. Πιο συγκεκριμένα, βελτιώσαμε την ακρίβεια του *KNeighborsClassifier* από 60.59 % σε 81.36%, σε ότι αφορά το *F1-Micro Score* του. Οι τιμές αυτές είναι οριακά καλύτερες από το προηγούμενο σχήμα μετασχηματισμών που ακολουθήσαμε."
   ]
  },
  {
   "cell_type": "markdown",
   "metadata": {},
   "source": [
    "---\n",
    "\n",
    "<a id='Final'></a>\n",
    "\n",
    "## Τελική Αρχιτεκτονική Μετασχηματισμών"
   ]
  },
  {
   "cell_type": "markdown",
   "metadata": {},
   "source": [
    "Συγκρίνοντας τα παραπάνω σχήματα αρχιτεκτονικών που δοκιμάσαμε στα δεδομένα εκπαίδευσής μας καταλήγουμε ότι το αποδοτικότερο σχήμα είναι:\n",
    "\n",
    "           Recursive Feature Elimination(RFE) - Standardization - Independent Component Analysis(ICA)\n",
    "Πιο συγκεκριμένα, οι βέλτιστες τιμές στις οποίες καταλήξαμε είναι:\n",
    "\n",
    "- **KNeighbors:** 9 Features επιλογής για RFE μέσω LogisticRegression, 9 Components για ICA και 9 γείτονες για KNeighborsClassifier\n",
    "    \n",
    "Η παραπάνω αρχιτεκτονική χρειάστηκε συνολικό χρόνο εκπαίδευσης περίπου ίσο με 9 λεπτά. Κάτι τέτοιο είναι λογικό, αφού δοκιμάζαμε συνδυασμούς για κάθε διαφορετικό δείγμα επιλογής, κάθε ανεξάρτητο παράγοντα εξαγωγής χαρακτηριστικών και κάθε πιθανό πλήθος γειτόνων. Παρόλα αυτά ανεμένουμε μία βελτίωση στην απόδοση των ταξινομητών μας της τάξης του 15-20%.    \n",
    "\n",
    "Σημειώνουμε ότι διάφορες παράμετροι των συναρτήσεων και τον αλγορίθμων που χρησιμοποιήθηκαν εξετάστηκαν μονάχα στα δεδομένα εκπαίδευσης, ώστε να αποφύγουμε το overfitting στο σύνολο των δειγμάτων μας. Επειδή οι υπερπαράμετροι έχουν βελτιστοποιηθεί στο σύνολο των δεδομένων εκπαίδευσης, αναμένουμε σίγουρα χαμηλότερη απόδοση στο σύνολο δεδομένων ελέγχου, η οποία ωστόσο θα είναι βελτιωμένη από την αρχική.\n",
    "\n",
    "Στη συνέχεια πρόκειται να εφαρμόσουμε τους αντίστοιχους μετασχηματισμούς και στα δεδομένα ελέγχου και τελικά να εκτιμήσουμε την τελική απόδοση των μοντέλων μας:"
   ]
  },
  {
   "cell_type": "code",
   "execution_count": 14,
   "metadata": {},
   "outputs": [],
   "source": [
    "# Recursive Feature Elimination\n",
    "rfe_selector = RFE(estimator=LogisticRegression(), n_features_to_select=9, step=1)\n",
    "cars_train_selected = rfe_selector.fit_transform(cars_train, cars_train_labels) \n",
    "cars_test_selected = rfe_selector.transform(cars_test)\n",
    "\n",
    "# Standardization\n",
    "std_scaler = StandardScaler()\n",
    "cars_train_selected_scaled = std_scaler.fit_transform(cars_train_selected)\n",
    "cars_test_selected_scaled = std_scaler.transform(cars_test_selected)\n",
    "\n",
    "# Independent Component Analysis\n",
    "ica = FastICA(n_components=9)\n",
    "cars_train_prepared = ica.fit_transform(cars_train_selected_scaled)\n",
    "cars_test_prepared = ica.transform(cars_test_selected_scaled)"
   ]
  },
  {
   "cell_type": "markdown",
   "metadata": {},
   "source": [
    "#### DummyClassifier"
   ]
  },
  {
   "cell_type": "code",
   "execution_count": 39,
   "metadata": {},
   "outputs": [],
   "source": [
    "from sklearn.dummy import DummyClassifier\n",
    "from sklearn.metrics import accuracy_score, confusion_matrix\n",
    "import matplotlib.pyplot as plt\n",
    "from matplotlib import cm"
   ]
  },
  {
   "cell_type": "code",
   "execution_count": 18,
   "metadata": {},
   "outputs": [],
   "source": [
    "dc = DummyClassifier()\n",
    "\n",
    "dc.fit(cars_train_prepared, cars_train_labels)\n",
    "dummy_final_predictions = dc.predict(cars_test_prepared)\n",
    "\n",
    "target_names = dc.classes_.tolist() # fetch class names\n",
    "\n",
    "dummy_final = accuracy_score(cars_test_labels, dummy_final_predictions) * 100"
   ]
  },
  {
   "cell_type": "code",
   "execution_count": 32,
   "metadata": {},
   "outputs": [
    {
     "name": "stdout",
     "output_type": "stream",
     "text": [
      "Dummy_Default: 21.764705882352942\n",
      "Dummy_Optimized: 24.705882352941178\n"
     ]
    }
   ],
   "source": [
    "print(\"Dummy_Default: \" + str(dummy_default))\n",
    "print(\"Dummy_Optimized: \" + str(dummy_final))"
   ]
  },
  {
   "cell_type": "code",
   "execution_count": 40,
   "metadata": {},
   "outputs": [
    {
     "data": {
      "image/png": "[encoded data removed]",
      "text/plain": [
       "<Figure size 576x432 with 2 Axes>"
      ]
     },
     "metadata": {
      "needs_background": "light"
     },
     "output_type": "display_data"
    }
   ],
   "source": [
    "matrix = confusion_matrix(cars_test_labels, dummy_final_predictions)\n",
    "\n",
    "fig = plt.figure(figsize=(8,6))\n",
    "ax = fig.add_subplot(111)\n",
    "cax = ax.matshow(matrix, cmap=cm.get_cmap('PuBu'))\n",
    "fig.colorbar(cax)\n",
    "\n",
    "ax.set_xticklabels([''] + target_names)\n",
    "ax.set_yticklabels([''] + target_names)\n",
    "\n",
    "plt.show()"
   ]
  },
  {
   "cell_type": "code",
   "execution_count": 145,
   "metadata": {},
   "outputs": [
    {
     "name": "stdout",
     "output_type": "stream",
     "text": [
      "F1-Micro Average: 25.2941\n",
      "F1-Macro Average: 25.0019\n",
      "\n",
      "              precision    recall  f1-score   support\n",
      "\n",
      "         bus       0.22      0.22      0.22        37\n",
      "        opel       0.32      0.18      0.23        50\n",
      "        saab       0.23      0.35      0.28        40\n",
      "         van       0.27      0.28      0.28        43\n",
      "\n",
      "    accuracy                           0.25       170\n",
      "   macro avg       0.26      0.26      0.25       170\n",
      "weighted avg       0.26      0.25      0.25       170\n",
      "\n"
     ]
    }
   ],
   "source": [
    "dc_f1_micro_final = f1_score(cars_test_labels, dummy_final_predictions, average='micro')*100\n",
    "dc_f1_macro_final = f1_score(cars_test_labels, dummy_final_predictions, average='macro')*100\n",
    "\n",
    "print(\"F1-Micro Average: \" + str(round(dc_f1_micro_final, 4)))\n",
    "print(\"F1-Macro Average: \" + str(round(dc_f1_macro_final, 4)) + \"\\n\")\n",
    "\n",
    "print(classification_report(cars_test_labels, dummy_final_predictions))"
   ]
  },
  {
   "cell_type": "markdown",
   "metadata": {},
   "source": [
    "Παρατηρούμε ότι η βελτίωση στον *DummyClassifier* δεν είναι σημαντική, το οποίο αποδίδουμε στην τυχαιότητα που τον χαρακτηρίζει. Όπως έχουμε αναφέρει και παραπάνω η διαφορά μεταξύ *F1-Micro* και *F1-Macro* δεν είναι μεγάλη λόγω του ισορροπημένου συνόλου δεδομένων μας και της ομοιότητας μεταξύ ακρίβειας και ανάκλισης που χαρακτηρίζει τις κατηγορίες μας. Για τη συγκεκριμένη περίπτωση του ταξινομητή, η κατηγορία *Opel* εμφανίζει την υψηλότερη ακρίβεια, αφού ο αλγόριθμος είναι σωστός για τις προβλέψεις του στη δεδομένη κατηγορία με ποσοστό 33%. Η κατηγορία *Saab* χαρακτηρίζεται από την υψηλότερη ανάκλιση, με το μοντέλο μας να είναι ικανό να αναγνωρίσει το 35% όλων των αντίστοιχων δειγμάτων."
   ]
  },
  {
   "cell_type": "markdown",
   "metadata": {},
   "source": [
    "#### KNeighborsClassifier"
   ]
  },
  {
   "cell_type": "code",
   "execution_count": 150,
   "metadata": {},
   "outputs": [],
   "source": [
    "knn = KNeighborsClassifier(n_neighbors=9)\n",
    "\n",
    "knn.fit(cars_train_prepared, cars_train_labels)\n",
    "knn_final_predictions = knn.predict(cars_test_prepared)\n",
    "\n",
    "target_names = knn.classes_.tolist() # fetch class names\n",
    "\n",
    "knn_final = accuracy_score(cars_test_labels, knn_final_predictions) * 100"
   ]
  },
  {
   "cell_type": "code",
   "execution_count": 151,
   "metadata": {},
   "outputs": [
    {
     "name": "stdout",
     "output_type": "stream",
     "text": [
      "KNeighbors_Default: 60.5882\n",
      "KNeighbors_Optimized: 75.2941\n"
     ]
    }
   ],
   "source": [
    "print(\"KNeighbors_Default: \" + str(round(knn_default, 4)))\n",
    "print(\"KNeighbors_Optimized: \" + str(round(knn_final, 4)))"
   ]
  },
  {
   "cell_type": "code",
   "execution_count": 152,
   "metadata": {},
   "outputs": [
    {
     "data": {
      "image/png": "[encoded data removed]",
      "text/plain": [
       "<Figure size 576x432 with 2 Axes>"
      ]
     },
     "metadata": {
      "needs_background": "light"
     },
     "output_type": "display_data"
    }
   ],
   "source": [
    "matrix = confusion_matrix(cars_test_labels, knn_final_predictions)\n",
    "\n",
    "fig = plt.figure(figsize=(8,6))\n",
    "ax = fig.add_subplot(111)\n",
    "cax = ax.matshow(matrix, cmap=cm.get_cmap('PuBu'))\n",
    "fig.colorbar(cax)\n",
    "\n",
    "ax.set_xticklabels([''] + target_names)\n",
    "ax.set_yticklabels([''] + target_names)\n",
    "\n",
    "plt.show()"
   ]
  },
  {
   "cell_type": "code",
   "execution_count": 149,
   "metadata": {},
   "outputs": [
    {
     "name": "stdout",
     "output_type": "stream",
     "text": [
      "F1-Micro Average: 75.2941\n",
      "F1-Macro Average: 75.8914\n",
      "\n",
      "              precision    recall  f1-score   support\n",
      "\n",
      "         bus       0.95      0.95      0.95        37\n",
      "        opel       0.70      0.52      0.60        50\n",
      "        saab       0.54      0.65      0.59        40\n",
      "         van       0.85      0.95      0.90        43\n",
      "\n",
      "    accuracy                           0.75       170\n",
      "   macro avg       0.76      0.77      0.76       170\n",
      "weighted avg       0.76      0.75      0.75       170\n",
      "\n"
     ]
    }
   ],
   "source": [
    "kn_f1_micro_final = f1_score(cars_test_labels, knn_final_predictions, average='micro')*100\n",
    "kn_f1_macro_final = f1_score(cars_test_labels, knn_final_predictions, average='macro')*100\n",
    "\n",
    "print(\"F1-Micro Average: \" + str(round(kn_f1_micro_final, 4)))\n",
    "print(\"F1-Macro Average: \" + str(round(kn_f1_macro_final, 4)) + \"\\n\")\n",
    "\n",
    "print(classification_report(cars_test_labels, knn_final_predictions))"
   ]
  },
  {
   "cell_type": "markdown",
   "metadata": {},
   "source": [
    "Σχετικά με τον *KNeighborsClassifier*, η βελτίωση που πετύχαμε με την αρχιτεκτονική μετασχηματισμών μας είναι αξιοσημείωτη. Η συνολική ακρίβεια και ανάκλιση του μοντέλου μας ανέρχεται σε 76% και 77% αντίστοιχα, ενώ η τιμή *F1-score* είναι κοινή για *Micro* και *Macro* average. Παρατηρούμε ότι οι κατηγορίες του λεωφορείου και του φορτηγού έχουν τις υψηλότερες τιμές στον πίνακα σύγχυσης, γεγονός ανεμενόμενο, όπως αναφέραμε και στην αρχική αξιολόγηση των ταξινομητών μας. Η κατηγορία του λεωφορείου έχει την υψηλότερη ακρίβεια, δηλαδή το μοντέλο μας είναι σωστό κατά 95% όταν εκτιμά πως ένα δείγμα ανήκει στην αντίστοιχη κατηγορία. Τέλος, οι κατηγορίες του λεωφορείου και του φορτηγού χαρακτηρίζονται από την υψηλότερη ανάκλιση, δεδομένου ότι το μοντέλο μας μπορεί να αναγνωρίσει σωστά το 95% των δειγμάτων που αντιστοιχούν στις αντίστοιχες κατηγορίες. Οι παραπάνω δύο παρατηρήσεις είναι εμφανείς και στον πίνακα σύγχυσης."
   ]
  },
  {
   "cell_type": "markdown",
   "metadata": {},
   "source": [
    "Κλείνοντας, παρουσιάζουμε ένα διάγραμμα προς σύγκριση ταξινομητών μας, πριν και μετά τη διαδικασία βελτιστοποίησης που ακολουθήσαμε. Σημειώνουμε τη βελτίωση του *KNeighborsClassifier* που ανέρχεται σε ποσοστό περίπου 15% για συνολικό χρόνο αναζήτησης βέλτιστων παραμέτρων περίπου 25-30 λεπτά."
   ]
  },
  {
   "cell_type": "code",
   "execution_count": 153,
   "metadata": {},
   "outputs": [
    {
     "data": {
      "image/png": "[encoded data removed]",
      "text/plain": [
       "<Figure size 720x576 with 1 Axes>"
      ]
     },
     "metadata": {
      "needs_background": "light"
     },
     "output_type": "display_data"
    }
   ],
   "source": [
    "labels = ['DummyClassifier', 'DummyClassifier_Optimized', 'KNeighbors', 'Kneighbors_Optimized']\n",
    "f1_micro = [round(dc_f1_micro, 3), round(dc_f1_micro_final, 3), round(kn_f1_micro, 3), round(kn_f1_micro_final, 3)]\n",
    "f1_macro = [round(dc_f1_macro, 3), round(dc_f1_macro_final, 3), round(kn_f1_macro, 3), round(kn_f1_macro_final, 3)]\n",
    "\n",
    "width = 0.20\n",
    "x = np.arange(len(labels))\n",
    "\n",
    "fig, ax = plt.subplots(figsize=(10, 8))\n",
    "rect1 = ax.bar(x-width/2, f1_micro, width, label='F1-Micro Average', color=(0.2, 0.4, 0.6, 0.3))\n",
    "rect2 = ax.bar(x+width/2, f1_macro, width, label='F1-Macro Average', color=(0.2, 0.4, 0.6, 0.9))\n",
    "\n",
    "ax.legend()\n",
    "ax.set_xticks(x)\n",
    "ax.set_ylabel('Scores')\n",
    "ax.set_xticklabels(labels)\n",
    "ax.set_title('F1-Score Comparison')\n",
    "\n",
    "def autolabel(rects):\n",
    "    for rect in rects:\n",
    "        height = rect.get_height()\n",
    "        ax.annotate('{}'.format(height), xy=(rect.get_x()+rect.get_width()/2, height), xytext=(0, 3), \n",
    "                    textcoords=\"offset points\", ha='center', va='bottom')\n",
    "\n",
    "autolabel(rect1)\n",
    "autolabel(rect2)\n",
    "fig.tight_layout()\n",
    "\n",
    "plt.show()"
   ]
  }
 ],
 "metadata": {
  "kernelspec": {
   "display_name": "Python 3",
   "language": "python",
   "name": "python3"
  },
  "language_info": {
   "codemirror_mode": {
    "name": "ipython",
    "version": 3
   },
   "file_extension": ".py",
   "mimetype": "text/x-python",
   "name": "python",
   "nbconvert_exporter": "python",
   "pygments_lexer": "ipython3",
   "version": "3.7.5"
  }
 },
 "nbformat": 4,
 "nbformat_minor": 2
}
