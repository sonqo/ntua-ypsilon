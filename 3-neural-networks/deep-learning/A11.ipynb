{
  "nbformat": 4,
  "nbformat_minor": 0,
  "metadata": {
    "accelerator": "GPU",
    "colab": {
      "name": "CIFAR_100.ipynb",
      "provenance": [],
      "collapsed_sections": [
        "HUPTXpNqvrB0",
        "DfEMjsB4Yurm",
        "TnLNfKKYeA5T",
        "x5q3SI0_eLxI",
        "0cniJE8eZQAA",
        "ntFDPZhGBG38",
        "onYIggE9Z2f4",
        "cFTzQtMOa3Rv",
        "x0SLth49VXHm"
      ],
      "toc_visible": true
    },
    "kernelspec": {
      "display_name": "Python 3",
      "language": "python",
      "name": "python3"
    },
    "language_info": {
      "codemirror_mode": {
        "name": "ipython",
        "version": 3
      },
      "file_extension": ".py",
      "mimetype": "text/x-python",
      "name": "python",
      "nbconvert_exporter": "python",
      "pygments_lexer": "ipython3",
      "version": "3.7.4"
    }
  },
  "cells": [
    {
      "cell_type": "code",
      "metadata": {
        "colab_type": "code",
        "id": "DsRt5JelvV7u",
        "colab": {}
      },
      "source": [
        "%tensorflow_version 2.x # selecting tensorflow version\n",
        "\n",
        "!sudo pip install --upgrade pip;\n",
        "!sudo pip install --upgrade tensorflow;"
      ],
      "execution_count": 0,
      "outputs": []
    },
    {
      "cell_type": "markdown",
      "metadata": {
        "colab_type": "text",
        "id": "h2IcJXcTy-Qs"
      },
      "source": [
        "## Στοιχεία Ομάδας\n",
        "\n",
        "Αριθμός Ομάδας: Μ.Α.11\n",
        "\n",
        "    > Καρυπιάδης Ευστράτιος: 03114911"
      ]
    },
    {
      "cell_type": "markdown",
      "metadata": {
        "colab_type": "text",
        "id": "HUPTXpNqvrB0"
      },
      "source": [
        "---\n",
        "\n",
        "## Σύνολο Δεδομένων CIFAR-100\n",
        "\n",
        "Το σύνολο δεδομένων στο οποίο θα εργαστούμε είναι το [CIFAR-100](https://bit.ly/38CUquZ), το οποίο αποτελείται απο 60.000 έγχρωμες εικόνες διαστάσεων 32x32. Κάθε μία από αυτές ανήκει σε μία γενική(*fine*) και μία ειδική(*coarse*) κατηγορία του συνόλου, πλήθους 100 και 20 αντίστοιχα. Προς ταξινόμηση των δειγμάτων μας θα εκμεταλευτούμε μονάχα τις *fine* κατηγορίες των εικόνων που έχουμε στη διάθεσή μας.\n",
        "\n",
        "\t"
      ]
    },
    {
      "cell_type": "markdown",
      "metadata": {
        "colab_type": "text",
        "id": "DfEMjsB4Yurm"
      },
      "source": [
        "### Εισαγωγή συνόλου δεδομένων"
      ]
    },
    {
      "cell_type": "code",
      "metadata": {
        "colab_type": "code",
        "id": "APTpYiMCnZNl",
        "colab": {}
      },
      "source": [
        "import tensorflow as tf\n",
        "import tensorflow_addons as tfa\n",
        "from tensorflow.keras import datasets, layers, models, utils\n",
        "from tensorflow.keras.preprocessing.image import ImageDataGenerator\n",
        "from __future__ import absolute_import, division, print_function, unicode_literals\n",
        "\n",
        "import numpy as np\n",
        "import pandas as pd\n",
        "import matplotlib.pyplot as plt\n",
        "\n",
        "# loading the entire dataset\n",
        "(x_train_all, y_train_all), (x_test_all, y_test_all) = tf.keras.datasets.cifar100.load_data(label_mode='fine')"
      ],
      "execution_count": 0,
      "outputs": []
    },
    {
      "cell_type": "markdown",
      "metadata": {
        "colab_type": "text",
        "id": "oQ2L6rGVnpKv"
      },
      "source": [
        "Για τους σκοπούς της άσκησης **δε** θα εκμεταλλευτούμε ολόκληρο το σύνολο δεδομένων, αλλά θα δουλέψουμε σε ένα υποσύνολο αυτού σύμφώνα με τον αύξοντα αριθμό της ομάδας μας, `team_seed`. Στη συνέχεια υλοποιούμε μία σειρά βοηθητικών συναρτήσεων που θα μας βοηθήσουν σε αυτόν το διαχωρισμό:"
      ]
    },
    {
      "cell_type": "code",
      "metadata": {
        "colab_type": "code",
        "id": "2WSEGPI9Q7tW",
        "colab": {}
      },
      "source": [
        "def select_from_list(from_list, index_list):\n",
        "  \"\"\" Return from_list elemenents according to index contained in index_list. \"\"\"\n",
        "  filtered_list= [from_list[i] for i in index_list]\n",
        "  return(filtered_list)\n",
        "\n",
        "def get_ds_index(unfiliterd_list, target_list):\n",
        "  \"\"\" Append in filtered_list the index of each element in unfiltered_list if it exists in target_list. \"\"\"\n",
        "  index = 0\n",
        "  filtered_list=[]\n",
        "  for i_ in unfiliterd_list:\n",
        "    if i_[0] in target_list:\n",
        "      filtered_list.append(index)\n",
        "    index += 1\n",
        "  return(filtered_list)\n",
        "\n",
        "def select_classes_number(classes_number = 20):\n",
        "  \"\"\" Select unique subset of CIFAR-100 with classes_number of classes. \"\"\"\n",
        "  if classes_number == 20:\n",
        "    return \"https://bit.ly/3b3Cewb\"\n",
        "  elif classes_number == 40:\n",
        "    return \"https://bit.ly/3aPo819\"\n",
        "  elif classes_number == 60:\n",
        "    return \"https://bit.ly/2Wbo47K\"\n",
        "  elif classes_number == 80:\n",
        "    return \"https://bit.ly/38NDW3d\"\n",
        "  else:\n",
        "    return -1"
      ],
      "execution_count": 0,
      "outputs": []
    },
    {
      "cell_type": "markdown",
      "metadata": {
        "colab_type": "text",
        "id": "TnLNfKKYeA5T"
      },
      "source": [
        "### Διαχωρισμός δεδομένων εκπαίδευσης - ελέγχου"
      ]
    },
    {
      "cell_type": "markdown",
      "metadata": {
        "colab_type": "text",
        "id": "8xYQ_Q1SVZEk"
      },
      "source": [
        "Στο επόμενο κελί επιλέγουμε το πλήθος των κατηγοριών με το οποίο επιθυμούμε να δουλέψουμε:"
      ]
    },
    {
      "cell_type": "code",
      "metadata": {
        "colab_type": "code",
        "id": "RhbZJW6PxUDJ",
        "colab": {}
      },
      "source": [
        "cifar100_classes_url = select_classes_number(classes_number=80) # default: 20 classes"
      ],
      "execution_count": 0,
      "outputs": []
    },
    {
      "cell_type": "markdown",
      "metadata": {
        "colab_type": "text",
        "id": "yO9f6wb0Wi0H"
      },
      "source": [
        "Δημιουργούμε το μοναδικό dataset της ομάδας μας:"
      ]
    },
    {
      "cell_type": "code",
      "metadata": {
        "colab_type": "code",
        "id": "PgIN2h_KuCp_",
        "colab": {}
      },
      "source": [
        "team_seed = 11 # team_seed number\n",
        "\n",
        "team_classes = pd.read_csv(cifar100_classes_url, sep=',', header=None) # fetch class indexes\n",
        "CIFAR100_LABELS_LIST = pd.read_csv(\"https://bit.ly/3cRO3qZ\", sep=',', header=None).astype(str).values.tolist()[0] # fetch class names\n",
        "\n",
        "our_index = team_classes.iloc[team_seed, :].values.tolist() # select team class indices\n",
        "our_classes = select_from_list(CIFAR100_LABELS_LIST, our_index) # select team class names\n",
        "\n",
        "train_index = get_ds_index(y_train_all, our_index)\n",
        "test_index = get_ds_index(y_test_all, our_index)\n",
        "\n",
        "# Train data and labels\n",
        "x_train_ds = np.asarray(select_from_list(x_train_all, train_index))\n",
        "y_train_ds = np.asarray(select_from_list(y_train_all, train_index))\n",
        "\n",
        "# Test data and labels\n",
        "x_test_ds = np.asarray(select_from_list(x_test_all, test_index))\n",
        "y_test_ds = np.asarray(select_from_list(y_test_all, test_index))"
      ],
      "execution_count": 0,
      "outputs": []
    },
    {
      "cell_type": "markdown",
      "metadata": {
        "colab_type": "text",
        "id": "oMrUsXJkqV71"
      },
      "source": [
        "Μετά την παραπάνω διαδικασία εμφανίζουμε τα ονόματα των κατηγοριών που αντιστοιχούν στην ομάδα μας:"
      ]
    },
    {
      "cell_type": "code",
      "metadata": {
        "colab_type": "code",
        "id": "_B4-tvVOQq3j",
        "colab": {
          "base_uri": "https://localhost:8080/",
          "height": 54
        },
        "outputId": "e322a87f-167c-4054-bdc7-b9405752a83a"
      },
      "source": [
        "print(our_classes)"
      ],
      "execution_count": 6,
      "outputs": [
        {
          "output_type": "stream",
          "text": [
            "['apple', ' baby', ' bear', ' bed', ' bee', ' beetle', ' bicycle', ' bottle', ' boy', ' bridge', ' bus', ' camel', ' caterpillar', ' chimpanzee', ' clock', ' cockroach', ' couch', ' crab', ' cup', ' dinosaur', ' dolphin', ' flatfish', ' forest', ' girl', ' hamster', ' house', ' kangaroo', ' lawn_mower', ' leopard', ' lion', ' lizard', ' lobster', ' man', ' maple_tree', ' motorcycle', ' mountain', ' mouse', ' mushroom', ' oak_tree', ' orange', ' otter', ' palm_tree', ' pear', ' pickup_truck', ' pine_tree', ' plain', ' poppy', ' porcupine', ' possum', ' rabbit', ' raccoon', ' ray', ' rocket', ' rose', ' sea', ' seal', ' shark', ' shrew', ' skunk', ' skyscraper', ' snail', ' snake', ' spider', ' squirrel', ' streetcar', ' sunflower', ' sweet_pepper', ' tank', ' telephone', ' television', ' tiger', ' tractor', ' train', ' tulip', ' turtle', ' wardrobe', ' whale', ' willow_tree', ' woman', ' worm']\n"
          ],
          "name": "stdout"
        }
      ]
    },
    {
      "cell_type": "markdown",
      "metadata": {
        "colab_type": "text",
        "id": "x5q3SI0_eLxI"
      },
      "source": [
        "### Επισκόπηση δεδομένων και κανονικοποίηση"
      ]
    },
    {
      "cell_type": "markdown",
      "metadata": {
        "colab_type": "text",
        "id": "lRWZ-JI5sH-J"
      },
      "source": [
        "Τέλος, για καλύτερη εποπτεία του συνόλου δεδομένων μας θα εξάγουμε ορισμένες χρήσιμες πληροφορίες για αυτό, ενώ παράλληλα θα κανονικοποιήσουμε τις τιμές αναπαράστασης των εικόνων:"
      ]
    },
    {
      "cell_type": "code",
      "metadata": {
        "colab_type": "code",
        "id": "QpGXgTs_5ZCk",
        "outputId": "20956db6-9adb-49f2-98d5-13a044be2d34",
        "colab": {
          "base_uri": "https://localhost:8080/",
          "height": 68
        }
      },
      "source": [
        "data_size, img_rows, img_cols, img_channels = x_train_ds.shape # get train dataset dimensions\n",
        "\n",
        "# Set validation set percentage\n",
        "validation_percentage = 0.15\n",
        "val_size = round(validation_percentage * data_size)\n",
        "\n",
        "# Reserve val_size samples for validation and normalize all values\n",
        "x_val = x_train_ds[-val_size:]/255\n",
        "y_val = y_train_ds[-val_size:]\n",
        "x_train = x_train_ds[:-val_size]/255\n",
        "y_train = y_train_ds[:-val_size]\n",
        "x_test = x_test_ds/255\n",
        "y_test = y_test_ds\n",
        "\n",
        "# Summarize loaded dataset\n",
        "print('Train:       X=%s, y=%s' % (x_train.shape, y_train.shape))\n",
        "print('Validation:  X=%s, y=%s' % (x_val.shape, y_val.shape))\n",
        "print('Test:        X=%s, y=%s' % (x_test.shape, y_test.shape))"
      ],
      "execution_count": 7,
      "outputs": [
        {
          "output_type": "stream",
          "text": [
            "Train:       X=(34000, 32, 32, 3), y=(34000, 1)\n",
            "Validation:  X=(6000, 32, 32, 3), y=(6000, 1)\n",
            "Test:        X=(8000, 32, 32, 3), y=(8000, 1)\n"
          ],
          "name": "stdout"
        }
      ]
    },
    {
      "cell_type": "markdown",
      "metadata": {
        "colab_type": "text",
        "id": "0cniJE8eZQAA"
      },
      "source": [
        "---\n",
        "\n",
        "## Συναρτήσεις Προετοιμασίας Δεδομένων και Οπτικοποίησης Απόδοσης"
      ]
    },
    {
      "cell_type": "markdown",
      "metadata": {
        "colab_type": "text",
        "id": "G3xB9x5JZjSN"
      },
      "source": [
        "Στη συνέχεια θα υλοποιήσουμε απαραίτητες συναρτήσεις προετοιμασίας των δεδομένων για εκπαίδευση, καθώς και οπτικοποίσης της τελικής απόδοσης των μοντέλων που πρόκειται να δοκιμάσουμε."
      ]
    },
    {
      "cell_type": "markdown",
      "metadata": {
        "colab_type": "text",
        "id": "ntFDPZhGBG38"
      },
      "source": [
        "### Συναρτήσεις Εκπαίδευσης"
      ]
    },
    {
      "cell_type": "markdown",
      "metadata": {
        "colab_type": "text",
        "id": "1Yb9JrjxRM_C"
      },
      "source": [
        "Αρχικά θα υλοποιήσουμε την `_input_fn`, η οποία αποτελεί ένα *pipeline* που θα προετοιμάσει τα δεδομένα μας για την εκπαίδευση. Πιο συγκεκριμένα, χρησιμοποιούμε τις μεθόδους `shuffle`, `repeat` και `batch` της [tf.data.Dataset](https://bit.ly/2vk7EPr), ώστε να δημιουργήσουμε υποσύνολα 128 δειγμάτων, τα οποία ελήφθησαν τυχαίως από το ολικό μας σύνολο. Σημειώνουμε ότι η μέθοδος `repeat` είναι απαραίτητη για να αντιμετωπίσουμε τυχόν σφάλμα που θα προκύψει, εάν η μέθοδος `batch` επιχειρήσει να δημιουργήσει εκ νέου υποσύνολο, αφού έχει ομαδοποιήσει όλα τα διαθέσιμα δείγματα του συνόλου. \n",
        "\n",
        "Παρατηρούμε ότι η συνάρτηση επιστρέφει υποσύνολα δεδομένων `PrefetchDataset Objects`, μορφή η οποία επιταχύνει τη διαδικασία εκπαίδευσης, καθώς επιτρέπει το διάβασμα του επόμενου *batch* δεδομένων, ενώ παράλληλα εκπαιδεύεται το παρόν."
      ]
    },
    {
      "cell_type": "code",
      "metadata": {
        "colab_type": "code",
        "id": "KPFYqOmIa5Fr",
        "colab": {}
      },
      "source": [
        "BATCH_SIZE = 64\n",
        "AUTOTUNE = tf.data.experimental.AUTOTUNE\n",
        "\n",
        "def _input_fn(x, y, BATCH_SIZE):\n",
        "  \"\"\" Returns shuffled and batched tensors in the form of PrefetchDataset objects. \"\"\"\n",
        "  ds = tf.data.Dataset.from_tensor_slices((x, y))\n",
        "  ds = ds.shuffle(buffer_size=data_size)\n",
        "  ds = ds.repeat() # repeat indefinately\n",
        "  ds = ds.batch(BATCH_SIZE)\n",
        "  ds = ds.prefetch(buffer_size=AUTOTUNE)\n",
        "  return ds\n",
        "\n",
        "# PrefetchDataset objects\n",
        "train_ds =_input_fn(x_train, y_train, BATCH_SIZE)\n",
        "validation_ds =_input_fn(x_val, y_val, BATCH_SIZE)\n",
        "test_ds =_input_fn(x_test, y_test, BATCH_SIZE)"
      ],
      "execution_count": 0,
      "outputs": []
    },
    {
      "cell_type": "markdown",
      "metadata": {
        "colab_type": "text",
        "id": "ROU9zWYtTskk"
      },
      "source": [
        "Στη συνέχεια υλοποιούμε τη συνάρτηση `train_model`. Σημειώνουμε ότι με την παράμετρο `steps_per_epoch` μπορούμε να επιλέξουμε το πλήθος των *batches* στο οποίο επιθυμούμε να εκπαιδευτεί το μοντέλο μας πριν περάσει στην επόμενη εποχή."
      ]
    },
    {
      "cell_type": "code",
      "metadata": {
        "colab_type": "code",
        "id": "vSRY-a-gTtZ1",
        "colab": {}
      },
      "source": [
        "def train_model(model, epochs):\n",
        "  \"\"\" Training function. \"\"\"\n",
        "  history = model.fit(train_ds, epochs=epochs, steps_per_epoch=x_train.shape[0]//BATCH_SIZE, validation_data=validation_ds, validation_steps=x_val.shape[0]//BATCH_SIZE)\n",
        "  return(history)"
      ],
      "execution_count": 0,
      "outputs": []
    },
    {
      "cell_type": "markdown",
      "metadata": {
        "colab_type": "text",
        "id": "onYIggE9Z2f4"
      },
      "source": [
        "### Γραφικές παραστάσεις εκπαίδευσης και απόδοση στο σύνολο ελέγχου"
      ]
    },
    {
      "cell_type": "markdown",
      "metadata": {
        "colab_type": "text",
        "id": "qRH2ReXDUSif"
      },
      "source": [
        "Τέλος, υλοποιούμε συναρτήσεις οπτικοποίησης της απόδοσης της εκπαίδευσης προς εξαγωγή χρήσιμων πληροφοριών και μελέτη των αποτελεσμάτων που θα προκύψουν από τη δοκιμή των μοντέλων μας."
      ]
    },
    {
      "cell_type": "code",
      "metadata": {
        "colab_type": "code",
        "id": "vdWPm3zqbRo1",
        "colab": {}
      },
      "source": [
        "def summarize_diagnostics(history):\n",
        "\t\"\"\" Plot diagnostic learning curves. \"\"\"\n",
        "\tplt.figure(figsize=(8, 8))\n",
        "\tplt.suptitle('Training Curves')\n",
        "\t# plot loss\n",
        "\tplt.subplot(211)\n",
        "\tplt.title('Cross Entropy Loss')\n",
        "\tplt.plot(history.history['loss'], color='blue', label='train')\n",
        "\tplt.plot(history.history['val_loss'], color='orange', label='val')\n",
        "\tplt.legend(loc='upper right')\n",
        "\t# plot accuracy\n",
        "\tplt.subplot(212)\n",
        "\tplt.title('Classification Accuracy')\n",
        "\tplt.plot(history.history['accuracy'], color='blue', label='train')\n",
        "\tplt.plot(history.history['val_accuracy'], color='orange', label='val')\n",
        "\tplt.legend(loc='lower right')\n",
        "\treturn plt\n",
        " \n",
        "def model_evaluation(model, evaluation_steps):\n",
        "\t\"\"\" Print test set and evaluation metrics. \"\"\"\n",
        "\tprint('\\nTest set evaluation metrics')\n",
        "\tloss0, accuracy0 = model.evaluate(test_ds, steps=x_test.shape[0]//BATCH_SIZE)\n",
        "\tprint(\"loss: {:.2f}\".format(loss0))\n",
        "\tprint(\"accuracy: {:.2f}\".format(accuracy0))\n",
        "\n",
        "def model_report(model, history, evaluation_steps = 10):\n",
        "\tplt = summarize_diagnostics(history)\n",
        "\tplt.show()\n",
        "\tmodel_evaluation(model, evaluation_steps)"
      ],
      "execution_count": 0,
      "outputs": []
    },
    {
      "cell_type": "markdown",
      "metadata": {
        "colab_type": "text",
        "id": "Waa4c40Yay3k"
      },
      "source": [
        "## Μοντέλα δικτύων"
      ]
    },
    {
      "cell_type": "markdown",
      "metadata": {
        "colab_type": "text",
        "id": "JFZF0dGJ9PN_"
      },
      "source": [
        "Για τους σκοπούς της άσκησης θα ακολουθήσουμε δύο μεθόδους δημιουργίας μοντέλου ταξινόμησης. Κατά τον πρώτο θα επιχειρήσουμε να υλοποιήσουμε *from-scratch* ένα συνελικτικό νευρωνικό δίκτυο, ενώ κατά το δεύτερο θα ακολουθήσουμε τη μεθοδολογία του *transfer-learning*. "
      ]
    },
    {
      "cell_type": "markdown",
      "metadata": {
        "colab_type": "text",
        "id": "cFTzQtMOa3Rv"
      },
      "source": [
        "### From-scratch Convolutional Neural Network"
      ]
    },
    {
      "cell_type": "markdown",
      "metadata": {
        "colab_type": "text",
        "id": "qlYEbYwn9uA9"
      },
      "source": [
        "Θα υλοποιήσουμε δύο νεωρικά δίκτυα που χαρακτηρίζονται από την ίδια αρχιτεκτονική, μεταβάλλοντας μονάχα τον αλγόριθμο βελτιστοποίησης, για να μελετήσουμε τυχόν διαφορές στην απόδοση του μοντέλου μας. Πιο συγκεκριμένα θα εξετάσουμε τους αλγόριθμους [Adam](https://bit.ly/2U98wjx) και [RMSprop](https://bit.ly/2UtfXku)."
      ]
    },
    {
      "cell_type": "code",
      "metadata": {
        "colab_type": "code",
        "id": "LtcgTkHojt0G",
        "colab": {}
      },
      "source": [
        "def init_adam_model(summary):\n",
        "  \n",
        "  model = models.Sequential()\n",
        "  \n",
        "  model.add(layers.Conv2D(128, (3, 3), activation='elu', padding='same', input_shape=(32, 32, 3)))\n",
        "  model.add(layers.Conv2D(128, (3, 3), activation='elu'))\n",
        "  model.add(layers.MaxPooling2D((2, 2)))\n",
        "  model.add(layers.Dropout(0.10))\n",
        "\n",
        "  model.add(layers.Conv2D(256, (3, 3), activation='elu', padding='same'))\n",
        "  model.add(layers.Conv2D(256, (3, 3), activation='elu'))\n",
        "  model.add(layers.MaxPooling2D((2, 2)))\n",
        "  model.add(layers.Dropout(0.25))\n",
        "\n",
        "  model.add(layers.Conv2D(512, (3, 3), activation='elu', padding='same'))\n",
        "  model.add(layers.Conv2D(512, (3, 3), activation='elu'))\n",
        "  model.add(layers.MaxPooling2D((2, 2)))\n",
        "  model.add(layers.Dropout(0.50))\n",
        " \n",
        "  model.add(layers.Flatten())\n",
        "  \n",
        "  model.add(layers.Dense(1024, activation='elu'))\n",
        "  model.add(layers.Dropout(0.50))\n",
        "  model.add(layers.Dense(100, activation='softmax'))\n",
        "  \n",
        "  model.compile(optimizer=tf.optimizers.Adam(lr=0.0001), loss=tf.keras.losses.sparse_categorical_crossentropy, metrics=[\"accuracy\"])\n",
        "  \n",
        "  if summary: \n",
        "    model.summary()\n",
        "  return model\n",
        "\n",
        "def init_rmsprop_model(summary):\n",
        "  \n",
        "  model = models.Sequential()\n",
        "  \n",
        "  model.add(layers.Conv2D(128, (3, 3), activation='elu', padding='same', input_shape=(32, 32, 3)))\n",
        "  model.add(layers.Conv2D(128, (3, 3), activation='elu'))\n",
        "  model.add(layers.MaxPooling2D((2, 2)))\n",
        "  model.add(layers.Dropout(0.10))\n",
        "\n",
        "  model.add(layers.Conv2D(256, (3, 3), activation='elu', padding='same'))\n",
        "  model.add(layers.Conv2D(256, (3, 3), activation='elu'))\n",
        "  model.add(layers.MaxPooling2D((2, 2)))\n",
        "  model.add(layers.Dropout(0.25))\n",
        "\n",
        "  model.add(layers.Conv2D(512, (3, 3), activation='elu', padding='same'))\n",
        "  model.add(layers.Conv2D(512, (3, 3), activation='elu'))\n",
        "  model.add(layers.MaxPooling2D((2, 2)))\n",
        "  model.add(layers.Dropout(0.50))\n",
        " \n",
        "  model.add(layers.Flatten())\n",
        "  \n",
        "  model.add(layers.Dense(1024, activation='elu'))\n",
        "  model.add(layers.Dropout(0.50))\n",
        "  model.add(layers.Dense(100, activation='softmax'))\n",
        "  \n",
        "  model.compile(optimizer=tf.optimizers.RMSprop(lr=0.0001, decay=1e-6), loss=tf.keras.losses.sparse_categorical_crossentropy, metrics=[\"accuracy\"])\n",
        "  \n",
        "  if summary: \n",
        "    model.summary()\n",
        "  return model"
      ],
      "execution_count": 0,
      "outputs": []
    },
    {
      "cell_type": "markdown",
      "metadata": {
        "colab_type": "text",
        "id": "h24aSZu6-Zt9"
      },
      "source": [
        "Θα ξεκινήσουμε με την εκπαίδευση του δικτύου με αλγόριθμο βελτιστοποίσης *Adam* για διάρκεια 100 εποχών:"
      ]
    },
    {
      "cell_type": "code",
      "metadata": {
        "colab_type": "code",
        "id": "dSbtouO9lGvj",
        "outputId": "0340e780-f31b-4256-aab6-ca6726ea15f7",
        "colab": {
          "base_uri": "https://localhost:8080/",
          "height": 1000
        }
      },
      "source": [
        "ADAM_MODEL_NOAUG = init_adam_model(summary=True)\n",
        "\n",
        "ADAM_MODEL_NOAUG_history = train_model(ADAM_MODEL_NOAUG, 100)"
      ],
      "execution_count": 0,
      "outputs": [
        {
          "output_type": "stream",
          "text": [
            "Model: \"sequential_2\"\n",
            "_________________________________________________________________\n",
            "Layer (type)                 Output Shape              Param #   \n",
            "=================================================================\n",
            "conv2d_12 (Conv2D)           (None, 32, 32, 128)       3584      \n",
            "_________________________________________________________________\n",
            "conv2d_13 (Conv2D)           (None, 30, 30, 128)       147584    \n",
            "_________________________________________________________________\n",
            "max_pooling2d_6 (MaxPooling2 (None, 15, 15, 128)       0         \n",
            "_________________________________________________________________\n",
            "dropout_8 (Dropout)          (None, 15, 15, 128)       0         \n",
            "_________________________________________________________________\n",
            "conv2d_14 (Conv2D)           (None, 15, 15, 256)       295168    \n",
            "_________________________________________________________________\n",
            "conv2d_15 (Conv2D)           (None, 13, 13, 256)       590080    \n",
            "_________________________________________________________________\n",
            "max_pooling2d_7 (MaxPooling2 (None, 6, 6, 256)         0         \n",
            "_________________________________________________________________\n",
            "dropout_9 (Dropout)          (None, 6, 6, 256)         0         \n",
            "_________________________________________________________________\n",
            "conv2d_16 (Conv2D)           (None, 6, 6, 512)         1180160   \n",
            "_________________________________________________________________\n",
            "conv2d_17 (Conv2D)           (None, 4, 4, 512)         2359808   \n",
            "_________________________________________________________________\n",
            "max_pooling2d_8 (MaxPooling2 (None, 2, 2, 512)         0         \n",
            "_________________________________________________________________\n",
            "dropout_10 (Dropout)         (None, 2, 2, 512)         0         \n",
            "_________________________________________________________________\n",
            "flatten_2 (Flatten)          (None, 2048)              0         \n",
            "_________________________________________________________________\n",
            "dense_4 (Dense)              (None, 1024)              2098176   \n",
            "_________________________________________________________________\n",
            "dropout_11 (Dropout)         (None, 1024)              0         \n",
            "_________________________________________________________________\n",
            "dense_5 (Dense)              (None, 100)               102500    \n",
            "=================================================================\n",
            "Total params: 6,777,060\n",
            "Trainable params: 6,777,060\n",
            "Non-trainable params: 0\n",
            "_________________________________________________________________\n",
            "Train for 531 steps, validate for 93 steps\n",
            "Epoch 1/100\n",
            "531/531 [==============================] - 13s 24ms/step - loss: 3.8924 - accuracy: 0.0918 - val_loss: 3.3766 - val_accuracy: 0.1878\n",
            "Epoch 2/100\n",
            "531/531 [==============================] - 12s 22ms/step - loss: 3.2893 - accuracy: 0.1892 - val_loss: 2.9144 - val_accuracy: 0.2750\n",
            "Epoch 3/100\n",
            "531/531 [==============================] - 12s 22ms/step - loss: 2.9454 - accuracy: 0.2609 - val_loss: 2.6469 - val_accuracy: 0.3365\n",
            "Epoch 4/100\n",
            "531/531 [==============================] - 12s 22ms/step - loss: 2.6963 - accuracy: 0.3128 - val_loss: 2.4544 - val_accuracy: 0.3695\n",
            "Epoch 5/100\n",
            "531/531 [==============================] - 12s 22ms/step - loss: 2.5267 - accuracy: 0.3474 - val_loss: 2.3286 - val_accuracy: 0.4002\n",
            "Epoch 6/100\n",
            "531/531 [==============================] - 11s 21ms/step - loss: 2.3891 - accuracy: 0.3801 - val_loss: 2.2861 - val_accuracy: 0.4115\n",
            "Epoch 7/100\n",
            "531/531 [==============================] - 12s 22ms/step - loss: 2.2726 - accuracy: 0.4011 - val_loss: 2.1623 - val_accuracy: 0.4365\n",
            "Epoch 8/100\n",
            "531/531 [==============================] - 11s 22ms/step - loss: 2.1726 - accuracy: 0.4240 - val_loss: 2.1148 - val_accuracy: 0.4441\n",
            "Epoch 9/100\n",
            "531/531 [==============================] - 12s 22ms/step - loss: 2.0699 - accuracy: 0.4497 - val_loss: 2.0559 - val_accuracy: 0.4484\n",
            "Epoch 10/100\n",
            "531/531 [==============================] - 11s 22ms/step - loss: 1.9979 - accuracy: 0.4639 - val_loss: 2.0508 - val_accuracy: 0.4533\n",
            "Epoch 11/100\n",
            "531/531 [==============================] - 12s 22ms/step - loss: 1.9091 - accuracy: 0.4859 - val_loss: 2.0019 - val_accuracy: 0.4708\n",
            "Epoch 12/100\n",
            "531/531 [==============================] - 11s 22ms/step - loss: 1.8295 - accuracy: 0.5029 - val_loss: 1.9825 - val_accuracy: 0.4797\n",
            "Epoch 13/100\n",
            "531/531 [==============================] - 12s 22ms/step - loss: 1.7473 - accuracy: 0.5201 - val_loss: 1.9514 - val_accuracy: 0.4832\n",
            "Epoch 14/100\n",
            "531/531 [==============================] - 12s 22ms/step - loss: 1.6952 - accuracy: 0.5341 - val_loss: 1.9328 - val_accuracy: 0.4899\n",
            "Epoch 15/100\n",
            "531/531 [==============================] - 11s 22ms/step - loss: 1.6241 - accuracy: 0.5501 - val_loss: 1.9446 - val_accuracy: 0.4943\n",
            "Epoch 16/100\n",
            "531/531 [==============================] - 12s 22ms/step - loss: 1.5468 - accuracy: 0.5672 - val_loss: 1.9330 - val_accuracy: 0.4955\n",
            "Epoch 17/100\n",
            "531/531 [==============================] - 12s 22ms/step - loss: 1.4849 - accuracy: 0.5821 - val_loss: 1.9093 - val_accuracy: 0.5052\n",
            "Epoch 18/100\n",
            "531/531 [==============================] - 12s 22ms/step - loss: 1.4191 - accuracy: 0.5956 - val_loss: 1.9075 - val_accuracy: 0.5050\n",
            "Epoch 19/100\n",
            "531/531 [==============================] - 11s 22ms/step - loss: 1.3716 - accuracy: 0.6103 - val_loss: 1.9076 - val_accuracy: 0.5059\n",
            "Epoch 20/100\n",
            "531/531 [==============================] - 11s 22ms/step - loss: 1.3061 - accuracy: 0.6235 - val_loss: 1.9082 - val_accuracy: 0.5074\n",
            "Epoch 21/100\n",
            "531/531 [==============================] - 12s 22ms/step - loss: 1.2482 - accuracy: 0.6391 - val_loss: 1.9075 - val_accuracy: 0.5084\n",
            "Epoch 22/100\n",
            "531/531 [==============================] - 12s 22ms/step - loss: 1.1906 - accuracy: 0.6515 - val_loss: 1.9542 - val_accuracy: 0.5097\n",
            "Epoch 23/100\n",
            "531/531 [==============================] - 12s 22ms/step - loss: 1.1417 - accuracy: 0.6629 - val_loss: 1.9524 - val_accuracy: 0.5092\n",
            "Epoch 24/100\n",
            "531/531 [==============================] - 12s 22ms/step - loss: 1.0808 - accuracy: 0.6794 - val_loss: 1.9860 - val_accuracy: 0.5047\n",
            "Epoch 25/100\n",
            "531/531 [==============================] - 12s 22ms/step - loss: 1.0424 - accuracy: 0.6866 - val_loss: 1.9946 - val_accuracy: 0.5059\n",
            "Epoch 26/100\n",
            "531/531 [==============================] - 11s 22ms/step - loss: 0.9772 - accuracy: 0.7044 - val_loss: 1.9997 - val_accuracy: 0.5183\n",
            "Epoch 27/100\n",
            "531/531 [==============================] - 11s 22ms/step - loss: 0.9540 - accuracy: 0.7145 - val_loss: 1.9969 - val_accuracy: 0.5180\n",
            "Epoch 28/100\n",
            "531/531 [==============================] - 11s 22ms/step - loss: 0.9037 - accuracy: 0.7240 - val_loss: 2.0212 - val_accuracy: 0.5207\n",
            "Epoch 29/100\n",
            "531/531 [==============================] - 12s 22ms/step - loss: 0.8747 - accuracy: 0.7317 - val_loss: 2.0762 - val_accuracy: 0.5128\n",
            "Epoch 30/100\n",
            "531/531 [==============================] - 12s 22ms/step - loss: 0.8239 - accuracy: 0.7464 - val_loss: 2.0409 - val_accuracy: 0.5180\n",
            "Epoch 31/100\n",
            "531/531 [==============================] - 12s 22ms/step - loss: 0.7824 - accuracy: 0.7592 - val_loss: 2.0961 - val_accuracy: 0.5158\n",
            "Epoch 32/100\n",
            "531/531 [==============================] - 12s 22ms/step - loss: 0.7628 - accuracy: 0.7637 - val_loss: 2.0767 - val_accuracy: 0.5153\n",
            "Epoch 33/100\n",
            "531/531 [==============================] - 12s 22ms/step - loss: 0.7268 - accuracy: 0.7730 - val_loss: 2.1647 - val_accuracy: 0.5176\n",
            "Epoch 34/100\n",
            "531/531 [==============================] - 12s 22ms/step - loss: 0.7031 - accuracy: 0.7783 - val_loss: 2.1294 - val_accuracy: 0.5200\n",
            "Epoch 35/100\n",
            "531/531 [==============================] - 11s 22ms/step - loss: 0.6608 - accuracy: 0.7922 - val_loss: 2.1744 - val_accuracy: 0.5173\n",
            "Epoch 36/100\n",
            "531/531 [==============================] - 12s 22ms/step - loss: 0.6456 - accuracy: 0.7955 - val_loss: 2.2143 - val_accuracy: 0.5161\n",
            "Epoch 37/100\n",
            "531/531 [==============================] - 12s 22ms/step - loss: 0.6174 - accuracy: 0.8035 - val_loss: 2.2032 - val_accuracy: 0.5180\n",
            "Epoch 38/100\n",
            "531/531 [==============================] - 12s 22ms/step - loss: 0.5962 - accuracy: 0.8128 - val_loss: 2.2453 - val_accuracy: 0.5123\n",
            "Epoch 39/100\n",
            "531/531 [==============================] - 11s 22ms/step - loss: 0.5748 - accuracy: 0.8179 - val_loss: 2.2769 - val_accuracy: 0.5193\n",
            "Epoch 40/100\n",
            "531/531 [==============================] - 12s 22ms/step - loss: 0.5640 - accuracy: 0.8194 - val_loss: 2.2979 - val_accuracy: 0.5160\n",
            "Epoch 41/100\n",
            "531/531 [==============================] - 12s 22ms/step - loss: 0.5317 - accuracy: 0.8280 - val_loss: 2.2790 - val_accuracy: 0.5269\n",
            "Epoch 42/100\n",
            "531/531 [==============================] - 11s 22ms/step - loss: 0.5355 - accuracy: 0.8282 - val_loss: 2.2947 - val_accuracy: 0.5220\n",
            "Epoch 43/100\n",
            "531/531 [==============================] - 12s 22ms/step - loss: 0.5079 - accuracy: 0.8364 - val_loss: 2.2843 - val_accuracy: 0.5286\n",
            "Epoch 44/100\n",
            "531/531 [==============================] - 12s 22ms/step - loss: 0.4737 - accuracy: 0.8497 - val_loss: 2.3250 - val_accuracy: 0.5247\n",
            "Epoch 45/100\n",
            "531/531 [==============================] - 12s 22ms/step - loss: 0.4694 - accuracy: 0.8514 - val_loss: 2.3291 - val_accuracy: 0.5306\n",
            "Epoch 46/100\n",
            "531/531 [==============================] - 12s 22ms/step - loss: 0.4627 - accuracy: 0.8517 - val_loss: 2.3859 - val_accuracy: 0.5245\n",
            "Epoch 47/100\n",
            "531/531 [==============================] - 12s 22ms/step - loss: 0.4552 - accuracy: 0.8547 - val_loss: 2.3795 - val_accuracy: 0.5282\n",
            "Epoch 48/100\n",
            "531/531 [==============================] - 12s 22ms/step - loss: 0.4246 - accuracy: 0.8620 - val_loss: 2.3998 - val_accuracy: 0.5286\n",
            "Epoch 49/100\n",
            "531/531 [==============================] - 12s 22ms/step - loss: 0.4157 - accuracy: 0.8645 - val_loss: 2.4235 - val_accuracy: 0.5205\n",
            "Epoch 50/100\n",
            "531/531 [==============================] - 12s 22ms/step - loss: 0.3998 - accuracy: 0.8709 - val_loss: 2.4202 - val_accuracy: 0.5240\n",
            "Epoch 51/100\n",
            "531/531 [==============================] - 12s 22ms/step - loss: 0.3864 - accuracy: 0.8752 - val_loss: 2.4439 - val_accuracy: 0.5286\n",
            "Epoch 52/100\n",
            "531/531 [==============================] - 12s 22ms/step - loss: 0.3930 - accuracy: 0.8724 - val_loss: 2.4577 - val_accuracy: 0.5272\n",
            "Epoch 53/100\n",
            "531/531 [==============================] - 12s 22ms/step - loss: 0.3828 - accuracy: 0.8763 - val_loss: 2.4892 - val_accuracy: 0.5265\n",
            "Epoch 54/100\n",
            "531/531 [==============================] - 11s 22ms/step - loss: 0.3683 - accuracy: 0.8819 - val_loss: 2.4838 - val_accuracy: 0.5247\n",
            "Epoch 55/100\n",
            "531/531 [==============================] - 12s 22ms/step - loss: 0.3614 - accuracy: 0.8838 - val_loss: 2.5616 - val_accuracy: 0.5264\n",
            "Epoch 56/100\n",
            "531/531 [==============================] - 12s 22ms/step - loss: 0.3458 - accuracy: 0.8907 - val_loss: 2.5670 - val_accuracy: 0.5302\n",
            "Epoch 57/100\n",
            "531/531 [==============================] - 11s 22ms/step - loss: 0.3549 - accuracy: 0.8877 - val_loss: 2.4951 - val_accuracy: 0.5289\n",
            "Epoch 58/100\n",
            "531/531 [==============================] - 12s 22ms/step - loss: 0.3360 - accuracy: 0.8934 - val_loss: 2.7029 - val_accuracy: 0.5203\n",
            "Epoch 59/100\n",
            "531/531 [==============================] - 12s 22ms/step - loss: 0.3288 - accuracy: 0.8957 - val_loss: 2.6140 - val_accuracy: 0.5257\n",
            "Epoch 60/100\n",
            "531/531 [==============================] - 12s 22ms/step - loss: 0.3304 - accuracy: 0.8957 - val_loss: 2.5231 - val_accuracy: 0.5296\n",
            "Epoch 61/100\n",
            "531/531 [==============================] - 12s 22ms/step - loss: 0.3241 - accuracy: 0.8981 - val_loss: 2.5858 - val_accuracy: 0.5272\n",
            "Epoch 62/100\n",
            "531/531 [==============================] - 12s 22ms/step - loss: 0.3005 - accuracy: 0.9022 - val_loss: 2.6027 - val_accuracy: 0.5267\n",
            "Epoch 63/100\n",
            "531/531 [==============================] - 12s 22ms/step - loss: 0.3075 - accuracy: 0.9011 - val_loss: 2.6075 - val_accuracy: 0.5235\n",
            "Epoch 64/100\n",
            "531/531 [==============================] - 12s 22ms/step - loss: 0.3061 - accuracy: 0.9009 - val_loss: 2.6164 - val_accuracy: 0.5339\n",
            "Epoch 65/100\n",
            "531/531 [==============================] - 12s 22ms/step - loss: 0.2952 - accuracy: 0.9065 - val_loss: 2.6041 - val_accuracy: 0.5267\n",
            "Epoch 66/100\n",
            "531/531 [==============================] - 12s 22ms/step - loss: 0.2897 - accuracy: 0.9066 - val_loss: 2.6825 - val_accuracy: 0.5329\n",
            "Epoch 67/100\n",
            "531/531 [==============================] - 12s 22ms/step - loss: 0.2821 - accuracy: 0.9095 - val_loss: 2.6281 - val_accuracy: 0.5307\n",
            "Epoch 68/100\n",
            "531/531 [==============================] - 11s 22ms/step - loss: 0.2813 - accuracy: 0.9098 - val_loss: 2.6450 - val_accuracy: 0.5368\n",
            "Epoch 69/100\n",
            "531/531 [==============================] - 11s 22ms/step - loss: 0.2796 - accuracy: 0.9109 - val_loss: 2.6469 - val_accuracy: 0.5339\n",
            "Epoch 70/100\n",
            "531/531 [==============================] - 11s 21ms/step - loss: 0.2740 - accuracy: 0.9130 - val_loss: 2.6057 - val_accuracy: 0.5321\n",
            "Epoch 71/100\n",
            "531/531 [==============================] - 11s 22ms/step - loss: 0.2646 - accuracy: 0.9153 - val_loss: 2.7023 - val_accuracy: 0.5287\n",
            "Epoch 72/100\n",
            "531/531 [==============================] - 11s 22ms/step - loss: 0.2612 - accuracy: 0.9154 - val_loss: 2.7477 - val_accuracy: 0.5358\n",
            "Epoch 73/100\n",
            "531/531 [==============================] - 12s 22ms/step - loss: 0.2576 - accuracy: 0.9171 - val_loss: 2.8182 - val_accuracy: 0.5312\n",
            "Epoch 74/100\n",
            "531/531 [==============================] - 12s 22ms/step - loss: 0.2547 - accuracy: 0.9211 - val_loss: 2.7672 - val_accuracy: 0.5302\n",
            "Epoch 75/100\n",
            "531/531 [==============================] - 12s 22ms/step - loss: 0.2579 - accuracy: 0.9186 - val_loss: 2.7420 - val_accuracy: 0.5334\n",
            "Epoch 76/100\n",
            "531/531 [==============================] - 12s 22ms/step - loss: 0.2404 - accuracy: 0.9237 - val_loss: 2.7896 - val_accuracy: 0.5254\n",
            "Epoch 77/100\n",
            "531/531 [==============================] - 12s 22ms/step - loss: 0.2507 - accuracy: 0.9211 - val_loss: 2.6592 - val_accuracy: 0.5358\n",
            "Epoch 78/100\n",
            "531/531 [==============================] - 12s 22ms/step - loss: 0.2445 - accuracy: 0.9223 - val_loss: 2.7310 - val_accuracy: 0.5339\n",
            "Epoch 79/100\n",
            "531/531 [==============================] - 12s 22ms/step - loss: 0.2361 - accuracy: 0.9253 - val_loss: 2.7893 - val_accuracy: 0.5286\n",
            "Epoch 80/100\n",
            "531/531 [==============================] - 12s 22ms/step - loss: 0.2388 - accuracy: 0.9258 - val_loss: 2.6770 - val_accuracy: 0.5344\n",
            "Epoch 81/100\n",
            "531/531 [==============================] - 12s 22ms/step - loss: 0.2331 - accuracy: 0.9272 - val_loss: 2.7690 - val_accuracy: 0.5338\n",
            "Epoch 82/100\n",
            "531/531 [==============================] - 12s 22ms/step - loss: 0.2302 - accuracy: 0.9269 - val_loss: 2.8151 - val_accuracy: 0.5400\n",
            "Epoch 83/100\n",
            "531/531 [==============================] - 12s 22ms/step - loss: 0.2323 - accuracy: 0.9261 - val_loss: 2.8744 - val_accuracy: 0.5312\n",
            "Epoch 84/100\n",
            "531/531 [==============================] - 12s 22ms/step - loss: 0.2198 - accuracy: 0.9310 - val_loss: 2.9006 - val_accuracy: 0.5319\n",
            "Epoch 85/100\n",
            "531/531 [==============================] - 12s 22ms/step - loss: 0.2227 - accuracy: 0.9302 - val_loss: 2.8274 - val_accuracy: 0.5257\n",
            "Epoch 86/100\n",
            "531/531 [==============================] - 12s 22ms/step - loss: 0.2158 - accuracy: 0.9325 - val_loss: 2.8502 - val_accuracy: 0.5321\n",
            "Epoch 87/100\n",
            "531/531 [==============================] - 12s 22ms/step - loss: 0.2197 - accuracy: 0.9311 - val_loss: 2.8993 - val_accuracy: 0.5314\n",
            "Epoch 88/100\n",
            "531/531 [==============================] - 12s 22ms/step - loss: 0.2164 - accuracy: 0.9317 - val_loss: 2.8462 - val_accuracy: 0.5371\n",
            "Epoch 89/100\n",
            "531/531 [==============================] - 12s 22ms/step - loss: 0.2139 - accuracy: 0.9319 - val_loss: 2.8663 - val_accuracy: 0.5328\n",
            "Epoch 90/100\n",
            "531/531 [==============================] - 12s 22ms/step - loss: 0.2104 - accuracy: 0.9321 - val_loss: 2.9398 - val_accuracy: 0.5349\n",
            "Epoch 91/100\n",
            "531/531 [==============================] - 12s 22ms/step - loss: 0.1958 - accuracy: 0.9398 - val_loss: 2.8798 - val_accuracy: 0.5360\n",
            "Epoch 92/100\n",
            "531/531 [==============================] - 12s 22ms/step - loss: 0.2031 - accuracy: 0.9366 - val_loss: 2.8602 - val_accuracy: 0.5284\n",
            "Epoch 93/100\n",
            "531/531 [==============================] - 12s 22ms/step - loss: 0.2046 - accuracy: 0.9348 - val_loss: 2.9004 - val_accuracy: 0.5356\n",
            "Epoch 94/100\n",
            "531/531 [==============================] - 12s 22ms/step - loss: 0.2022 - accuracy: 0.9352 - val_loss: 2.9280 - val_accuracy: 0.5349\n",
            "Epoch 95/100\n",
            "531/531 [==============================] - 12s 22ms/step - loss: 0.1975 - accuracy: 0.9378 - val_loss: 3.0524 - val_accuracy: 0.5361\n",
            "Epoch 96/100\n",
            "531/531 [==============================] - 12s 22ms/step - loss: 0.2030 - accuracy: 0.9371 - val_loss: 2.9234 - val_accuracy: 0.5356\n",
            "Epoch 97/100\n",
            "531/531 [==============================] - 12s 22ms/step - loss: 0.1958 - accuracy: 0.9395 - val_loss: 2.9650 - val_accuracy: 0.5301\n",
            "Epoch 98/100\n",
            "531/531 [==============================] - 12s 22ms/step - loss: 0.1938 - accuracy: 0.9395 - val_loss: 3.0816 - val_accuracy: 0.5338\n",
            "Epoch 99/100\n",
            "531/531 [==============================] - 12s 22ms/step - loss: 0.1921 - accuracy: 0.9399 - val_loss: 3.0224 - val_accuracy: 0.5376\n",
            "Epoch 100/100\n",
            "531/531 [==============================] - 12s 22ms/step - loss: 0.1822 - accuracy: 0.9429 - val_loss: 2.8649 - val_accuracy: 0.5343\n"
          ],
          "name": "stdout"
        }
      ]
    },
    {
      "cell_type": "code",
      "metadata": {
        "colab_type": "code",
        "id": "Qmyw-txxnzrd",
        "outputId": "426e308d-337d-4223-8da7-ebca3f197baa",
        "colab": {
          "base_uri": "https://localhost:8080/",
          "height": 625
        }
      },
      "source": [
        "model_report(ADAM_MODEL_NOAUG, ADAM_MODEL_NOAUG.history)"
      ],
      "execution_count": 0,
      "outputs": [
        {
          "output_type": "display_data",
          "data": {
            "image/png": "[encoded data removed]",
            "text/plain": [
              "<Figure size 576x576 with 2 Axes>"
            ]
          },
          "metadata": {
            "tags": []
          }
        },
        {
          "output_type": "stream",
          "text": [
            "\n",
            "Test set evaluation metrics\n",
            "125/125 [==============================] - 1s 9ms/step - loss: 2.7673 - accuracy: 0.5394\n",
            "loss: 2.77\n",
            "accuracy: 0.54\n"
          ],
          "name": "stdout"
        }
      ]
    },
    {
      "cell_type": "markdown",
      "metadata": {
        "colab_type": "text",
        "id": "MhXxOJF0-oWQ"
      },
      "source": [
        "Συνεχίζουμε με την εκπαίδευση του δικτύου με αλγόριθμο βελτιστοποίησης *RMSprop* και πάλι για 100 εποχές:"
      ]
    },
    {
      "cell_type": "code",
      "metadata": {
        "colab_type": "code",
        "id": "fL59-6RWSacg",
        "outputId": "52d8fc97-8863-4936-82c7-e2436feb743d",
        "colab": {
          "base_uri": "https://localhost:8080/",
          "height": 1000
        }
      },
      "source": [
        "RMSPROP_MODEL_NOAUG = init_rmsprop_model(summary=True)\n",
        "\n",
        "RMSPROP_MODEL_NOAUG_history = train_model(RMSPROP_MODEL_NOAUG, 100)"
      ],
      "execution_count": 0,
      "outputs": [
        {
          "output_type": "stream",
          "text": [
            "Model: \"sequential_3\"\n",
            "_________________________________________________________________\n",
            "Layer (type)                 Output Shape              Param #   \n",
            "=================================================================\n",
            "conv2d_18 (Conv2D)           (None, 32, 32, 128)       3584      \n",
            "_________________________________________________________________\n",
            "conv2d_19 (Conv2D)           (None, 30, 30, 128)       147584    \n",
            "_________________________________________________________________\n",
            "max_pooling2d_9 (MaxPooling2 (None, 15, 15, 128)       0         \n",
            "_________________________________________________________________\n",
            "dropout_12 (Dropout)         (None, 15, 15, 128)       0         \n",
            "_________________________________________________________________\n",
            "conv2d_20 (Conv2D)           (None, 15, 15, 256)       295168    \n",
            "_________________________________________________________________\n",
            "conv2d_21 (Conv2D)           (None, 13, 13, 256)       590080    \n",
            "_________________________________________________________________\n",
            "max_pooling2d_10 (MaxPooling (None, 6, 6, 256)         0         \n",
            "_________________________________________________________________\n",
            "dropout_13 (Dropout)         (None, 6, 6, 256)         0         \n",
            "_________________________________________________________________\n",
            "conv2d_22 (Conv2D)           (None, 6, 6, 512)         1180160   \n",
            "_________________________________________________________________\n",
            "conv2d_23 (Conv2D)           (None, 4, 4, 512)         2359808   \n",
            "_________________________________________________________________\n",
            "max_pooling2d_11 (MaxPooling (None, 2, 2, 512)         0         \n",
            "_________________________________________________________________\n",
            "dropout_14 (Dropout)         (None, 2, 2, 512)         0         \n",
            "_________________________________________________________________\n",
            "flatten_3 (Flatten)          (None, 2048)              0         \n",
            "_________________________________________________________________\n",
            "dense_6 (Dense)              (None, 1024)              2098176   \n",
            "_________________________________________________________________\n",
            "dropout_15 (Dropout)         (None, 1024)              0         \n",
            "_________________________________________________________________\n",
            "dense_7 (Dense)              (None, 100)               102500    \n",
            "=================================================================\n",
            "Total params: 6,777,060\n",
            "Trainable params: 6,777,060\n",
            "Non-trainable params: 0\n",
            "_________________________________________________________________\n",
            "Train for 531 steps, validate for 93 steps\n",
            "Epoch 1/100\n",
            "531/531 [==============================] - 14s 26ms/step - loss: 3.8916 - accuracy: 0.0911 - val_loss: 3.4375 - val_accuracy: 0.1799\n",
            "Epoch 2/100\n",
            "531/531 [==============================] - 12s 23ms/step - loss: 3.3437 - accuracy: 0.1821 - val_loss: 2.9914 - val_accuracy: 0.2530\n",
            "Epoch 3/100\n",
            "531/531 [==============================] - 12s 23ms/step - loss: 3.0215 - accuracy: 0.2457 - val_loss: 2.7180 - val_accuracy: 0.3107\n",
            "Epoch 4/100\n",
            "531/531 [==============================] - 12s 23ms/step - loss: 2.7871 - accuracy: 0.2979 - val_loss: 2.5150 - val_accuracy: 0.3604\n",
            "Epoch 5/100\n",
            "531/531 [==============================] - 12s 23ms/step - loss: 2.6199 - accuracy: 0.3287 - val_loss: 2.4204 - val_accuracy: 0.3792\n",
            "Epoch 6/100\n",
            "531/531 [==============================] - 12s 23ms/step - loss: 2.4835 - accuracy: 0.3626 - val_loss: 2.2902 - val_accuracy: 0.4086\n",
            "Epoch 7/100\n",
            "531/531 [==============================] - 12s 23ms/step - loss: 2.3747 - accuracy: 0.3822 - val_loss: 2.2290 - val_accuracy: 0.4242\n",
            "Epoch 8/100\n",
            "531/531 [==============================] - 12s 23ms/step - loss: 2.2723 - accuracy: 0.4062 - val_loss: 2.1491 - val_accuracy: 0.4429\n",
            "Epoch 9/100\n",
            "531/531 [==============================] - 12s 23ms/step - loss: 2.1889 - accuracy: 0.4237 - val_loss: 2.1201 - val_accuracy: 0.4540\n",
            "Epoch 10/100\n",
            "531/531 [==============================] - 12s 23ms/step - loss: 2.1036 - accuracy: 0.4434 - val_loss: 2.0792 - val_accuracy: 0.4588\n",
            "Epoch 11/100\n",
            "531/531 [==============================] - 12s 23ms/step - loss: 2.0154 - accuracy: 0.4619 - val_loss: 2.0672 - val_accuracy: 0.4615\n",
            "Epoch 12/100\n",
            "531/531 [==============================] - 12s 23ms/step - loss: 1.9380 - accuracy: 0.4797 - val_loss: 1.9745 - val_accuracy: 0.4814\n",
            "Epoch 13/100\n",
            "531/531 [==============================] - 12s 23ms/step - loss: 1.8672 - accuracy: 0.4970 - val_loss: 1.9535 - val_accuracy: 0.4904\n",
            "Epoch 14/100\n",
            "531/531 [==============================] - 12s 23ms/step - loss: 1.8033 - accuracy: 0.5126 - val_loss: 1.9230 - val_accuracy: 0.4998\n",
            "Epoch 15/100\n",
            "531/531 [==============================] - 12s 23ms/step - loss: 1.7252 - accuracy: 0.5277 - val_loss: 1.9550 - val_accuracy: 0.4866\n",
            "Epoch 16/100\n",
            "531/531 [==============================] - 12s 23ms/step - loss: 1.6606 - accuracy: 0.5444 - val_loss: 1.8877 - val_accuracy: 0.5076\n",
            "Epoch 17/100\n",
            "531/531 [==============================] - 12s 23ms/step - loss: 1.6043 - accuracy: 0.5547 - val_loss: 1.8899 - val_accuracy: 0.5022\n",
            "Epoch 18/100\n",
            "531/531 [==============================] - 12s 23ms/step - loss: 1.5486 - accuracy: 0.5694 - val_loss: 1.8834 - val_accuracy: 0.5032\n",
            "Epoch 19/100\n",
            "531/531 [==============================] - 12s 23ms/step - loss: 1.4874 - accuracy: 0.5821 - val_loss: 1.8992 - val_accuracy: 0.4973\n",
            "Epoch 20/100\n",
            "531/531 [==============================] - 12s 23ms/step - loss: 1.4208 - accuracy: 0.6017 - val_loss: 1.8718 - val_accuracy: 0.5044\n",
            "Epoch 21/100\n",
            "531/531 [==============================] - 12s 23ms/step - loss: 1.3647 - accuracy: 0.6130 - val_loss: 1.8606 - val_accuracy: 0.5082\n",
            "Epoch 22/100\n",
            "531/531 [==============================] - 12s 23ms/step - loss: 1.3141 - accuracy: 0.6254 - val_loss: 1.8829 - val_accuracy: 0.5097\n",
            "Epoch 23/100\n",
            "531/531 [==============================] - 12s 23ms/step - loss: 1.2546 - accuracy: 0.6401 - val_loss: 1.8708 - val_accuracy: 0.5133\n",
            "Epoch 24/100\n",
            "531/531 [==============================] - 12s 23ms/step - loss: 1.2029 - accuracy: 0.6543 - val_loss: 1.8547 - val_accuracy: 0.5250\n",
            "Epoch 25/100\n",
            "531/531 [==============================] - 12s 23ms/step - loss: 1.1550 - accuracy: 0.6652 - val_loss: 1.8996 - val_accuracy: 0.5166\n",
            "Epoch 26/100\n",
            "531/531 [==============================] - 12s 23ms/step - loss: 1.0960 - accuracy: 0.6778 - val_loss: 1.9005 - val_accuracy: 0.5274\n",
            "Epoch 27/100\n",
            "531/531 [==============================] - 12s 23ms/step - loss: 1.0451 - accuracy: 0.6926 - val_loss: 1.9083 - val_accuracy: 0.5198\n",
            "Epoch 28/100\n",
            "531/531 [==============================] - 12s 23ms/step - loss: 1.0096 - accuracy: 0.7023 - val_loss: 1.9001 - val_accuracy: 0.5247\n",
            "Epoch 29/100\n",
            "531/531 [==============================] - 12s 23ms/step - loss: 0.9714 - accuracy: 0.7118 - val_loss: 1.8846 - val_accuracy: 0.5220\n",
            "Epoch 30/100\n",
            "531/531 [==============================] - 12s 23ms/step - loss: 0.9155 - accuracy: 0.7292 - val_loss: 1.9495 - val_accuracy: 0.5270\n",
            "Epoch 31/100\n",
            "531/531 [==============================] - 12s 23ms/step - loss: 0.8785 - accuracy: 0.7346 - val_loss: 1.9150 - val_accuracy: 0.5186\n",
            "Epoch 32/100\n",
            "531/531 [==============================] - 12s 23ms/step - loss: 0.8477 - accuracy: 0.7449 - val_loss: 1.9317 - val_accuracy: 0.5270\n",
            "Epoch 33/100\n",
            "531/531 [==============================] - 12s 23ms/step - loss: 0.8036 - accuracy: 0.7553 - val_loss: 1.8995 - val_accuracy: 0.5363\n",
            "Epoch 34/100\n",
            "531/531 [==============================] - 12s 23ms/step - loss: 0.7570 - accuracy: 0.7674 - val_loss: 1.9730 - val_accuracy: 0.5366\n",
            "Epoch 35/100\n",
            "531/531 [==============================] - 12s 23ms/step - loss: 0.7388 - accuracy: 0.7731 - val_loss: 1.9780 - val_accuracy: 0.5286\n",
            "Epoch 36/100\n",
            "531/531 [==============================] - 12s 23ms/step - loss: 0.6988 - accuracy: 0.7865 - val_loss: 1.9854 - val_accuracy: 0.5370\n",
            "Epoch 37/100\n",
            "531/531 [==============================] - 12s 23ms/step - loss: 0.6771 - accuracy: 0.7914 - val_loss: 1.9809 - val_accuracy: 0.5284\n",
            "Epoch 38/100\n",
            "531/531 [==============================] - 12s 23ms/step - loss: 0.6432 - accuracy: 0.8021 - val_loss: 2.0575 - val_accuracy: 0.5222\n",
            "Epoch 39/100\n",
            "531/531 [==============================] - 12s 23ms/step - loss: 0.6194 - accuracy: 0.8095 - val_loss: 1.9920 - val_accuracy: 0.5323\n",
            "Epoch 40/100\n",
            "531/531 [==============================] - 12s 23ms/step - loss: 0.5972 - accuracy: 0.8144 - val_loss: 2.0658 - val_accuracy: 0.5247\n",
            "Epoch 41/100\n",
            "531/531 [==============================] - 12s 23ms/step - loss: 0.5703 - accuracy: 0.8204 - val_loss: 2.0462 - val_accuracy: 0.5321\n",
            "Epoch 42/100\n",
            "531/531 [==============================] - 12s 23ms/step - loss: 0.5499 - accuracy: 0.8294 - val_loss: 2.0865 - val_accuracy: 0.5234\n",
            "Epoch 43/100\n",
            "531/531 [==============================] - 12s 23ms/step - loss: 0.5339 - accuracy: 0.8321 - val_loss: 2.1149 - val_accuracy: 0.5311\n",
            "Epoch 44/100\n",
            "531/531 [==============================] - 12s 23ms/step - loss: 0.5192 - accuracy: 0.8385 - val_loss: 2.0594 - val_accuracy: 0.5306\n",
            "Epoch 45/100\n",
            "531/531 [==============================] - 12s 23ms/step - loss: 0.4964 - accuracy: 0.8442 - val_loss: 2.0887 - val_accuracy: 0.5291\n",
            "Epoch 46/100\n",
            "531/531 [==============================] - 12s 23ms/step - loss: 0.4703 - accuracy: 0.8515 - val_loss: 2.1562 - val_accuracy: 0.5351\n",
            "Epoch 47/100\n",
            "531/531 [==============================] - 12s 23ms/step - loss: 0.4579 - accuracy: 0.8559 - val_loss: 2.1634 - val_accuracy: 0.5376\n",
            "Epoch 48/100\n",
            "531/531 [==============================] - 12s 23ms/step - loss: 0.4423 - accuracy: 0.8600 - val_loss: 2.1432 - val_accuracy: 0.5329\n",
            "Epoch 49/100\n",
            "531/531 [==============================] - 12s 23ms/step - loss: 0.4286 - accuracy: 0.8636 - val_loss: 2.1001 - val_accuracy: 0.5326\n",
            "Epoch 50/100\n",
            "531/531 [==============================] - 12s 23ms/step - loss: 0.4103 - accuracy: 0.8709 - val_loss: 2.2146 - val_accuracy: 0.5318\n",
            "Epoch 51/100\n",
            "531/531 [==============================] - 12s 23ms/step - loss: 0.4022 - accuracy: 0.8724 - val_loss: 2.1981 - val_accuracy: 0.5260\n",
            "Epoch 52/100\n",
            "531/531 [==============================] - 12s 23ms/step - loss: 0.3942 - accuracy: 0.8767 - val_loss: 2.1997 - val_accuracy: 0.5361\n",
            "Epoch 53/100\n",
            "531/531 [==============================] - 12s 23ms/step - loss: 0.3775 - accuracy: 0.8806 - val_loss: 2.2272 - val_accuracy: 0.5381\n",
            "Epoch 54/100\n",
            "531/531 [==============================] - 12s 23ms/step - loss: 0.3739 - accuracy: 0.8802 - val_loss: 2.3161 - val_accuracy: 0.5450\n",
            "Epoch 55/100\n",
            "531/531 [==============================] - 12s 23ms/step - loss: 0.3411 - accuracy: 0.8907 - val_loss: 2.2148 - val_accuracy: 0.5343\n",
            "Epoch 56/100\n",
            "531/531 [==============================] - 12s 23ms/step - loss: 0.3515 - accuracy: 0.8901 - val_loss: 2.2429 - val_accuracy: 0.5334\n",
            "Epoch 57/100\n",
            "531/531 [==============================] - 12s 23ms/step - loss: 0.3276 - accuracy: 0.8935 - val_loss: 2.3378 - val_accuracy: 0.5432\n",
            "Epoch 58/100\n",
            "531/531 [==============================] - 12s 23ms/step - loss: 0.3241 - accuracy: 0.8973 - val_loss: 2.2887 - val_accuracy: 0.5445\n",
            "Epoch 59/100\n",
            "531/531 [==============================] - 12s 23ms/step - loss: 0.3241 - accuracy: 0.8969 - val_loss: 2.2017 - val_accuracy: 0.5395\n",
            "Epoch 60/100\n",
            "531/531 [==============================] - 12s 23ms/step - loss: 0.3129 - accuracy: 0.9003 - val_loss: 2.1815 - val_accuracy: 0.5316\n",
            "Epoch 61/100\n",
            "531/531 [==============================] - 12s 23ms/step - loss: 0.3108 - accuracy: 0.9016 - val_loss: 2.3409 - val_accuracy: 0.5452\n",
            "Epoch 62/100\n",
            "531/531 [==============================] - 12s 23ms/step - loss: 0.3008 - accuracy: 0.9034 - val_loss: 2.2786 - val_accuracy: 0.5425\n",
            "Epoch 63/100\n",
            "531/531 [==============================] - 12s 23ms/step - loss: 0.2918 - accuracy: 0.9077 - val_loss: 2.3531 - val_accuracy: 0.5465\n",
            "Epoch 64/100\n",
            "531/531 [==============================] - 12s 23ms/step - loss: 0.2847 - accuracy: 0.9098 - val_loss: 2.3360 - val_accuracy: 0.5410\n",
            "Epoch 65/100\n",
            "531/531 [==============================] - 12s 23ms/step - loss: 0.2755 - accuracy: 0.9123 - val_loss: 2.3620 - val_accuracy: 0.5413\n",
            "Epoch 66/100\n",
            "531/531 [==============================] - 12s 23ms/step - loss: 0.2747 - accuracy: 0.9137 - val_loss: 2.2539 - val_accuracy: 0.5373\n",
            "Epoch 67/100\n",
            "531/531 [==============================] - 12s 23ms/step - loss: 0.2716 - accuracy: 0.9156 - val_loss: 2.3392 - val_accuracy: 0.5323\n",
            "Epoch 68/100\n",
            "531/531 [==============================] - 12s 23ms/step - loss: 0.2675 - accuracy: 0.9167 - val_loss: 2.3300 - val_accuracy: 0.5395\n",
            "Epoch 69/100\n",
            "531/531 [==============================] - 12s 23ms/step - loss: 0.2664 - accuracy: 0.9162 - val_loss: 2.2628 - val_accuracy: 0.5410\n",
            "Epoch 70/100\n",
            "531/531 [==============================] - 12s 23ms/step - loss: 0.2617 - accuracy: 0.9183 - val_loss: 2.1645 - val_accuracy: 0.5272\n",
            "Epoch 71/100\n",
            "531/531 [==============================] - 12s 23ms/step - loss: 0.2516 - accuracy: 0.9192 - val_loss: 2.4490 - val_accuracy: 0.5398\n",
            "Epoch 72/100\n",
            "531/531 [==============================] - 12s 23ms/step - loss: 0.2552 - accuracy: 0.9193 - val_loss: 2.2827 - val_accuracy: 0.5328\n",
            "Epoch 73/100\n",
            "531/531 [==============================] - 12s 23ms/step - loss: 0.2434 - accuracy: 0.9232 - val_loss: 2.3007 - val_accuracy: 0.5353\n",
            "Epoch 74/100\n",
            "531/531 [==============================] - 12s 23ms/step - loss: 0.2447 - accuracy: 0.9238 - val_loss: 2.6399 - val_accuracy: 0.5422\n",
            "Epoch 75/100\n",
            "531/531 [==============================] - 12s 23ms/step - loss: 0.2380 - accuracy: 0.9257 - val_loss: 2.4223 - val_accuracy: 0.5418\n",
            "Epoch 76/100\n",
            "531/531 [==============================] - 12s 23ms/step - loss: 0.2374 - accuracy: 0.9256 - val_loss: 2.3462 - val_accuracy: 0.5457\n",
            "Epoch 77/100\n",
            "531/531 [==============================] - 12s 23ms/step - loss: 0.2276 - accuracy: 0.9293 - val_loss: 2.2456 - val_accuracy: 0.5349\n",
            "Epoch 78/100\n",
            "531/531 [==============================] - 12s 23ms/step - loss: 0.2317 - accuracy: 0.9291 - val_loss: 2.4665 - val_accuracy: 0.5400\n",
            "Epoch 79/100\n",
            "531/531 [==============================] - 12s 23ms/step - loss: 0.2268 - accuracy: 0.9294 - val_loss: 2.3900 - val_accuracy: 0.5365\n",
            "Epoch 80/100\n",
            "531/531 [==============================] - 12s 23ms/step - loss: 0.2160 - accuracy: 0.9304 - val_loss: 2.5371 - val_accuracy: 0.5457\n",
            "Epoch 81/100\n",
            "531/531 [==============================] - 12s 23ms/step - loss: 0.2172 - accuracy: 0.9325 - val_loss: 2.3537 - val_accuracy: 0.5269\n",
            "Epoch 82/100\n",
            "531/531 [==============================] - 12s 23ms/step - loss: 0.2189 - accuracy: 0.9318 - val_loss: 2.2622 - val_accuracy: 0.5459\n",
            "Epoch 83/100\n",
            "531/531 [==============================] - 12s 23ms/step - loss: 0.2138 - accuracy: 0.9332 - val_loss: 2.3922 - val_accuracy: 0.5526\n",
            "Epoch 84/100\n",
            "531/531 [==============================] - 12s 23ms/step - loss: 0.2144 - accuracy: 0.9344 - val_loss: 2.3605 - val_accuracy: 0.5402\n",
            "Epoch 85/100\n",
            "531/531 [==============================] - 12s 23ms/step - loss: 0.2031 - accuracy: 0.9363 - val_loss: 2.4382 - val_accuracy: 0.5494\n",
            "Epoch 86/100\n",
            "531/531 [==============================] - 12s 23ms/step - loss: 0.1993 - accuracy: 0.9383 - val_loss: 2.5134 - val_accuracy: 0.5459\n",
            "Epoch 87/100\n",
            "531/531 [==============================] - 12s 23ms/step - loss: 0.2040 - accuracy: 0.9363 - val_loss: 2.5845 - val_accuracy: 0.5482\n",
            "Epoch 88/100\n",
            "531/531 [==============================] - 12s 23ms/step - loss: 0.2001 - accuracy: 0.9390 - val_loss: 2.3202 - val_accuracy: 0.5348\n",
            "Epoch 89/100\n",
            "531/531 [==============================] - 12s 23ms/step - loss: 0.1938 - accuracy: 0.9404 - val_loss: 2.4351 - val_accuracy: 0.5405\n",
            "Epoch 90/100\n",
            "531/531 [==============================] - 12s 23ms/step - loss: 0.1954 - accuracy: 0.9389 - val_loss: 2.4640 - val_accuracy: 0.5331\n",
            "Epoch 91/100\n",
            "531/531 [==============================] - 12s 23ms/step - loss: 0.1912 - accuracy: 0.9401 - val_loss: 2.2235 - val_accuracy: 0.5217\n",
            "Epoch 92/100\n",
            "531/531 [==============================] - 12s 23ms/step - loss: 0.1938 - accuracy: 0.9406 - val_loss: 2.6842 - val_accuracy: 0.5484\n",
            "Epoch 93/100\n",
            "531/531 [==============================] - 12s 23ms/step - loss: 0.1912 - accuracy: 0.9410 - val_loss: 2.4261 - val_accuracy: 0.5324\n",
            "Epoch 94/100\n",
            "531/531 [==============================] - 12s 23ms/step - loss: 0.1868 - accuracy: 0.9427 - val_loss: 2.3689 - val_accuracy: 0.5319\n",
            "Epoch 95/100\n",
            "531/531 [==============================] - 12s 23ms/step - loss: 0.1906 - accuracy: 0.9409 - val_loss: 2.3368 - val_accuracy: 0.5378\n",
            "Epoch 96/100\n",
            "531/531 [==============================] - 12s 23ms/step - loss: 0.1855 - accuracy: 0.9420 - val_loss: 2.4125 - val_accuracy: 0.5289\n",
            "Epoch 97/100\n",
            "531/531 [==============================] - 12s 23ms/step - loss: 0.1846 - accuracy: 0.9442 - val_loss: 2.3714 - val_accuracy: 0.5361\n",
            "Epoch 98/100\n",
            "531/531 [==============================] - 12s 23ms/step - loss: 0.1778 - accuracy: 0.9457 - val_loss: 2.4566 - val_accuracy: 0.5457\n",
            "Epoch 99/100\n",
            "531/531 [==============================] - 12s 23ms/step - loss: 0.1797 - accuracy: 0.9462 - val_loss: 2.4942 - val_accuracy: 0.5433\n",
            "Epoch 100/100\n",
            "531/531 [==============================] - 12s 23ms/step - loss: 0.1821 - accuracy: 0.9437 - val_loss: 2.3506 - val_accuracy: 0.5321\n"
          ],
          "name": "stdout"
        }
      ]
    },
    {
      "cell_type": "code",
      "metadata": {
        "colab_type": "code",
        "id": "3swO_hvCSi8R",
        "outputId": "5712fd9c-8363-497c-defd-a470fa22f83f",
        "colab": {
          "base_uri": "https://localhost:8080/",
          "height": 625
        }
      },
      "source": [
        "model_report(RMSPROP_MODEL_NOAUG, RMSPROP_MODEL_NOAUG.history)"
      ],
      "execution_count": 0,
      "outputs": [
        {
          "output_type": "display_data",
          "data": {
            "image/png": "[encoded data removed]",
            "text/plain": [
              "<Figure size 576x576 with 2 Axes>"
            ]
          },
          "metadata": {
            "tags": []
          }
        },
        {
          "output_type": "stream",
          "text": [
            "\n",
            "Test set evaluation metrics\n",
            "125/125 [==============================] - 1s 8ms/step - loss: 2.2819 - accuracy: 0.5445\n",
            "loss: 2.28\n",
            "accuracy: 0.54\n"
          ],
          "name": "stdout"
        }
      ]
    },
    {
      "cell_type": "markdown",
      "metadata": {
        "colab_type": "text",
        "id": "hfFGI8ZH-0TQ"
      },
      "source": [
        "Παρατηρούμε ότι το δεύτερο μοντέλο μας παρουσιάζει ελαφρώς καλύτερη απόδοση από το πρώτο. Προτού αποφανθούμε ωστόσο για την επιλογή του βέλτιστου δικτύου, θα εξετάσουμε τα παραπάνω μοντέλα εμπλουτισμένα με τη μέθοσο του [Data Augmentation](https://bit.ly/33J4ku8)."
      ]
    },
    {
      "cell_type": "markdown",
      "metadata": {
        "colab_type": "text",
        "id": "x0SLth49VXHm"
      },
      "source": [
        "#### Data Augmentation"
      ]
    },
    {
      "cell_type": "markdown",
      "metadata": {
        "colab_type": "text",
        "id": "OW_qjFQj_SDT"
      },
      "source": [
        "Θα εξετάσουμε τη μέθοδο εμπλουτισμού του συνόλου δεδομέων μας με μετασχηματισμένες εικόνες εισόδου, προκειμένου να βελτιώσουμε τη συνολική απόδοση των δικτύων μας, αλλά και για να αντιμετωπίσουμε το πρόβλημα της υπερ-εκπαίδευσης στα δεδομένα εκπαίδευσης που παρατηρούμε στα παραπάνω διαγράμματα.\n",
        "\n",
        "Για το σκοπό αυτό θα χρησιμοποιήσουμε τον [ImageDataGenerator](https://bit.ly/33B1reJ), από τον οποίο θα επιλέξουμε τους μετασχηματισμούς `rotation_range`, `width_shift_range`, `height_shift_range` και `horizontal_flip`."
      ]
    },
    {
      "cell_type": "code",
      "metadata": {
        "colab_type": "code",
        "id": "dQ5RNqV9Pmvs",
        "colab": {}
      },
      "source": [
        "datagen = ImageDataGenerator(rotation_range=0, width_shift_range=0.1, height_shift_range=0.1, horizontal_flip=True)\n",
        "\n",
        "datagen.fit(x_train)"
      ],
      "execution_count": 0,
      "outputs": []
    },
    {
      "cell_type": "markdown",
      "metadata": {
        "colab_type": "text",
        "id": "_svqLOEvALnK"
      },
      "source": [
        "Εξετάζουμε αρχικά το δίκτυο με αλγόριθμο ενεργοποίησης *Adam*:"
      ]
    },
    {
      "cell_type": "code",
      "metadata": {
        "colab_type": "code",
        "id": "zHBAP1jvVNp1",
        "outputId": "e53159d2-ed33-483c-c2b2-30a4b00bbdee",
        "colab": {
          "base_uri": "https://localhost:8080/",
          "height": 1000
        }
      },
      "source": [
        "ADAM_MODEL_AUG = init_adam_model(summary = True)\n",
        "\n",
        "ADAM_MODEL_AUG.fit(datagen.flow(x_train, y_train, batch_size=64), steps_per_epoch=x_train.shape[0]//64, epochs=100, validation_data=(x_val, y_val))"
      ],
      "execution_count": 0,
      "outputs": [
        {
          "output_type": "stream",
          "text": [
            "Model: \"sequential_4\"\n",
            "_________________________________________________________________\n",
            "Layer (type)                 Output Shape              Param #   \n",
            "=================================================================\n",
            "conv2d_24 (Conv2D)           (None, 32, 32, 128)       3584      \n",
            "_________________________________________________________________\n",
            "conv2d_25 (Conv2D)           (None, 30, 30, 128)       147584    \n",
            "_________________________________________________________________\n",
            "max_pooling2d_12 (MaxPooling (None, 15, 15, 128)       0         \n",
            "_________________________________________________________________\n",
            "dropout_16 (Dropout)         (None, 15, 15, 128)       0         \n",
            "_________________________________________________________________\n",
            "conv2d_26 (Conv2D)           (None, 15, 15, 256)       295168    \n",
            "_________________________________________________________________\n",
            "conv2d_27 (Conv2D)           (None, 13, 13, 256)       590080    \n",
            "_________________________________________________________________\n",
            "max_pooling2d_13 (MaxPooling (None, 6, 6, 256)         0         \n",
            "_________________________________________________________________\n",
            "dropout_17 (Dropout)         (None, 6, 6, 256)         0         \n",
            "_________________________________________________________________\n",
            "conv2d_28 (Conv2D)           (None, 6, 6, 512)         1180160   \n",
            "_________________________________________________________________\n",
            "conv2d_29 (Conv2D)           (None, 4, 4, 512)         2359808   \n",
            "_________________________________________________________________\n",
            "max_pooling2d_14 (MaxPooling (None, 2, 2, 512)         0         \n",
            "_________________________________________________________________\n",
            "dropout_18 (Dropout)         (None, 2, 2, 512)         0         \n",
            "_________________________________________________________________\n",
            "flatten_4 (Flatten)          (None, 2048)              0         \n",
            "_________________________________________________________________\n",
            "dense_8 (Dense)              (None, 1024)              2098176   \n",
            "_________________________________________________________________\n",
            "dropout_19 (Dropout)         (None, 1024)              0         \n",
            "_________________________________________________________________\n",
            "dense_9 (Dense)              (None, 100)               102500    \n",
            "=================================================================\n",
            "Total params: 6,777,060\n",
            "Trainable params: 6,777,060\n",
            "Non-trainable params: 0\n",
            "_________________________________________________________________\n",
            "WARNING:tensorflow:sample_weight modes were coerced from\n",
            "  ...\n",
            "    to  \n",
            "  ['...']\n",
            "Train for 531 steps, validate on 6000 samples\n",
            "Epoch 1/100\n",
            "531/531 [==============================] - 19s 35ms/step - loss: 3.9400 - accuracy: 0.0821 - val_loss: 3.4060 - val_accuracy: 0.1803\n",
            "Epoch 2/100\n",
            "531/531 [==============================] - 18s 33ms/step - loss: 3.4157 - accuracy: 0.1652 - val_loss: 3.1646 - val_accuracy: 0.2057\n",
            "Epoch 3/100\n",
            "531/531 [==============================] - 18s 33ms/step - loss: 3.1376 - accuracy: 0.2189 - val_loss: 2.8573 - val_accuracy: 0.2857\n",
            "Epoch 4/100\n",
            "531/531 [==============================] - 18s 33ms/step - loss: 2.9481 - accuracy: 0.2546 - val_loss: 2.6302 - val_accuracy: 0.3333\n",
            "Epoch 5/100\n",
            "531/531 [==============================] - 18s 34ms/step - loss: 2.7999 - accuracy: 0.2908 - val_loss: 2.4743 - val_accuracy: 0.3667\n",
            "Epoch 6/100\n",
            "531/531 [==============================] - 18s 33ms/step - loss: 2.6983 - accuracy: 0.3096 - val_loss: 2.4080 - val_accuracy: 0.3835\n",
            "Epoch 7/100\n",
            "531/531 [==============================] - 18s 33ms/step - loss: 2.6069 - accuracy: 0.3287 - val_loss: 2.4105 - val_accuracy: 0.3812\n",
            "Epoch 8/100\n",
            "531/531 [==============================] - 18s 33ms/step - loss: 2.5439 - accuracy: 0.3439 - val_loss: 2.2688 - val_accuracy: 0.4137\n",
            "Epoch 9/100\n",
            "531/531 [==============================] - 18s 33ms/step - loss: 2.4766 - accuracy: 0.3573 - val_loss: 2.1959 - val_accuracy: 0.4340\n",
            "Epoch 10/100\n",
            "531/531 [==============================] - 18s 34ms/step - loss: 2.4240 - accuracy: 0.3718 - val_loss: 2.1840 - val_accuracy: 0.4277\n",
            "Epoch 11/100\n",
            "531/531 [==============================] - 18s 33ms/step - loss: 2.3788 - accuracy: 0.3783 - val_loss: 2.1202 - val_accuracy: 0.4420\n",
            "Epoch 12/100\n",
            "531/531 [==============================] - 18s 34ms/step - loss: 2.3308 - accuracy: 0.3899 - val_loss: 2.0588 - val_accuracy: 0.4548\n",
            "Epoch 13/100\n",
            "531/531 [==============================] - 18s 34ms/step - loss: 2.2979 - accuracy: 0.3956 - val_loss: 2.0117 - val_accuracy: 0.4663\n",
            "Epoch 14/100\n",
            "531/531 [==============================] - 18s 34ms/step - loss: 2.2540 - accuracy: 0.4069 - val_loss: 2.0011 - val_accuracy: 0.4662\n",
            "Epoch 15/100\n",
            "531/531 [==============================] - 18s 34ms/step - loss: 2.2289 - accuracy: 0.4100 - val_loss: 1.9682 - val_accuracy: 0.4783\n",
            "Epoch 16/100\n",
            "531/531 [==============================] - 18s 34ms/step - loss: 2.1886 - accuracy: 0.4199 - val_loss: 1.9331 - val_accuracy: 0.4760\n",
            "Epoch 17/100\n",
            "531/531 [==============================] - 18s 33ms/step - loss: 2.1608 - accuracy: 0.4283 - val_loss: 1.9723 - val_accuracy: 0.4767\n",
            "Epoch 18/100\n",
            "531/531 [==============================] - 18s 34ms/step - loss: 2.1291 - accuracy: 0.4317 - val_loss: 1.9041 - val_accuracy: 0.4875\n",
            "Epoch 19/100\n",
            "531/531 [==============================] - 18s 34ms/step - loss: 2.0916 - accuracy: 0.4425 - val_loss: 1.8164 - val_accuracy: 0.5083\n",
            "Epoch 20/100\n",
            "531/531 [==============================] - 18s 33ms/step - loss: 2.0840 - accuracy: 0.4444 - val_loss: 1.8537 - val_accuracy: 0.5065\n",
            "Epoch 21/100\n",
            "531/531 [==============================] - 18s 34ms/step - loss: 2.0577 - accuracy: 0.4476 - val_loss: 1.8154 - val_accuracy: 0.5078\n",
            "Epoch 22/100\n",
            "531/531 [==============================] - 18s 33ms/step - loss: 2.0287 - accuracy: 0.4545 - val_loss: 1.8036 - val_accuracy: 0.5098\n",
            "Epoch 23/100\n",
            "531/531 [==============================] - 18s 34ms/step - loss: 2.0031 - accuracy: 0.4596 - val_loss: 1.7707 - val_accuracy: 0.5193\n",
            "Epoch 24/100\n",
            "531/531 [==============================] - 18s 34ms/step - loss: 1.9827 - accuracy: 0.4653 - val_loss: 1.7541 - val_accuracy: 0.5160\n",
            "Epoch 25/100\n",
            "531/531 [==============================] - 18s 34ms/step - loss: 1.9605 - accuracy: 0.4700 - val_loss: 1.8153 - val_accuracy: 0.5145\n",
            "Epoch 26/100\n",
            "531/531 [==============================] - 18s 34ms/step - loss: 1.9345 - accuracy: 0.4738 - val_loss: 1.7733 - val_accuracy: 0.5117\n",
            "Epoch 27/100\n",
            "531/531 [==============================] - 18s 33ms/step - loss: 1.9144 - accuracy: 0.4785 - val_loss: 1.7059 - val_accuracy: 0.5318\n",
            "Epoch 28/100\n",
            "531/531 [==============================] - 18s 34ms/step - loss: 1.9015 - accuracy: 0.4823 - val_loss: 1.7156 - val_accuracy: 0.5255\n",
            "Epoch 29/100\n",
            "531/531 [==============================] - 18s 33ms/step - loss: 1.8805 - accuracy: 0.4865 - val_loss: 1.7131 - val_accuracy: 0.5285\n",
            "Epoch 30/100\n",
            "531/531 [==============================] - 18s 33ms/step - loss: 1.8626 - accuracy: 0.4928 - val_loss: 1.7214 - val_accuracy: 0.5363\n",
            "Epoch 31/100\n",
            "531/531 [==============================] - 18s 34ms/step - loss: 1.8473 - accuracy: 0.4942 - val_loss: 1.6522 - val_accuracy: 0.5405\n",
            "Epoch 32/100\n",
            "531/531 [==============================] - 18s 34ms/step - loss: 1.8339 - accuracy: 0.4959 - val_loss: 1.6561 - val_accuracy: 0.5427\n",
            "Epoch 33/100\n",
            "531/531 [==============================] - 18s 33ms/step - loss: 1.8109 - accuracy: 0.5054 - val_loss: 1.6568 - val_accuracy: 0.5432\n",
            "Epoch 34/100\n",
            "531/531 [==============================] - 18s 34ms/step - loss: 1.8010 - accuracy: 0.5067 - val_loss: 1.6714 - val_accuracy: 0.5403\n",
            "Epoch 35/100\n",
            "531/531 [==============================] - 18s 34ms/step - loss: 1.7821 - accuracy: 0.5128 - val_loss: 1.5572 - val_accuracy: 0.5713\n",
            "Epoch 36/100\n",
            "531/531 [==============================] - 18s 33ms/step - loss: 1.7529 - accuracy: 0.5166 - val_loss: 1.5760 - val_accuracy: 0.5628\n",
            "Epoch 37/100\n",
            "531/531 [==============================] - 18s 34ms/step - loss: 1.7357 - accuracy: 0.5222 - val_loss: 1.6113 - val_accuracy: 0.5588\n",
            "Epoch 38/100\n",
            "531/531 [==============================] - 18s 33ms/step - loss: 1.7377 - accuracy: 0.5230 - val_loss: 1.5406 - val_accuracy: 0.5693\n",
            "Epoch 39/100\n",
            "531/531 [==============================] - 18s 34ms/step - loss: 1.7032 - accuracy: 0.5288 - val_loss: 1.5536 - val_accuracy: 0.5687\n",
            "Epoch 40/100\n",
            "531/531 [==============================] - 18s 33ms/step - loss: 1.7032 - accuracy: 0.5290 - val_loss: 1.5730 - val_accuracy: 0.5620\n",
            "Epoch 41/100\n",
            "531/531 [==============================] - 18s 33ms/step - loss: 1.6844 - accuracy: 0.5336 - val_loss: 1.5475 - val_accuracy: 0.5755\n",
            "Epoch 42/100\n",
            "531/531 [==============================] - 18s 34ms/step - loss: 1.6683 - accuracy: 0.5343 - val_loss: 1.5219 - val_accuracy: 0.5723\n",
            "Epoch 43/100\n",
            "531/531 [==============================] - 18s 33ms/step - loss: 1.6480 - accuracy: 0.5400 - val_loss: 1.5101 - val_accuracy: 0.5808\n",
            "Epoch 44/100\n",
            "531/531 [==============================] - 18s 33ms/step - loss: 1.6406 - accuracy: 0.5415 - val_loss: 1.5158 - val_accuracy: 0.5840\n",
            "Epoch 45/100\n",
            "531/531 [==============================] - 18s 33ms/step - loss: 1.6212 - accuracy: 0.5448 - val_loss: 1.4832 - val_accuracy: 0.5853\n",
            "Epoch 46/100\n",
            "531/531 [==============================] - 18s 34ms/step - loss: 1.6070 - accuracy: 0.5518 - val_loss: 1.4880 - val_accuracy: 0.5892\n",
            "Epoch 47/100\n",
            "531/531 [==============================] - 18s 33ms/step - loss: 1.5987 - accuracy: 0.5504 - val_loss: 1.4934 - val_accuracy: 0.5900\n",
            "Epoch 48/100\n",
            "531/531 [==============================] - 18s 34ms/step - loss: 1.5761 - accuracy: 0.5554 - val_loss: 1.4677 - val_accuracy: 0.5893\n",
            "Epoch 49/100\n",
            "531/531 [==============================] - 18s 34ms/step - loss: 1.5610 - accuracy: 0.5593 - val_loss: 1.4531 - val_accuracy: 0.5962\n",
            "Epoch 50/100\n",
            "531/531 [==============================] - 18s 33ms/step - loss: 1.5601 - accuracy: 0.5602 - val_loss: 1.4484 - val_accuracy: 0.5918\n",
            "Epoch 51/100\n",
            "531/531 [==============================] - 18s 34ms/step - loss: 1.5485 - accuracy: 0.5649 - val_loss: 1.4388 - val_accuracy: 0.5943\n",
            "Epoch 52/100\n",
            "531/531 [==============================] - 18s 34ms/step - loss: 1.5169 - accuracy: 0.5710 - val_loss: 1.4398 - val_accuracy: 0.5987\n",
            "Epoch 53/100\n",
            "531/531 [==============================] - 18s 34ms/step - loss: 1.5224 - accuracy: 0.5679 - val_loss: 1.4030 - val_accuracy: 0.6070\n",
            "Epoch 54/100\n",
            "531/531 [==============================] - 18s 33ms/step - loss: 1.5031 - accuracy: 0.5758 - val_loss: 1.4132 - val_accuracy: 0.6032\n",
            "Epoch 55/100\n",
            "531/531 [==============================] - 18s 34ms/step - loss: 1.4957 - accuracy: 0.5771 - val_loss: 1.4321 - val_accuracy: 0.5988\n",
            "Epoch 56/100\n",
            "531/531 [==============================] - 18s 34ms/step - loss: 1.4771 - accuracy: 0.5781 - val_loss: 1.4390 - val_accuracy: 0.5993\n",
            "Epoch 57/100\n",
            "531/531 [==============================] - 18s 33ms/step - loss: 1.4701 - accuracy: 0.5824 - val_loss: 1.4254 - val_accuracy: 0.6083\n",
            "Epoch 58/100\n",
            "531/531 [==============================] - 18s 33ms/step - loss: 1.4557 - accuracy: 0.5850 - val_loss: 1.4174 - val_accuracy: 0.5993\n",
            "Epoch 59/100\n",
            "531/531 [==============================] - 18s 33ms/step - loss: 1.4441 - accuracy: 0.5877 - val_loss: 1.3793 - val_accuracy: 0.6112\n",
            "Epoch 60/100\n",
            "531/531 [==============================] - 18s 33ms/step - loss: 1.4403 - accuracy: 0.5908 - val_loss: 1.4102 - val_accuracy: 0.6030\n",
            "Epoch 61/100\n",
            "531/531 [==============================] - 18s 33ms/step - loss: 1.4146 - accuracy: 0.5946 - val_loss: 1.3601 - val_accuracy: 0.6180\n",
            "Epoch 62/100\n",
            "531/531 [==============================] - 18s 33ms/step - loss: 1.3904 - accuracy: 0.5989 - val_loss: 1.3738 - val_accuracy: 0.6105\n",
            "Epoch 63/100\n",
            "531/531 [==============================] - 18s 33ms/step - loss: 1.3997 - accuracy: 0.6004 - val_loss: 1.3713 - val_accuracy: 0.6183\n",
            "Epoch 64/100\n",
            "531/531 [==============================] - 18s 34ms/step - loss: 1.3821 - accuracy: 0.6033 - val_loss: 1.3627 - val_accuracy: 0.6165\n",
            "Epoch 65/100\n",
            "531/531 [==============================] - 18s 33ms/step - loss: 1.3735 - accuracy: 0.6035 - val_loss: 1.3690 - val_accuracy: 0.6162\n",
            "Epoch 66/100\n",
            "531/531 [==============================] - 18s 34ms/step - loss: 1.3537 - accuracy: 0.6083 - val_loss: 1.3534 - val_accuracy: 0.6175\n",
            "Epoch 67/100\n",
            "531/531 [==============================] - 18s 33ms/step - loss: 1.3491 - accuracy: 0.6100 - val_loss: 1.3613 - val_accuracy: 0.6207\n",
            "Epoch 68/100\n",
            "531/531 [==============================] - 18s 33ms/step - loss: 1.3326 - accuracy: 0.6165 - val_loss: 1.3539 - val_accuracy: 0.6238\n",
            "Epoch 69/100\n",
            "531/531 [==============================] - 18s 34ms/step - loss: 1.3292 - accuracy: 0.6166 - val_loss: 1.3521 - val_accuracy: 0.6195\n",
            "Epoch 70/100\n",
            "531/531 [==============================] - 18s 34ms/step - loss: 1.3196 - accuracy: 0.6183 - val_loss: 1.3698 - val_accuracy: 0.6147\n",
            "Epoch 71/100\n",
            "531/531 [==============================] - 18s 34ms/step - loss: 1.2983 - accuracy: 0.6235 - val_loss: 1.3324 - val_accuracy: 0.6258\n",
            "Epoch 72/100\n",
            "531/531 [==============================] - 18s 34ms/step - loss: 1.2843 - accuracy: 0.6290 - val_loss: 1.3240 - val_accuracy: 0.6288\n",
            "Epoch 73/100\n",
            "531/531 [==============================] - 18s 34ms/step - loss: 1.2839 - accuracy: 0.6289 - val_loss: 1.3498 - val_accuracy: 0.6268\n",
            "Epoch 74/100\n",
            "531/531 [==============================] - 18s 34ms/step - loss: 1.2616 - accuracy: 0.6314 - val_loss: 1.2895 - val_accuracy: 0.6372\n",
            "Epoch 75/100\n",
            "531/531 [==============================] - 18s 34ms/step - loss: 1.2542 - accuracy: 0.6327 - val_loss: 1.3521 - val_accuracy: 0.6320\n",
            "Epoch 76/100\n",
            "531/531 [==============================] - 18s 34ms/step - loss: 1.2401 - accuracy: 0.6378 - val_loss: 1.3517 - val_accuracy: 0.6218\n",
            "Epoch 77/100\n",
            "531/531 [==============================] - 18s 34ms/step - loss: 1.2426 - accuracy: 0.6365 - val_loss: 1.2976 - val_accuracy: 0.6350\n",
            "Epoch 78/100\n",
            "531/531 [==============================] - 18s 34ms/step - loss: 1.2308 - accuracy: 0.6404 - val_loss: 1.3186 - val_accuracy: 0.6278\n",
            "Epoch 79/100\n",
            "531/531 [==============================] - 18s 33ms/step - loss: 1.2205 - accuracy: 0.6403 - val_loss: 1.3230 - val_accuracy: 0.6288\n",
            "Epoch 80/100\n",
            "531/531 [==============================] - 18s 34ms/step - loss: 1.2112 - accuracy: 0.6450 - val_loss: 1.3189 - val_accuracy: 0.6330\n",
            "Epoch 81/100\n",
            "531/531 [==============================] - 18s 34ms/step - loss: 1.2006 - accuracy: 0.6497 - val_loss: 1.2816 - val_accuracy: 0.6377\n",
            "Epoch 82/100\n",
            "531/531 [==============================] - 18s 33ms/step - loss: 1.1930 - accuracy: 0.6503 - val_loss: 1.3942 - val_accuracy: 0.6163\n",
            "Epoch 83/100\n",
            "531/531 [==============================] - 18s 34ms/step - loss: 1.1757 - accuracy: 0.6546 - val_loss: 1.2928 - val_accuracy: 0.6432\n",
            "Epoch 84/100\n",
            "531/531 [==============================] - 18s 33ms/step - loss: 1.1662 - accuracy: 0.6562 - val_loss: 1.2988 - val_accuracy: 0.6365\n",
            "Epoch 85/100\n",
            "531/531 [==============================] - 18s 33ms/step - loss: 1.1523 - accuracy: 0.6589 - val_loss: 1.2829 - val_accuracy: 0.6412\n",
            "Epoch 86/100\n",
            "531/531 [==============================] - 18s 33ms/step - loss: 1.1484 - accuracy: 0.6626 - val_loss: 1.2859 - val_accuracy: 0.6343\n",
            "Epoch 87/100\n",
            "531/531 [==============================] - 18s 34ms/step - loss: 1.1401 - accuracy: 0.6627 - val_loss: 1.3036 - val_accuracy: 0.6335\n",
            "Epoch 88/100\n",
            "531/531 [==============================] - 18s 33ms/step - loss: 1.1420 - accuracy: 0.6601 - val_loss: 1.2903 - val_accuracy: 0.6425\n",
            "Epoch 89/100\n",
            "531/531 [==============================] - 18s 33ms/step - loss: 1.1195 - accuracy: 0.6636 - val_loss: 1.2862 - val_accuracy: 0.6442\n",
            "Epoch 90/100\n",
            "531/531 [==============================] - 18s 33ms/step - loss: 1.1047 - accuracy: 0.6724 - val_loss: 1.2731 - val_accuracy: 0.6403\n",
            "Epoch 91/100\n",
            "531/531 [==============================] - 18s 33ms/step - loss: 1.1046 - accuracy: 0.6684 - val_loss: 1.3158 - val_accuracy: 0.6402\n",
            "Epoch 92/100\n",
            "531/531 [==============================] - 18s 34ms/step - loss: 1.0995 - accuracy: 0.6760 - val_loss: 1.2790 - val_accuracy: 0.6455\n",
            "Epoch 93/100\n",
            "531/531 [==============================] - 18s 33ms/step - loss: 1.0844 - accuracy: 0.6755 - val_loss: 1.3025 - val_accuracy: 0.6412\n",
            "Epoch 94/100\n",
            "531/531 [==============================] - 18s 33ms/step - loss: 1.0781 - accuracy: 0.6756 - val_loss: 1.2662 - val_accuracy: 0.6520\n",
            "Epoch 95/100\n",
            "531/531 [==============================] - 18s 33ms/step - loss: 1.0695 - accuracy: 0.6777 - val_loss: 1.3034 - val_accuracy: 0.6422\n",
            "Epoch 96/100\n",
            "531/531 [==============================] - 18s 34ms/step - loss: 1.0692 - accuracy: 0.6798 - val_loss: 1.3394 - val_accuracy: 0.6388\n",
            "Epoch 97/100\n",
            "531/531 [==============================] - 18s 33ms/step - loss: 1.0524 - accuracy: 0.6845 - val_loss: 1.2440 - val_accuracy: 0.6477\n",
            "Epoch 98/100\n",
            "531/531 [==============================] - 18s 33ms/step - loss: 1.0466 - accuracy: 0.6892 - val_loss: 1.2749 - val_accuracy: 0.6437\n",
            "Epoch 99/100\n",
            "531/531 [==============================] - 18s 33ms/step - loss: 1.0361 - accuracy: 0.6905 - val_loss: 1.2430 - val_accuracy: 0.6515\n",
            "Epoch 100/100\n",
            "531/531 [==============================] - 18s 33ms/step - loss: 1.0339 - accuracy: 0.6891 - val_loss: 1.2819 - val_accuracy: 0.6545\n"
          ],
          "name": "stdout"
        },
        {
          "output_type": "execute_result",
          "data": {
            "text/plain": [
              "<tensorflow.python.keras.callbacks.History at 0x7fa342225278>"
            ]
          },
          "metadata": {
            "tags": []
          },
          "execution_count": 24
        }
      ]
    },
    {
      "cell_type": "code",
      "metadata": {
        "colab_type": "code",
        "id": "tbyKGczgVWHD",
        "outputId": "e32c98a0-e945-40fa-dfc7-5d513bf68ac2",
        "colab": {
          "base_uri": "https://localhost:8080/",
          "height": 625
        }
      },
      "source": [
        "model_report(ADAM_MODEL_AUG, ADAM_MODEL_AUG.history)"
      ],
      "execution_count": 0,
      "outputs": [
        {
          "output_type": "display_data",
          "data": {
            "image/png": "[encoded data removed]",
            "text/plain": [
              "<Figure size 576x576 with 2 Axes>"
            ]
          },
          "metadata": {
            "tags": []
          }
        },
        {
          "output_type": "stream",
          "text": [
            "\n",
            "Test set evaluation metrics\n",
            "125/125 [==============================] - 1s 10ms/step - loss: 1.2493 - accuracy: 0.6579\n",
            "loss: 1.25\n",
            "accuracy: 0.66\n"
          ],
          "name": "stdout"
        }
      ]
    },
    {
      "cell_type": "markdown",
      "metadata": {
        "colab_type": "text",
        "id": "yKQ2LoWKAVHs"
      },
      "source": [
        "Συνεχίζουμε με αλγόριθμο βελτιστοποίησης *RMSprop*:"
      ]
    },
    {
      "cell_type": "code",
      "metadata": {
        "colab_type": "code",
        "id": "_Yet3fJAVx6G",
        "outputId": "956749e5-a66a-40fe-de77-bef921d6db7d",
        "colab": {
          "base_uri": "https://localhost:8080/",
          "height": 1000
        }
      },
      "source": [
        "RMSPROP_MODEL_AUG = init_rmsprop_model(summary = True)\n",
        "\n",
        "RMSPROP_MODEL_AUG.fit(datagen.flow(x_train, y_train, batch_size=64), steps_per_epoch=x_train.shape[0]//64, epochs=100, validation_data=(x_val, y_val))"
      ],
      "execution_count": 0,
      "outputs": [
        {
          "output_type": "stream",
          "text": [
            "Model: \"sequential_5\"\n",
            "_________________________________________________________________\n",
            "Layer (type)                 Output Shape              Param #   \n",
            "=================================================================\n",
            "conv2d_30 (Conv2D)           (None, 32, 32, 128)       3584      \n",
            "_________________________________________________________________\n",
            "conv2d_31 (Conv2D)           (None, 30, 30, 128)       147584    \n",
            "_________________________________________________________________\n",
            "max_pooling2d_15 (MaxPooling (None, 15, 15, 128)       0         \n",
            "_________________________________________________________________\n",
            "dropout_20 (Dropout)         (None, 15, 15, 128)       0         \n",
            "_________________________________________________________________\n",
            "conv2d_32 (Conv2D)           (None, 15, 15, 256)       295168    \n",
            "_________________________________________________________________\n",
            "conv2d_33 (Conv2D)           (None, 13, 13, 256)       590080    \n",
            "_________________________________________________________________\n",
            "max_pooling2d_16 (MaxPooling (None, 6, 6, 256)         0         \n",
            "_________________________________________________________________\n",
            "dropout_21 (Dropout)         (None, 6, 6, 256)         0         \n",
            "_________________________________________________________________\n",
            "conv2d_34 (Conv2D)           (None, 6, 6, 512)         1180160   \n",
            "_________________________________________________________________\n",
            "conv2d_35 (Conv2D)           (None, 4, 4, 512)         2359808   \n",
            "_________________________________________________________________\n",
            "max_pooling2d_17 (MaxPooling (None, 2, 2, 512)         0         \n",
            "_________________________________________________________________\n",
            "dropout_22 (Dropout)         (None, 2, 2, 512)         0         \n",
            "_________________________________________________________________\n",
            "flatten_5 (Flatten)          (None, 2048)              0         \n",
            "_________________________________________________________________\n",
            "dense_10 (Dense)             (None, 1024)              2098176   \n",
            "_________________________________________________________________\n",
            "dropout_23 (Dropout)         (None, 1024)              0         \n",
            "_________________________________________________________________\n",
            "dense_11 (Dense)             (None, 100)               102500    \n",
            "=================================================================\n",
            "Total params: 6,777,060\n",
            "Trainable params: 6,777,060\n",
            "Non-trainable params: 0\n",
            "_________________________________________________________________\n",
            "WARNING:tensorflow:sample_weight modes were coerced from\n",
            "  ...\n",
            "    to  \n",
            "  ['...']\n",
            "Train for 531 steps, validate on 6000 samples\n",
            "Epoch 1/100\n",
            "531/531 [==============================] - 19s 36ms/step - loss: 3.9662 - accuracy: 0.0799 - val_loss: 3.4662 - val_accuracy: 0.1752\n",
            "Epoch 2/100\n",
            "531/531 [==============================] - 18s 34ms/step - loss: 3.4826 - accuracy: 0.1543 - val_loss: 3.1004 - val_accuracy: 0.2380\n",
            "Epoch 3/100\n",
            "531/531 [==============================] - 18s 34ms/step - loss: 3.2305 - accuracy: 0.2038 - val_loss: 2.9195 - val_accuracy: 0.2693\n",
            "Epoch 4/100\n",
            "531/531 [==============================] - 18s 34ms/step - loss: 3.0370 - accuracy: 0.2418 - val_loss: 2.7503 - val_accuracy: 0.3112\n",
            "Epoch 5/100\n",
            "531/531 [==============================] - 18s 35ms/step - loss: 2.9014 - accuracy: 0.2698 - val_loss: 2.7062 - val_accuracy: 0.3117\n",
            "Epoch 6/100\n",
            "531/531 [==============================] - 18s 34ms/step - loss: 2.8006 - accuracy: 0.2911 - val_loss: 2.4862 - val_accuracy: 0.3720\n",
            "Epoch 7/100\n",
            "531/531 [==============================] - 18s 34ms/step - loss: 2.7198 - accuracy: 0.3107 - val_loss: 2.4121 - val_accuracy: 0.3735\n",
            "Epoch 8/100\n",
            "531/531 [==============================] - 18s 34ms/step - loss: 2.6406 - accuracy: 0.3256 - val_loss: 2.3064 - val_accuracy: 0.4028\n",
            "Epoch 9/100\n",
            "531/531 [==============================] - 18s 34ms/step - loss: 2.5816 - accuracy: 0.3388 - val_loss: 2.2265 - val_accuracy: 0.4253\n",
            "Epoch 10/100\n",
            "531/531 [==============================] - 18s 34ms/step - loss: 2.5185 - accuracy: 0.3498 - val_loss: 2.1635 - val_accuracy: 0.4370\n",
            "Epoch 11/100\n",
            "531/531 [==============================] - 18s 34ms/step - loss: 2.4908 - accuracy: 0.3569 - val_loss: 2.1413 - val_accuracy: 0.4372\n",
            "Epoch 12/100\n",
            "531/531 [==============================] - 18s 34ms/step - loss: 2.4441 - accuracy: 0.3676 - val_loss: 2.1552 - val_accuracy: 0.4337\n",
            "Epoch 13/100\n",
            "531/531 [==============================] - 18s 34ms/step - loss: 2.3835 - accuracy: 0.3835 - val_loss: 2.1536 - val_accuracy: 0.4362\n",
            "Epoch 14/100\n",
            "531/531 [==============================] - 18s 34ms/step - loss: 2.3581 - accuracy: 0.3886 - val_loss: 2.0275 - val_accuracy: 0.4650\n",
            "Epoch 15/100\n",
            "531/531 [==============================] - 18s 34ms/step - loss: 2.3123 - accuracy: 0.3942 - val_loss: 2.0563 - val_accuracy: 0.4550\n",
            "Epoch 16/100\n",
            "531/531 [==============================] - 18s 34ms/step - loss: 2.2772 - accuracy: 0.4038 - val_loss: 2.0702 - val_accuracy: 0.4492\n",
            "Epoch 17/100\n",
            "531/531 [==============================] - 18s 34ms/step - loss: 2.2438 - accuracy: 0.4114 - val_loss: 1.9481 - val_accuracy: 0.4823\n",
            "Epoch 18/100\n",
            "531/531 [==============================] - 18s 34ms/step - loss: 2.2169 - accuracy: 0.4170 - val_loss: 1.9150 - val_accuracy: 0.4905\n",
            "Epoch 19/100\n",
            "531/531 [==============================] - 18s 34ms/step - loss: 2.1871 - accuracy: 0.4247 - val_loss: 1.8754 - val_accuracy: 0.4988\n",
            "Epoch 20/100\n",
            "531/531 [==============================] - 18s 34ms/step - loss: 2.1528 - accuracy: 0.4298 - val_loss: 1.8988 - val_accuracy: 0.4978\n",
            "Epoch 21/100\n",
            "531/531 [==============================] - 18s 34ms/step - loss: 2.1228 - accuracy: 0.4365 - val_loss: 1.9113 - val_accuracy: 0.4885\n",
            "Epoch 22/100\n",
            "531/531 [==============================] - 18s 34ms/step - loss: 2.0971 - accuracy: 0.4460 - val_loss: 1.8207 - val_accuracy: 0.5107\n",
            "Epoch 23/100\n",
            "531/531 [==============================] - 18s 34ms/step - loss: 2.0723 - accuracy: 0.4515 - val_loss: 1.7935 - val_accuracy: 0.5193\n",
            "Epoch 24/100\n",
            "531/531 [==============================] - 18s 34ms/step - loss: 2.0582 - accuracy: 0.4542 - val_loss: 1.7246 - val_accuracy: 0.5312\n",
            "Epoch 25/100\n",
            "531/531 [==============================] - 18s 34ms/step - loss: 2.0237 - accuracy: 0.4597 - val_loss: 1.7462 - val_accuracy: 0.5215\n",
            "Epoch 26/100\n",
            "531/531 [==============================] - 18s 34ms/step - loss: 2.0049 - accuracy: 0.4650 - val_loss: 1.7614 - val_accuracy: 0.5213\n",
            "Epoch 27/100\n",
            "531/531 [==============================] - 18s 34ms/step - loss: 1.9756 - accuracy: 0.4722 - val_loss: 1.7968 - val_accuracy: 0.5117\n",
            "Epoch 28/100\n",
            "531/531 [==============================] - 18s 34ms/step - loss: 1.9540 - accuracy: 0.4768 - val_loss: 1.6686 - val_accuracy: 0.5448\n",
            "Epoch 29/100\n",
            "531/531 [==============================] - 18s 34ms/step - loss: 1.9306 - accuracy: 0.4817 - val_loss: 1.6734 - val_accuracy: 0.5470\n",
            "Epoch 30/100\n",
            "531/531 [==============================] - 18s 34ms/step - loss: 1.9050 - accuracy: 0.4856 - val_loss: 1.6676 - val_accuracy: 0.5435\n",
            "Epoch 31/100\n",
            "531/531 [==============================] - 18s 34ms/step - loss: 1.8841 - accuracy: 0.4901 - val_loss: 1.6530 - val_accuracy: 0.5525\n",
            "Epoch 32/100\n",
            "531/531 [==============================] - 18s 34ms/step - loss: 1.8538 - accuracy: 0.4984 - val_loss: 1.6623 - val_accuracy: 0.5467\n",
            "Epoch 33/100\n",
            "531/531 [==============================] - 18s 34ms/step - loss: 1.8350 - accuracy: 0.5052 - val_loss: 1.6893 - val_accuracy: 0.5358\n",
            "Epoch 34/100\n",
            "531/531 [==============================] - 18s 34ms/step - loss: 1.8168 - accuracy: 0.5074 - val_loss: 1.5976 - val_accuracy: 0.5603\n",
            "Epoch 35/100\n",
            "531/531 [==============================] - 18s 34ms/step - loss: 1.7905 - accuracy: 0.5140 - val_loss: 1.5672 - val_accuracy: 0.5672\n",
            "Epoch 36/100\n",
            "531/531 [==============================] - 18s 34ms/step - loss: 1.7705 - accuracy: 0.5192 - val_loss: 1.5950 - val_accuracy: 0.5558\n",
            "Epoch 37/100\n",
            "531/531 [==============================] - 18s 34ms/step - loss: 1.7484 - accuracy: 0.5241 - val_loss: 1.5950 - val_accuracy: 0.5603\n",
            "Epoch 38/100\n",
            "531/531 [==============================] - 18s 34ms/step - loss: 1.7318 - accuracy: 0.5281 - val_loss: 1.5975 - val_accuracy: 0.5597\n",
            "Epoch 39/100\n",
            "531/531 [==============================] - 18s 34ms/step - loss: 1.7254 - accuracy: 0.5290 - val_loss: 1.5604 - val_accuracy: 0.5708\n",
            "Epoch 40/100\n",
            "531/531 [==============================] - 18s 34ms/step - loss: 1.7052 - accuracy: 0.5342 - val_loss: 1.5586 - val_accuracy: 0.5765\n",
            "Epoch 41/100\n",
            "531/531 [==============================] - 18s 34ms/step - loss: 1.6898 - accuracy: 0.5374 - val_loss: 1.5750 - val_accuracy: 0.5637\n",
            "Epoch 42/100\n",
            "531/531 [==============================] - 18s 34ms/step - loss: 1.6794 - accuracy: 0.5380 - val_loss: 1.5777 - val_accuracy: 0.5715\n",
            "Epoch 43/100\n",
            "531/531 [==============================] - 18s 34ms/step - loss: 1.6460 - accuracy: 0.5456 - val_loss: 1.5887 - val_accuracy: 0.5642\n",
            "Epoch 44/100\n",
            "531/531 [==============================] - 18s 34ms/step - loss: 1.6507 - accuracy: 0.5470 - val_loss: 1.5024 - val_accuracy: 0.5913\n",
            "Epoch 45/100\n",
            "531/531 [==============================] - 18s 34ms/step - loss: 1.6177 - accuracy: 0.5542 - val_loss: 1.5462 - val_accuracy: 0.5768\n",
            "Epoch 46/100\n",
            "531/531 [==============================] - 18s 34ms/step - loss: 1.6012 - accuracy: 0.5573 - val_loss: 1.5111 - val_accuracy: 0.5877\n",
            "Epoch 47/100\n",
            "531/531 [==============================] - 18s 34ms/step - loss: 1.5856 - accuracy: 0.5620 - val_loss: 1.4620 - val_accuracy: 0.5988\n",
            "Epoch 48/100\n",
            "531/531 [==============================] - 18s 34ms/step - loss: 1.5809 - accuracy: 0.5618 - val_loss: 1.5000 - val_accuracy: 0.5825\n",
            "Epoch 49/100\n",
            "531/531 [==============================] - 18s 34ms/step - loss: 1.5785 - accuracy: 0.5656 - val_loss: 1.5080 - val_accuracy: 0.5803\n",
            "Epoch 50/100\n",
            "531/531 [==============================] - 18s 34ms/step - loss: 1.5552 - accuracy: 0.5714 - val_loss: 1.5036 - val_accuracy: 0.5907\n",
            "Epoch 51/100\n",
            "531/531 [==============================] - 18s 34ms/step - loss: 1.5328 - accuracy: 0.5753 - val_loss: 1.4904 - val_accuracy: 0.5925\n",
            "Epoch 52/100\n",
            "531/531 [==============================] - 18s 34ms/step - loss: 1.5242 - accuracy: 0.5756 - val_loss: 1.5369 - val_accuracy: 0.5802\n",
            "Epoch 53/100\n",
            "531/531 [==============================] - 18s 34ms/step - loss: 1.5114 - accuracy: 0.5824 - val_loss: 1.5329 - val_accuracy: 0.5775\n",
            "Epoch 54/100\n",
            "531/531 [==============================] - 18s 34ms/step - loss: 1.5057 - accuracy: 0.5810 - val_loss: 1.4598 - val_accuracy: 0.6043\n",
            "Epoch 55/100\n",
            "531/531 [==============================] - 18s 34ms/step - loss: 1.4855 - accuracy: 0.5877 - val_loss: 1.4889 - val_accuracy: 0.5893\n",
            "Epoch 56/100\n",
            "531/531 [==============================] - 18s 34ms/step - loss: 1.4796 - accuracy: 0.5891 - val_loss: 1.4222 - val_accuracy: 0.6063\n",
            "Epoch 57/100\n",
            "531/531 [==============================] - 18s 34ms/step - loss: 1.4729 - accuracy: 0.5887 - val_loss: 1.4233 - val_accuracy: 0.6080\n",
            "Epoch 58/100\n",
            "531/531 [==============================] - 18s 34ms/step - loss: 1.4641 - accuracy: 0.5922 - val_loss: 1.4061 - val_accuracy: 0.6130\n",
            "Epoch 59/100\n",
            "531/531 [==============================] - 18s 34ms/step - loss: 1.4489 - accuracy: 0.5974 - val_loss: 1.4499 - val_accuracy: 0.6018\n",
            "Epoch 60/100\n",
            "531/531 [==============================] - 18s 34ms/step - loss: 1.4362 - accuracy: 0.5951 - val_loss: 1.4545 - val_accuracy: 0.5965\n",
            "Epoch 61/100\n",
            "531/531 [==============================] - 18s 34ms/step - loss: 1.4468 - accuracy: 0.5962 - val_loss: 1.4046 - val_accuracy: 0.6083\n",
            "Epoch 62/100\n",
            "531/531 [==============================] - 18s 34ms/step - loss: 1.4298 - accuracy: 0.5970 - val_loss: 1.4274 - val_accuracy: 0.6078\n",
            "Epoch 63/100\n",
            "531/531 [==============================] - 18s 34ms/step - loss: 1.4234 - accuracy: 0.6004 - val_loss: 1.4273 - val_accuracy: 0.6020\n",
            "Epoch 64/100\n",
            "531/531 [==============================] - 18s 34ms/step - loss: 1.4164 - accuracy: 0.6034 - val_loss: 1.4359 - val_accuracy: 0.6042\n",
            "Epoch 65/100\n",
            "531/531 [==============================] - 18s 34ms/step - loss: 1.4080 - accuracy: 0.6090 - val_loss: 1.4555 - val_accuracy: 0.5942\n",
            "Epoch 66/100\n",
            "531/531 [==============================] - 18s 34ms/step - loss: 1.3969 - accuracy: 0.6095 - val_loss: 1.4146 - val_accuracy: 0.6108\n",
            "Epoch 67/100\n",
            "531/531 [==============================] - 18s 34ms/step - loss: 1.3883 - accuracy: 0.6102 - val_loss: 1.4436 - val_accuracy: 0.5997\n",
            "Epoch 68/100\n",
            "531/531 [==============================] - 18s 34ms/step - loss: 1.3903 - accuracy: 0.6110 - val_loss: 1.3751 - val_accuracy: 0.6198\n",
            "Epoch 69/100\n",
            "531/531 [==============================] - 18s 34ms/step - loss: 1.3917 - accuracy: 0.6128 - val_loss: 1.3670 - val_accuracy: 0.6175\n",
            "Epoch 70/100\n",
            "531/531 [==============================] - 18s 34ms/step - loss: 1.3801 - accuracy: 0.6132 - val_loss: 1.3970 - val_accuracy: 0.6102\n",
            "Epoch 71/100\n",
            "531/531 [==============================] - 18s 34ms/step - loss: 1.3629 - accuracy: 0.6169 - val_loss: 1.3771 - val_accuracy: 0.6165\n",
            "Epoch 72/100\n",
            "531/531 [==============================] - 18s 34ms/step - loss: 1.3723 - accuracy: 0.6163 - val_loss: 1.4032 - val_accuracy: 0.6123\n",
            "Epoch 73/100\n",
            "531/531 [==============================] - 18s 34ms/step - loss: 1.3562 - accuracy: 0.6204 - val_loss: 1.3682 - val_accuracy: 0.6230\n",
            "Epoch 74/100\n",
            "531/531 [==============================] - 18s 34ms/step - loss: 1.3563 - accuracy: 0.6222 - val_loss: 1.3767 - val_accuracy: 0.6187\n",
            "Epoch 75/100\n",
            "531/531 [==============================] - 18s 34ms/step - loss: 1.3525 - accuracy: 0.6225 - val_loss: 1.4072 - val_accuracy: 0.6108\n",
            "Epoch 76/100\n",
            "531/531 [==============================] - 18s 34ms/step - loss: 1.3455 - accuracy: 0.6233 - val_loss: 1.3608 - val_accuracy: 0.6270\n",
            "Epoch 77/100\n",
            "531/531 [==============================] - 18s 34ms/step - loss: 1.3367 - accuracy: 0.6269 - val_loss: 1.3833 - val_accuracy: 0.6213\n",
            "Epoch 78/100\n",
            "531/531 [==============================] - 18s 34ms/step - loss: 1.3393 - accuracy: 0.6228 - val_loss: 1.3772 - val_accuracy: 0.6190\n",
            "Epoch 79/100\n",
            "531/531 [==============================] - 18s 34ms/step - loss: 1.3465 - accuracy: 0.6229 - val_loss: 1.3919 - val_accuracy: 0.6157\n",
            "Epoch 80/100\n",
            "531/531 [==============================] - 18s 34ms/step - loss: 1.3387 - accuracy: 0.6238 - val_loss: 1.3819 - val_accuracy: 0.6168\n",
            "Epoch 81/100\n",
            "531/531 [==============================] - 18s 34ms/step - loss: 1.3339 - accuracy: 0.6299 - val_loss: 1.3522 - val_accuracy: 0.6267\n",
            "Epoch 82/100\n",
            "531/531 [==============================] - 18s 34ms/step - loss: 1.3361 - accuracy: 0.6267 - val_loss: 1.3395 - val_accuracy: 0.6267\n",
            "Epoch 83/100\n",
            "531/531 [==============================] - 18s 34ms/step - loss: 1.3295 - accuracy: 0.6291 - val_loss: 1.3641 - val_accuracy: 0.6197\n",
            "Epoch 84/100\n",
            "531/531 [==============================] - 18s 34ms/step - loss: 1.3235 - accuracy: 0.6275 - val_loss: 1.4149 - val_accuracy: 0.6045\n",
            "Epoch 85/100\n",
            "531/531 [==============================] - 18s 34ms/step - loss: 1.3322 - accuracy: 0.6308 - val_loss: 1.3718 - val_accuracy: 0.6143\n",
            "Epoch 86/100\n",
            "531/531 [==============================] - 18s 34ms/step - loss: 1.3306 - accuracy: 0.6269 - val_loss: 1.3507 - val_accuracy: 0.6225\n",
            "Epoch 87/100\n",
            "531/531 [==============================] - 18s 34ms/step - loss: 1.3338 - accuracy: 0.6278 - val_loss: 1.3323 - val_accuracy: 0.6207\n",
            "Epoch 88/100\n",
            "531/531 [==============================] - 18s 34ms/step - loss: 1.3210 - accuracy: 0.6319 - val_loss: 1.3383 - val_accuracy: 0.6192\n",
            "Epoch 89/100\n",
            "531/531 [==============================] - 18s 34ms/step - loss: 1.3247 - accuracy: 0.6307 - val_loss: 1.3836 - val_accuracy: 0.6172\n",
            "Epoch 90/100\n",
            "531/531 [==============================] - 18s 34ms/step - loss: 1.3189 - accuracy: 0.6328 - val_loss: 1.3125 - val_accuracy: 0.6323\n",
            "Epoch 91/100\n",
            "531/531 [==============================] - 18s 34ms/step - loss: 1.3221 - accuracy: 0.6297 - val_loss: 1.3989 - val_accuracy: 0.6075\n",
            "Epoch 92/100\n",
            "531/531 [==============================] - 18s 34ms/step - loss: 1.3286 - accuracy: 0.6332 - val_loss: 1.3927 - val_accuracy: 0.6123\n",
            "Epoch 93/100\n",
            "531/531 [==============================] - 18s 34ms/step - loss: 1.3154 - accuracy: 0.6320 - val_loss: 1.3911 - val_accuracy: 0.6122\n",
            "Epoch 94/100\n",
            "531/531 [==============================] - 18s 34ms/step - loss: 1.3303 - accuracy: 0.6300 - val_loss: 1.4002 - val_accuracy: 0.6115\n",
            "Epoch 95/100\n",
            "531/531 [==============================] - 18s 34ms/step - loss: 1.3209 - accuracy: 0.6342 - val_loss: 1.3013 - val_accuracy: 0.6365\n",
            "Epoch 96/100\n",
            "531/531 [==============================] - 18s 34ms/step - loss: 1.3257 - accuracy: 0.6330 - val_loss: 1.3269 - val_accuracy: 0.6293\n",
            "Epoch 97/100\n",
            "531/531 [==============================] - 18s 34ms/step - loss: 1.3146 - accuracy: 0.6324 - val_loss: 1.3720 - val_accuracy: 0.6173\n",
            "Epoch 98/100\n",
            "531/531 [==============================] - 18s 34ms/step - loss: 1.3203 - accuracy: 0.6323 - val_loss: 1.3771 - val_accuracy: 0.6163\n",
            "Epoch 99/100\n",
            "531/531 [==============================] - 18s 34ms/step - loss: 1.3278 - accuracy: 0.6331 - val_loss: 1.3779 - val_accuracy: 0.6178\n",
            "Epoch 100/100\n",
            "531/531 [==============================] - 18s 34ms/step - loss: 1.3370 - accuracy: 0.6266 - val_loss: 1.3650 - val_accuracy: 0.6167\n"
          ],
          "name": "stdout"
        },
        {
          "output_type": "execute_result",
          "data": {
            "text/plain": [
              "<tensorflow.python.keras.callbacks.History at 0x7fa241747b00>"
            ]
          },
          "metadata": {
            "tags": []
          },
          "execution_count": 26
        }
      ]
    },
    {
      "cell_type": "code",
      "metadata": {
        "colab_type": "code",
        "id": "11utpcxqc9Fu",
        "outputId": "04db5236-e3d5-4d30-f590-854b3592aa06",
        "colab": {
          "base_uri": "https://localhost:8080/",
          "height": 625
        }
      },
      "source": [
        "model_report(RMSPROP_MODEL_AUG, RMSPROP_MODEL_AUG.history)"
      ],
      "execution_count": 0,
      "outputs": [
        {
          "output_type": "display_data",
          "data": {
            "image/png": "[encoded data removed]",
            "text/plain": [
              "<Figure size 576x576 with 2 Axes>"
            ]
          },
          "metadata": {
            "tags": []
          }
        },
        {
          "output_type": "stream",
          "text": [
            "\n",
            "Test set evaluation metrics\n",
            "125/125 [==============================] - 2s 16ms/step - loss: 1.3494 - accuracy: 0.6235\n",
            "loss: 1.35\n",
            "accuracy: 0.62\n"
          ],
          "name": "stdout"
        }
      ]
    },
    {
      "cell_type": "markdown",
      "metadata": {
        "colab_type": "text",
        "id": "cRk-5PjrAePt"
      },
      "source": [
        "Από τα παραπάνω παρατηρούμε ότι αυτή τη φορά το πρώτο μας μοντέλο ήταν αισθήτα αποδοτικότερο από το δεύτερο και μάλιστα χαρακτηρίζεται από την τάση περαιτέρω βελτίωσης. Για το λόγο αυτό το επιλέγουμε ως το τελικό μας μοντέλο, το οποίο θα εκπαιδεύσουμε, αυτή τη φορά για μεγαλύτερο χρονικό διάστημα:"
      ]
    },
    {
      "cell_type": "code",
      "metadata": {
        "colab_type": "code",
        "id": "A4yH3G_lnaBL",
        "outputId": "9cdb87b9-9198-4624-b844-ddcb607d9592",
        "colab": {
          "base_uri": "https://localhost:8080/",
          "height": 1000
        }
      },
      "source": [
        "ADAM_MODEL_AUG = init_adam_model(summary = True)\n",
        "\n",
        "ADAM_MODEL_AUG.fit(datagen.flow(x_train, y_train, batch_size=64), steps_per_epoch=x_train.shape[0]//64, epochs=200, validation_data=(x_val, y_val))"
      ],
      "execution_count": 0,
      "outputs": [
        {
          "output_type": "stream",
          "text": [
            "Model: \"sequential_1\"\n",
            "_________________________________________________________________\n",
            "Layer (type)                 Output Shape              Param #   \n",
            "=================================================================\n",
            "conv2d_6 (Conv2D)            (None, 32, 32, 128)       3584      \n",
            "_________________________________________________________________\n",
            "conv2d_7 (Conv2D)            (None, 30, 30, 128)       147584    \n",
            "_________________________________________________________________\n",
            "max_pooling2d_3 (MaxPooling2 (None, 15, 15, 128)       0         \n",
            "_________________________________________________________________\n",
            "dropout_4 (Dropout)          (None, 15, 15, 128)       0         \n",
            "_________________________________________________________________\n",
            "conv2d_8 (Conv2D)            (None, 15, 15, 256)       295168    \n",
            "_________________________________________________________________\n",
            "conv2d_9 (Conv2D)            (None, 13, 13, 256)       590080    \n",
            "_________________________________________________________________\n",
            "max_pooling2d_4 (MaxPooling2 (None, 6, 6, 256)         0         \n",
            "_________________________________________________________________\n",
            "dropout_5 (Dropout)          (None, 6, 6, 256)         0         \n",
            "_________________________________________________________________\n",
            "conv2d_10 (Conv2D)           (None, 6, 6, 512)         1180160   \n",
            "_________________________________________________________________\n",
            "conv2d_11 (Conv2D)           (None, 4, 4, 512)         2359808   \n",
            "_________________________________________________________________\n",
            "max_pooling2d_5 (MaxPooling2 (None, 2, 2, 512)         0         \n",
            "_________________________________________________________________\n",
            "dropout_6 (Dropout)          (None, 2, 2, 512)         0         \n",
            "_________________________________________________________________\n",
            "flatten_1 (Flatten)          (None, 2048)              0         \n",
            "_________________________________________________________________\n",
            "dense_2 (Dense)              (None, 1024)              2098176   \n",
            "_________________________________________________________________\n",
            "dropout_7 (Dropout)          (None, 1024)              0         \n",
            "_________________________________________________________________\n",
            "dense_3 (Dense)              (None, 100)               102500    \n",
            "=================================================================\n",
            "Total params: 6,777,060\n",
            "Trainable params: 6,777,060\n",
            "Non-trainable params: 0\n",
            "_________________________________________________________________\n",
            "WARNING:tensorflow:sample_weight modes were coerced from\n",
            "  ...\n",
            "    to  \n",
            "  ['...']\n",
            "Train for 531 steps, validate on 6000 samples\n",
            "Epoch 1/200\n",
            "531/531 [==============================] - 18s 35ms/step - loss: 3.9482 - accuracy: 0.0819 - val_loss: 3.5025 - val_accuracy: 0.1550\n",
            "Epoch 2/200\n",
            "531/531 [==============================] - 18s 33ms/step - loss: 3.4107 - accuracy: 0.1644 - val_loss: 3.0460 - val_accuracy: 0.2473\n",
            "Epoch 3/200\n",
            "531/531 [==============================] - 18s 33ms/step - loss: 3.1545 - accuracy: 0.2159 - val_loss: 2.8413 - val_accuracy: 0.2873\n",
            "Epoch 4/200\n",
            "531/531 [==============================] - 18s 33ms/step - loss: 2.9669 - accuracy: 0.2547 - val_loss: 2.6412 - val_accuracy: 0.3243\n",
            "Epoch 5/200\n",
            "531/531 [==============================] - 18s 33ms/step - loss: 2.8282 - accuracy: 0.2820 - val_loss: 2.6578 - val_accuracy: 0.3245\n",
            "Epoch 6/200\n",
            "531/531 [==============================] - 17s 33ms/step - loss: 2.7239 - accuracy: 0.3065 - val_loss: 2.4829 - val_accuracy: 0.3593\n",
            "Epoch 7/200\n",
            "531/531 [==============================] - 18s 33ms/step - loss: 2.6304 - accuracy: 0.3223 - val_loss: 2.3705 - val_accuracy: 0.3817\n",
            "Epoch 8/200\n",
            "531/531 [==============================] - 18s 33ms/step - loss: 2.5494 - accuracy: 0.3409 - val_loss: 2.2833 - val_accuracy: 0.4107\n",
            "Epoch 9/200\n",
            "531/531 [==============================] - 18s 33ms/step - loss: 2.4894 - accuracy: 0.3536 - val_loss: 2.1957 - val_accuracy: 0.4267\n",
            "Epoch 10/200\n",
            "531/531 [==============================] - 18s 33ms/step - loss: 2.4378 - accuracy: 0.3656 - val_loss: 2.2049 - val_accuracy: 0.4183\n",
            "Epoch 11/200\n",
            "531/531 [==============================] - 18s 33ms/step - loss: 2.3933 - accuracy: 0.3782 - val_loss: 2.1210 - val_accuracy: 0.4418\n",
            "Epoch 12/200\n",
            "531/531 [==============================] - 18s 33ms/step - loss: 2.3423 - accuracy: 0.3862 - val_loss: 2.1076 - val_accuracy: 0.4397\n",
            "Epoch 13/200\n",
            "531/531 [==============================] - 18s 33ms/step - loss: 2.3086 - accuracy: 0.3919 - val_loss: 2.0788 - val_accuracy: 0.4467\n",
            "Epoch 14/200\n",
            "531/531 [==============================] - 18s 33ms/step - loss: 2.2621 - accuracy: 0.4061 - val_loss: 2.0319 - val_accuracy: 0.4613\n",
            "Epoch 15/200\n",
            "531/531 [==============================] - 18s 33ms/step - loss: 2.2287 - accuracy: 0.4099 - val_loss: 2.0324 - val_accuracy: 0.4613\n",
            "Epoch 16/200\n",
            "531/531 [==============================] - 18s 33ms/step - loss: 2.1912 - accuracy: 0.4217 - val_loss: 1.9316 - val_accuracy: 0.4902\n",
            "Epoch 17/200\n",
            "531/531 [==============================] - 17s 33ms/step - loss: 2.1647 - accuracy: 0.4254 - val_loss: 1.9395 - val_accuracy: 0.4795\n",
            "Epoch 18/200\n",
            "531/531 [==============================] - 17s 33ms/step - loss: 2.1392 - accuracy: 0.4315 - val_loss: 1.9008 - val_accuracy: 0.4877\n",
            "Epoch 19/200\n",
            "531/531 [==============================] - 17s 32ms/step - loss: 2.1163 - accuracy: 0.4366 - val_loss: 1.8801 - val_accuracy: 0.4857\n",
            "Epoch 20/200\n",
            "531/531 [==============================] - 17s 33ms/step - loss: 2.0799 - accuracy: 0.4411 - val_loss: 1.8767 - val_accuracy: 0.4962\n",
            "Epoch 21/200\n",
            "531/531 [==============================] - 17s 33ms/step - loss: 2.0518 - accuracy: 0.4490 - val_loss: 1.8613 - val_accuracy: 0.4983\n",
            "Epoch 22/200\n",
            "531/531 [==============================] - 17s 32ms/step - loss: 2.0316 - accuracy: 0.4546 - val_loss: 1.9198 - val_accuracy: 0.4935\n",
            "Epoch 23/200\n",
            "531/531 [==============================] - 17s 32ms/step - loss: 2.0171 - accuracy: 0.4572 - val_loss: 1.8022 - val_accuracy: 0.5188\n",
            "Epoch 24/200\n",
            "531/531 [==============================] - 17s 32ms/step - loss: 1.9804 - accuracy: 0.4647 - val_loss: 1.7644 - val_accuracy: 0.5218\n",
            "Epoch 25/200\n",
            "531/531 [==============================] - 17s 32ms/step - loss: 1.9666 - accuracy: 0.4666 - val_loss: 1.8257 - val_accuracy: 0.5137\n",
            "Epoch 26/200\n",
            "531/531 [==============================] - 17s 32ms/step - loss: 1.9419 - accuracy: 0.4750 - val_loss: 1.7313 - val_accuracy: 0.5313\n",
            "Epoch 27/200\n",
            "531/531 [==============================] - 17s 32ms/step - loss: 1.9266 - accuracy: 0.4782 - val_loss: 1.6815 - val_accuracy: 0.5380\n",
            "Epoch 28/200\n",
            "531/531 [==============================] - 17s 32ms/step - loss: 1.9113 - accuracy: 0.4788 - val_loss: 1.7505 - val_accuracy: 0.5257\n",
            "Epoch 29/200\n",
            "531/531 [==============================] - 17s 32ms/step - loss: 1.8838 - accuracy: 0.4876 - val_loss: 1.6878 - val_accuracy: 0.5340\n",
            "Epoch 30/200\n",
            "531/531 [==============================] - 17s 32ms/step - loss: 1.8618 - accuracy: 0.4923 - val_loss: 1.7374 - val_accuracy: 0.5298\n",
            "Epoch 31/200\n",
            "531/531 [==============================] - 17s 32ms/step - loss: 1.8507 - accuracy: 0.4922 - val_loss: 1.6758 - val_accuracy: 0.5448\n",
            "Epoch 32/200\n",
            "531/531 [==============================] - 17s 33ms/step - loss: 1.8400 - accuracy: 0.4954 - val_loss: 1.6590 - val_accuracy: 0.5437\n",
            "Epoch 33/200\n",
            "531/531 [==============================] - 17s 32ms/step - loss: 1.8172 - accuracy: 0.5019 - val_loss: 1.6491 - val_accuracy: 0.5515\n",
            "Epoch 34/200\n",
            "531/531 [==============================] - 17s 32ms/step - loss: 1.7892 - accuracy: 0.5067 - val_loss: 1.6541 - val_accuracy: 0.5455\n",
            "Epoch 35/200\n",
            "531/531 [==============================] - 17s 32ms/step - loss: 1.7814 - accuracy: 0.5101 - val_loss: 1.6140 - val_accuracy: 0.5592\n",
            "Epoch 36/200\n",
            "531/531 [==============================] - 17s 32ms/step - loss: 1.7678 - accuracy: 0.5147 - val_loss: 1.5695 - val_accuracy: 0.5705\n",
            "Epoch 37/200\n",
            "531/531 [==============================] - 17s 32ms/step - loss: 1.7447 - accuracy: 0.5156 - val_loss: 1.5760 - val_accuracy: 0.5685\n",
            "Epoch 38/200\n",
            "531/531 [==============================] - 17s 32ms/step - loss: 1.7410 - accuracy: 0.5199 - val_loss: 1.5937 - val_accuracy: 0.5663\n",
            "Epoch 39/200\n",
            "531/531 [==============================] - 17s 32ms/step - loss: 1.7226 - accuracy: 0.5238 - val_loss: 1.5556 - val_accuracy: 0.5678\n",
            "Epoch 40/200\n",
            "531/531 [==============================] - 17s 32ms/step - loss: 1.7127 - accuracy: 0.5273 - val_loss: 1.5545 - val_accuracy: 0.5695\n",
            "Epoch 41/200\n",
            "531/531 [==============================] - 17s 33ms/step - loss: 1.6859 - accuracy: 0.5306 - val_loss: 1.5488 - val_accuracy: 0.5755\n",
            "Epoch 42/200\n",
            "531/531 [==============================] - 17s 33ms/step - loss: 1.6787 - accuracy: 0.5325 - val_loss: 1.5413 - val_accuracy: 0.5760\n",
            "Epoch 43/200\n",
            "531/531 [==============================] - 17s 32ms/step - loss: 1.6683 - accuracy: 0.5362 - val_loss: 1.5513 - val_accuracy: 0.5743\n",
            "Epoch 44/200\n",
            "531/531 [==============================] - 17s 32ms/step - loss: 1.6525 - accuracy: 0.5394 - val_loss: 1.5058 - val_accuracy: 0.5828\n",
            "Epoch 45/200\n",
            "531/531 [==============================] - 17s 32ms/step - loss: 1.6342 - accuracy: 0.5415 - val_loss: 1.5091 - val_accuracy: 0.5770\n",
            "Epoch 46/200\n",
            "531/531 [==============================] - 17s 32ms/step - loss: 1.6206 - accuracy: 0.5451 - val_loss: 1.5223 - val_accuracy: 0.5752\n",
            "Epoch 47/200\n",
            "531/531 [==============================] - 17s 32ms/step - loss: 1.6113 - accuracy: 0.5492 - val_loss: 1.4982 - val_accuracy: 0.5888\n",
            "Epoch 48/200\n",
            "531/531 [==============================] - 17s 32ms/step - loss: 1.5955 - accuracy: 0.5509 - val_loss: 1.5056 - val_accuracy: 0.5837\n",
            "Epoch 49/200\n",
            "531/531 [==============================] - 17s 32ms/step - loss: 1.5820 - accuracy: 0.5558 - val_loss: 1.4599 - val_accuracy: 0.5967\n",
            "Epoch 50/200\n",
            "531/531 [==============================] - 17s 32ms/step - loss: 1.5721 - accuracy: 0.5587 - val_loss: 1.4651 - val_accuracy: 0.5908\n",
            "Epoch 51/200\n",
            "531/531 [==============================] - 17s 33ms/step - loss: 1.5509 - accuracy: 0.5638 - val_loss: 1.4366 - val_accuracy: 0.6012\n",
            "Epoch 52/200\n",
            "531/531 [==============================] - 17s 32ms/step - loss: 1.5408 - accuracy: 0.5628 - val_loss: 1.4942 - val_accuracy: 0.5863\n",
            "Epoch 53/200\n",
            "531/531 [==============================] - 17s 32ms/step - loss: 1.5227 - accuracy: 0.5679 - val_loss: 1.4958 - val_accuracy: 0.5885\n",
            "Epoch 54/200\n",
            "531/531 [==============================] - 17s 32ms/step - loss: 1.5126 - accuracy: 0.5669 - val_loss: 1.4233 - val_accuracy: 0.6003\n",
            "Epoch 55/200\n",
            "531/531 [==============================] - 17s 32ms/step - loss: 1.5113 - accuracy: 0.5718 - val_loss: 1.4173 - val_accuracy: 0.6035\n",
            "Epoch 56/200\n",
            "531/531 [==============================] - 17s 33ms/step - loss: 1.4875 - accuracy: 0.5781 - val_loss: 1.4131 - val_accuracy: 0.6047\n",
            "Epoch 57/200\n",
            "531/531 [==============================] - 17s 32ms/step - loss: 1.4782 - accuracy: 0.5797 - val_loss: 1.3983 - val_accuracy: 0.6063\n",
            "Epoch 58/200\n",
            "531/531 [==============================] - 17s 32ms/step - loss: 1.4634 - accuracy: 0.5855 - val_loss: 1.4725 - val_accuracy: 0.5880\n",
            "Epoch 59/200\n",
            "531/531 [==============================] - 17s 32ms/step - loss: 1.4473 - accuracy: 0.5868 - val_loss: 1.4361 - val_accuracy: 0.6007\n",
            "Epoch 60/200\n",
            "531/531 [==============================] - 17s 32ms/step - loss: 1.4467 - accuracy: 0.5860 - val_loss: 1.4349 - val_accuracy: 0.6103\n",
            "Epoch 61/200\n",
            "531/531 [==============================] - 17s 32ms/step - loss: 1.4304 - accuracy: 0.5906 - val_loss: 1.4176 - val_accuracy: 0.6060\n",
            "Epoch 62/200\n",
            "531/531 [==============================] - 17s 32ms/step - loss: 1.4239 - accuracy: 0.5925 - val_loss: 1.4000 - val_accuracy: 0.6037\n",
            "Epoch 63/200\n",
            "531/531 [==============================] - 17s 32ms/step - loss: 1.4118 - accuracy: 0.5929 - val_loss: 1.4233 - val_accuracy: 0.6048\n",
            "Epoch 64/200\n",
            "531/531 [==============================] - 17s 32ms/step - loss: 1.3926 - accuracy: 0.6017 - val_loss: 1.3719 - val_accuracy: 0.6135\n",
            "Epoch 65/200\n",
            "531/531 [==============================] - 17s 33ms/step - loss: 1.3666 - accuracy: 0.6068 - val_loss: 1.3640 - val_accuracy: 0.6227\n",
            "Epoch 66/200\n",
            "531/531 [==============================] - 17s 32ms/step - loss: 1.3734 - accuracy: 0.6033 - val_loss: 1.3440 - val_accuracy: 0.6222\n",
            "Epoch 67/200\n",
            "531/531 [==============================] - 17s 32ms/step - loss: 1.3645 - accuracy: 0.6071 - val_loss: 1.3537 - val_accuracy: 0.6200\n",
            "Epoch 68/200\n",
            "531/531 [==============================] - 17s 33ms/step - loss: 1.3437 - accuracy: 0.6103 - val_loss: 1.3695 - val_accuracy: 0.6195\n",
            "Epoch 69/200\n",
            "531/531 [==============================] - 17s 32ms/step - loss: 1.3239 - accuracy: 0.6167 - val_loss: 1.3614 - val_accuracy: 0.6203\n",
            "Epoch 70/200\n",
            "531/531 [==============================] - 17s 32ms/step - loss: 1.3308 - accuracy: 0.6141 - val_loss: 1.3924 - val_accuracy: 0.6170\n",
            "Epoch 71/200\n",
            "531/531 [==============================] - 17s 32ms/step - loss: 1.3183 - accuracy: 0.6183 - val_loss: 1.3363 - val_accuracy: 0.6233\n",
            "Epoch 72/200\n",
            "531/531 [==============================] - 17s 32ms/step - loss: 1.3118 - accuracy: 0.6175 - val_loss: 1.3363 - val_accuracy: 0.6295\n",
            "Epoch 73/200\n",
            "531/531 [==============================] - 17s 32ms/step - loss: 1.2786 - accuracy: 0.6299 - val_loss: 1.3501 - val_accuracy: 0.6193\n",
            "Epoch 74/200\n",
            "531/531 [==============================] - 17s 32ms/step - loss: 1.2819 - accuracy: 0.6282 - val_loss: 1.3642 - val_accuracy: 0.6208\n",
            "Epoch 75/200\n",
            "531/531 [==============================] - 17s 33ms/step - loss: 1.2810 - accuracy: 0.6274 - val_loss: 1.3413 - val_accuracy: 0.6292\n",
            "Epoch 76/200\n",
            "531/531 [==============================] - 17s 32ms/step - loss: 1.2619 - accuracy: 0.6338 - val_loss: 1.3422 - val_accuracy: 0.6278\n",
            "Epoch 77/200\n",
            "531/531 [==============================] - 17s 32ms/step - loss: 1.2554 - accuracy: 0.6330 - val_loss: 1.3635 - val_accuracy: 0.6222\n",
            "Epoch 78/200\n",
            "531/531 [==============================] - 17s 32ms/step - loss: 1.2515 - accuracy: 0.6351 - val_loss: 1.2934 - val_accuracy: 0.6380\n",
            "Epoch 79/200\n",
            "531/531 [==============================] - 17s 32ms/step - loss: 1.2276 - accuracy: 0.6409 - val_loss: 1.3022 - val_accuracy: 0.6373\n",
            "Epoch 80/200\n",
            "531/531 [==============================] - 17s 32ms/step - loss: 1.2289 - accuracy: 0.6437 - val_loss: 1.3195 - val_accuracy: 0.6322\n",
            "Epoch 81/200\n",
            "531/531 [==============================] - 17s 32ms/step - loss: 1.2158 - accuracy: 0.6417 - val_loss: 1.2957 - val_accuracy: 0.6360\n",
            "Epoch 82/200\n",
            "531/531 [==============================] - 17s 32ms/step - loss: 1.1992 - accuracy: 0.6469 - val_loss: 1.2965 - val_accuracy: 0.6323\n",
            "Epoch 83/200\n",
            "531/531 [==============================] - 17s 32ms/step - loss: 1.1982 - accuracy: 0.6486 - val_loss: 1.2720 - val_accuracy: 0.6363\n",
            "Epoch 84/200\n",
            "531/531 [==============================] - 17s 32ms/step - loss: 1.1839 - accuracy: 0.6497 - val_loss: 1.3265 - val_accuracy: 0.6285\n",
            "Epoch 85/200\n",
            "531/531 [==============================] - 17s 32ms/step - loss: 1.1731 - accuracy: 0.6516 - val_loss: 1.3176 - val_accuracy: 0.6337\n",
            "Epoch 86/200\n",
            "531/531 [==============================] - 17s 33ms/step - loss: 1.1682 - accuracy: 0.6569 - val_loss: 1.3224 - val_accuracy: 0.6307\n",
            "Epoch 87/200\n",
            "531/531 [==============================] - 17s 32ms/step - loss: 1.1422 - accuracy: 0.6643 - val_loss: 1.3123 - val_accuracy: 0.6338\n",
            "Epoch 88/200\n",
            "531/531 [==============================] - 17s 33ms/step - loss: 1.1462 - accuracy: 0.6604 - val_loss: 1.2855 - val_accuracy: 0.6428\n",
            "Epoch 89/200\n",
            "531/531 [==============================] - 17s 33ms/step - loss: 1.1309 - accuracy: 0.6663 - val_loss: 1.3378 - val_accuracy: 0.6265\n",
            "Epoch 90/200\n",
            "531/531 [==============================] - 17s 33ms/step - loss: 1.1271 - accuracy: 0.6653 - val_loss: 1.2840 - val_accuracy: 0.6395\n",
            "Epoch 91/200\n",
            "531/531 [==============================] - 18s 33ms/step - loss: 1.1150 - accuracy: 0.6671 - val_loss: 1.2775 - val_accuracy: 0.6408\n",
            "Epoch 92/200\n",
            "531/531 [==============================] - 17s 33ms/step - loss: 1.1165 - accuracy: 0.6695 - val_loss: 1.2794 - val_accuracy: 0.6427\n",
            "Epoch 93/200\n",
            "531/531 [==============================] - 18s 33ms/step - loss: 1.1060 - accuracy: 0.6725 - val_loss: 1.2972 - val_accuracy: 0.6428\n",
            "Epoch 94/200\n",
            "531/531 [==============================] - 17s 33ms/step - loss: 1.0844 - accuracy: 0.6756 - val_loss: 1.2806 - val_accuracy: 0.6408\n",
            "Epoch 95/200\n",
            "531/531 [==============================] - 17s 33ms/step - loss: 1.0816 - accuracy: 0.6742 - val_loss: 1.2881 - val_accuracy: 0.6388\n",
            "Epoch 96/200\n",
            "531/531 [==============================] - 17s 33ms/step - loss: 1.0633 - accuracy: 0.6826 - val_loss: 1.3012 - val_accuracy: 0.6400\n",
            "Epoch 97/200\n",
            "531/531 [==============================] - 17s 33ms/step - loss: 1.0652 - accuracy: 0.6817 - val_loss: 1.2867 - val_accuracy: 0.6423\n",
            "Epoch 98/200\n",
            "531/531 [==============================] - 18s 33ms/step - loss: 1.0617 - accuracy: 0.6824 - val_loss: 1.2672 - val_accuracy: 0.6455\n",
            "Epoch 99/200\n",
            "531/531 [==============================] - 17s 33ms/step - loss: 1.0522 - accuracy: 0.6866 - val_loss: 1.3065 - val_accuracy: 0.6407\n",
            "Epoch 100/200\n",
            "531/531 [==============================] - 17s 33ms/step - loss: 1.0490 - accuracy: 0.6872 - val_loss: 1.2726 - val_accuracy: 0.6480\n",
            "Epoch 101/200\n",
            "531/531 [==============================] - 17s 33ms/step - loss: 1.0432 - accuracy: 0.6891 - val_loss: 1.2639 - val_accuracy: 0.6542\n",
            "Epoch 102/200\n",
            "531/531 [==============================] - 17s 33ms/step - loss: 1.0221 - accuracy: 0.6905 - val_loss: 1.2790 - val_accuracy: 0.6443\n",
            "Epoch 103/200\n",
            "531/531 [==============================] - 17s 32ms/step - loss: 1.0167 - accuracy: 0.6931 - val_loss: 1.2753 - val_accuracy: 0.6495\n",
            "Epoch 104/200\n",
            "531/531 [==============================] - 17s 32ms/step - loss: 1.0167 - accuracy: 0.6948 - val_loss: 1.2633 - val_accuracy: 0.6502\n",
            "Epoch 105/200\n",
            "531/531 [==============================] - 17s 32ms/step - loss: 0.9990 - accuracy: 0.6987 - val_loss: 1.2742 - val_accuracy: 0.6478\n",
            "Epoch 106/200\n",
            "531/531 [==============================] - 17s 32ms/step - loss: 1.0049 - accuracy: 0.6977 - val_loss: 1.2738 - val_accuracy: 0.6567\n",
            "Epoch 107/200\n",
            "531/531 [==============================] - 17s 33ms/step - loss: 0.9902 - accuracy: 0.7024 - val_loss: 1.2392 - val_accuracy: 0.6537\n",
            "Epoch 108/200\n",
            "531/531 [==============================] - 17s 32ms/step - loss: 0.9793 - accuracy: 0.7042 - val_loss: 1.2457 - val_accuracy: 0.6577\n",
            "Epoch 109/200\n",
            "531/531 [==============================] - 17s 32ms/step - loss: 0.9706 - accuracy: 0.7055 - val_loss: 1.2498 - val_accuracy: 0.6572\n",
            "Epoch 110/200\n",
            "531/531 [==============================] - 17s 32ms/step - loss: 0.9667 - accuracy: 0.7074 - val_loss: 1.3068 - val_accuracy: 0.6482\n",
            "Epoch 111/200\n",
            "531/531 [==============================] - 17s 33ms/step - loss: 0.9603 - accuracy: 0.7128 - val_loss: 1.2400 - val_accuracy: 0.6628\n",
            "Epoch 112/200\n",
            "531/531 [==============================] - 17s 32ms/step - loss: 0.9548 - accuracy: 0.7113 - val_loss: 1.2565 - val_accuracy: 0.6558\n",
            "Epoch 113/200\n",
            "531/531 [==============================] - 17s 32ms/step - loss: 0.9404 - accuracy: 0.7133 - val_loss: 1.2394 - val_accuracy: 0.6557\n",
            "Epoch 114/200\n",
            "531/531 [==============================] - 17s 32ms/step - loss: 0.9368 - accuracy: 0.7148 - val_loss: 1.2745 - val_accuracy: 0.6572\n",
            "Epoch 115/200\n",
            "531/531 [==============================] - 17s 32ms/step - loss: 0.9300 - accuracy: 0.7186 - val_loss: 1.2640 - val_accuracy: 0.6525\n",
            "Epoch 116/200\n",
            "531/531 [==============================] - 17s 32ms/step - loss: 0.9190 - accuracy: 0.7216 - val_loss: 1.2726 - val_accuracy: 0.6583\n",
            "Epoch 117/200\n",
            "531/531 [==============================] - 17s 32ms/step - loss: 0.9195 - accuracy: 0.7185 - val_loss: 1.2706 - val_accuracy: 0.6563\n",
            "Epoch 118/200\n",
            "531/531 [==============================] - 17s 32ms/step - loss: 0.9138 - accuracy: 0.7202 - val_loss: 1.2707 - val_accuracy: 0.6565\n",
            "Epoch 119/200\n",
            "531/531 [==============================] - 17s 32ms/step - loss: 0.8994 - accuracy: 0.7245 - val_loss: 1.2472 - val_accuracy: 0.6583\n",
            "Epoch 120/200\n",
            "531/531 [==============================] - 17s 32ms/step - loss: 0.9079 - accuracy: 0.7235 - val_loss: 1.2680 - val_accuracy: 0.6595\n",
            "Epoch 121/200\n",
            "531/531 [==============================] - 17s 33ms/step - loss: 0.8826 - accuracy: 0.7325 - val_loss: 1.2738 - val_accuracy: 0.6540\n",
            "Epoch 122/200\n",
            "531/531 [==============================] - 17s 32ms/step - loss: 0.8734 - accuracy: 0.7315 - val_loss: 1.2604 - val_accuracy: 0.6602\n",
            "Epoch 123/200\n",
            "531/531 [==============================] - 17s 32ms/step - loss: 0.8777 - accuracy: 0.7311 - val_loss: 1.2496 - val_accuracy: 0.6550\n",
            "Epoch 124/200\n",
            "531/531 [==============================] - 17s 32ms/step - loss: 0.8726 - accuracy: 0.7331 - val_loss: 1.2429 - val_accuracy: 0.6623\n",
            "Epoch 125/200\n",
            "531/531 [==============================] - 17s 32ms/step - loss: 0.8673 - accuracy: 0.7345 - val_loss: 1.2904 - val_accuracy: 0.6582\n",
            "Epoch 126/200\n",
            "531/531 [==============================] - 17s 32ms/step - loss: 0.8614 - accuracy: 0.7352 - val_loss: 1.2396 - val_accuracy: 0.6573\n",
            "Epoch 127/200\n",
            "531/531 [==============================] - 17s 32ms/step - loss: 0.8352 - accuracy: 0.7416 - val_loss: 1.2635 - val_accuracy: 0.6610\n",
            "Epoch 128/200\n",
            "531/531 [==============================] - 17s 32ms/step - loss: 0.8497 - accuracy: 0.7418 - val_loss: 1.2828 - val_accuracy: 0.6597\n",
            "Epoch 129/200\n",
            "531/531 [==============================] - 17s 33ms/step - loss: 0.8408 - accuracy: 0.7412 - val_loss: 1.2605 - val_accuracy: 0.6637\n",
            "Epoch 130/200\n",
            "531/531 [==============================] - 17s 32ms/step - loss: 0.8273 - accuracy: 0.7456 - val_loss: 1.2627 - val_accuracy: 0.6620\n",
            "Epoch 131/200\n",
            "531/531 [==============================] - 17s 32ms/step - loss: 0.8339 - accuracy: 0.7425 - val_loss: 1.2586 - val_accuracy: 0.6615\n",
            "Epoch 132/200\n",
            "531/531 [==============================] - 17s 32ms/step - loss: 0.8079 - accuracy: 0.7501 - val_loss: 1.2471 - val_accuracy: 0.6628\n",
            "Epoch 133/200\n",
            "531/531 [==============================] - 17s 32ms/step - loss: 0.8094 - accuracy: 0.7489 - val_loss: 1.2528 - val_accuracy: 0.6728\n",
            "Epoch 134/200\n",
            "531/531 [==============================] - 17s 32ms/step - loss: 0.8072 - accuracy: 0.7479 - val_loss: 1.2742 - val_accuracy: 0.6648\n",
            "Epoch 135/200\n",
            "531/531 [==============================] - 17s 33ms/step - loss: 0.7954 - accuracy: 0.7519 - val_loss: 1.2755 - val_accuracy: 0.6613\n",
            "Epoch 136/200\n",
            "531/531 [==============================] - 17s 32ms/step - loss: 0.7990 - accuracy: 0.7526 - val_loss: 1.2621 - val_accuracy: 0.6682\n",
            "Epoch 137/200\n",
            "531/531 [==============================] - 17s 32ms/step - loss: 0.7767 - accuracy: 0.7609 - val_loss: 1.3068 - val_accuracy: 0.6550\n",
            "Epoch 138/200\n",
            "531/531 [==============================] - 18s 33ms/step - loss: 0.7811 - accuracy: 0.7584 - val_loss: 1.3039 - val_accuracy: 0.6635\n",
            "Epoch 139/200\n",
            "531/531 [==============================] - 18s 33ms/step - loss: 0.7756 - accuracy: 0.7564 - val_loss: 1.2323 - val_accuracy: 0.6730\n",
            "Epoch 140/200\n",
            "531/531 [==============================] - 17s 33ms/step - loss: 0.7728 - accuracy: 0.7601 - val_loss: 1.2621 - val_accuracy: 0.6738\n",
            "Epoch 141/200\n",
            "531/531 [==============================] - 17s 32ms/step - loss: 0.7713 - accuracy: 0.7622 - val_loss: 1.2750 - val_accuracy: 0.6765\n",
            "Epoch 142/200\n",
            "531/531 [==============================] - 17s 32ms/step - loss: 0.7536 - accuracy: 0.7636 - val_loss: 1.2744 - val_accuracy: 0.6702\n",
            "Epoch 143/200\n",
            "531/531 [==============================] - 17s 32ms/step - loss: 0.7404 - accuracy: 0.7691 - val_loss: 1.2604 - val_accuracy: 0.6693\n",
            "Epoch 144/200\n",
            "531/531 [==============================] - 17s 33ms/step - loss: 0.7556 - accuracy: 0.7654 - val_loss: 1.2936 - val_accuracy: 0.6603\n",
            "Epoch 145/200\n",
            "531/531 [==============================] - 17s 33ms/step - loss: 0.7338 - accuracy: 0.7689 - val_loss: 1.3160 - val_accuracy: 0.6657\n",
            "Epoch 146/200\n",
            "531/531 [==============================] - 17s 32ms/step - loss: 0.7355 - accuracy: 0.7702 - val_loss: 1.2600 - val_accuracy: 0.6693\n",
            "Epoch 147/200\n",
            "531/531 [==============================] - 17s 33ms/step - loss: 0.7345 - accuracy: 0.7698 - val_loss: 1.3099 - val_accuracy: 0.6732\n",
            "Epoch 148/200\n",
            "531/531 [==============================] - 18s 33ms/step - loss: 0.7400 - accuracy: 0.7710 - val_loss: 1.2399 - val_accuracy: 0.6715\n",
            "Epoch 149/200\n",
            "531/531 [==============================] - 18s 33ms/step - loss: 0.7261 - accuracy: 0.7728 - val_loss: 1.3042 - val_accuracy: 0.6713\n",
            "Epoch 150/200\n",
            "531/531 [==============================] - 18s 33ms/step - loss: 0.7257 - accuracy: 0.7749 - val_loss: 1.2969 - val_accuracy: 0.6720\n",
            "Epoch 151/200\n",
            "531/531 [==============================] - 18s 33ms/step - loss: 0.6990 - accuracy: 0.7819 - val_loss: 1.2456 - val_accuracy: 0.6803\n",
            "Epoch 152/200\n",
            "531/531 [==============================] - 18s 33ms/step - loss: 0.6978 - accuracy: 0.7832 - val_loss: 1.2891 - val_accuracy: 0.6732\n",
            "Epoch 153/200\n",
            "531/531 [==============================] - 18s 33ms/step - loss: 0.7059 - accuracy: 0.7789 - val_loss: 1.2897 - val_accuracy: 0.6733\n",
            "Epoch 154/200\n",
            "531/531 [==============================] - 18s 33ms/step - loss: 0.7008 - accuracy: 0.7805 - val_loss: 1.2707 - val_accuracy: 0.6733\n",
            "Epoch 155/200\n",
            "531/531 [==============================] - 18s 33ms/step - loss: 0.6911 - accuracy: 0.7842 - val_loss: 1.2889 - val_accuracy: 0.6727\n",
            "Epoch 156/200\n",
            "531/531 [==============================] - 18s 33ms/step - loss: 0.6868 - accuracy: 0.7816 - val_loss: 1.2642 - val_accuracy: 0.6770\n",
            "Epoch 157/200\n",
            "531/531 [==============================] - 18s 33ms/step - loss: 0.6824 - accuracy: 0.7859 - val_loss: 1.2279 - val_accuracy: 0.6793\n",
            "Epoch 158/200\n",
            "531/531 [==============================] - 18s 33ms/step - loss: 0.6733 - accuracy: 0.7880 - val_loss: 1.2905 - val_accuracy: 0.6728\n",
            "Epoch 159/200\n",
            "531/531 [==============================] - 18s 33ms/step - loss: 0.6784 - accuracy: 0.7883 - val_loss: 1.2600 - val_accuracy: 0.6797\n",
            "Epoch 160/200\n",
            "531/531 [==============================] - 18s 33ms/step - loss: 0.6764 - accuracy: 0.7901 - val_loss: 1.3305 - val_accuracy: 0.6638\n",
            "Epoch 161/200\n",
            "531/531 [==============================] - 18s 33ms/step - loss: 0.6680 - accuracy: 0.7903 - val_loss: 1.3320 - val_accuracy: 0.6747\n",
            "Epoch 162/200\n",
            "531/531 [==============================] - 18s 33ms/step - loss: 0.6579 - accuracy: 0.7928 - val_loss: 1.3107 - val_accuracy: 0.6747\n",
            "Epoch 163/200\n",
            "531/531 [==============================] - 18s 33ms/step - loss: 0.6588 - accuracy: 0.7916 - val_loss: 1.3597 - val_accuracy: 0.6670\n",
            "Epoch 164/200\n",
            "531/531 [==============================] - 18s 33ms/step - loss: 0.6538 - accuracy: 0.7947 - val_loss: 1.2942 - val_accuracy: 0.6755\n",
            "Epoch 165/200\n",
            "531/531 [==============================] - 18s 33ms/step - loss: 0.6529 - accuracy: 0.7957 - val_loss: 1.3125 - val_accuracy: 0.6793\n",
            "Epoch 166/200\n",
            "531/531 [==============================] - 18s 33ms/step - loss: 0.6467 - accuracy: 0.7960 - val_loss: 1.3407 - val_accuracy: 0.6690\n",
            "Epoch 167/200\n",
            "531/531 [==============================] - 18s 33ms/step - loss: 0.6316 - accuracy: 0.8011 - val_loss: 1.2923 - val_accuracy: 0.6757\n",
            "Epoch 168/200\n",
            "531/531 [==============================] - 18s 33ms/step - loss: 0.6371 - accuracy: 0.8002 - val_loss: 1.3519 - val_accuracy: 0.6740\n",
            "Epoch 169/200\n",
            "531/531 [==============================] - 18s 33ms/step - loss: 0.6310 - accuracy: 0.8027 - val_loss: 1.3208 - val_accuracy: 0.6775\n",
            "Epoch 170/200\n",
            "531/531 [==============================] - 18s 33ms/step - loss: 0.6306 - accuracy: 0.7989 - val_loss: 1.3284 - val_accuracy: 0.6732\n",
            "Epoch 171/200\n",
            "531/531 [==============================] - 18s 33ms/step - loss: 0.6170 - accuracy: 0.8074 - val_loss: 1.3372 - val_accuracy: 0.6782\n",
            "Epoch 172/200\n",
            "531/531 [==============================] - 18s 33ms/step - loss: 0.6142 - accuracy: 0.8079 - val_loss: 1.2897 - val_accuracy: 0.6832\n",
            "Epoch 173/200\n",
            "531/531 [==============================] - 18s 33ms/step - loss: 0.6174 - accuracy: 0.8060 - val_loss: 1.3084 - val_accuracy: 0.6728\n",
            "Epoch 174/200\n",
            "531/531 [==============================] - 18s 33ms/step - loss: 0.6027 - accuracy: 0.8122 - val_loss: 1.2748 - val_accuracy: 0.6835\n",
            "Epoch 175/200\n",
            "531/531 [==============================] - 18s 33ms/step - loss: 0.6089 - accuracy: 0.8085 - val_loss: 1.2924 - val_accuracy: 0.6802\n",
            "Epoch 176/200\n",
            "531/531 [==============================] - 18s 33ms/step - loss: 0.6134 - accuracy: 0.8061 - val_loss: 1.4058 - val_accuracy: 0.6710\n",
            "Epoch 177/200\n",
            "531/531 [==============================] - 18s 33ms/step - loss: 0.6066 - accuracy: 0.8116 - val_loss: 1.2895 - val_accuracy: 0.6820\n",
            "Epoch 178/200\n",
            "531/531 [==============================] - 18s 33ms/step - loss: 0.5939 - accuracy: 0.8127 - val_loss: 1.3196 - val_accuracy: 0.6747\n",
            "Epoch 179/200\n",
            "531/531 [==============================] - 18s 33ms/step - loss: 0.5935 - accuracy: 0.8113 - val_loss: 1.3592 - val_accuracy: 0.6705\n",
            "Epoch 180/200\n",
            "531/531 [==============================] - 18s 33ms/step - loss: 0.5870 - accuracy: 0.8158 - val_loss: 1.3492 - val_accuracy: 0.6752\n",
            "Epoch 181/200\n",
            "531/531 [==============================] - 18s 33ms/step - loss: 0.5843 - accuracy: 0.8170 - val_loss: 1.3415 - val_accuracy: 0.6768\n",
            "Epoch 182/200\n",
            "531/531 [==============================] - 18s 34ms/step - loss: 0.5887 - accuracy: 0.8159 - val_loss: 1.3894 - val_accuracy: 0.6782\n",
            "Epoch 183/200\n",
            "531/531 [==============================] - 18s 33ms/step - loss: 0.5811 - accuracy: 0.8141 - val_loss: 1.3596 - val_accuracy: 0.6728\n",
            "Epoch 184/200\n",
            "531/531 [==============================] - 18s 33ms/step - loss: 0.5678 - accuracy: 0.8193 - val_loss: 1.3067 - val_accuracy: 0.6792\n",
            "Epoch 185/200\n",
            "531/531 [==============================] - 18s 33ms/step - loss: 0.5776 - accuracy: 0.8193 - val_loss: 1.3041 - val_accuracy: 0.6822\n",
            "Epoch 186/200\n",
            "531/531 [==============================] - 18s 33ms/step - loss: 0.5767 - accuracy: 0.8197 - val_loss: 1.3432 - val_accuracy: 0.6798\n",
            "Epoch 187/200\n",
            "531/531 [==============================] - 18s 33ms/step - loss: 0.5722 - accuracy: 0.8187 - val_loss: 1.3085 - val_accuracy: 0.6848\n",
            "Epoch 188/200\n",
            "531/531 [==============================] - 18s 33ms/step - loss: 0.5657 - accuracy: 0.8208 - val_loss: 1.3134 - val_accuracy: 0.6775\n",
            "Epoch 189/200\n",
            "531/531 [==============================] - 18s 33ms/step - loss: 0.5688 - accuracy: 0.8197 - val_loss: 1.3116 - val_accuracy: 0.6787\n",
            "Epoch 190/200\n",
            "531/531 [==============================] - 18s 33ms/step - loss: 0.5527 - accuracy: 0.8275 - val_loss: 1.3304 - val_accuracy: 0.6813\n",
            "Epoch 191/200\n",
            "531/531 [==============================] - 18s 33ms/step - loss: 0.5477 - accuracy: 0.8262 - val_loss: 1.3361 - val_accuracy: 0.6783\n",
            "Epoch 192/200\n",
            "531/531 [==============================] - 18s 33ms/step - loss: 0.5531 - accuracy: 0.8249 - val_loss: 1.3244 - val_accuracy: 0.6778\n",
            "Epoch 193/200\n",
            "531/531 [==============================] - 18s 33ms/step - loss: 0.5389 - accuracy: 0.8294 - val_loss: 1.3189 - val_accuracy: 0.6792\n",
            "Epoch 194/200\n",
            "531/531 [==============================] - 18s 33ms/step - loss: 0.5522 - accuracy: 0.8273 - val_loss: 1.3487 - val_accuracy: 0.6693\n",
            "Epoch 195/200\n",
            "531/531 [==============================] - 18s 33ms/step - loss: 0.5367 - accuracy: 0.8299 - val_loss: 1.3446 - val_accuracy: 0.6820\n",
            "Epoch 196/200\n",
            "531/531 [==============================] - 18s 33ms/step - loss: 0.5337 - accuracy: 0.8337 - val_loss: 1.3245 - val_accuracy: 0.6803\n",
            "Epoch 197/200\n",
            "531/531 [==============================] - 18s 33ms/step - loss: 0.5412 - accuracy: 0.8295 - val_loss: 1.3289 - val_accuracy: 0.6850\n",
            "Epoch 198/200\n",
            "531/531 [==============================] - 18s 33ms/step - loss: 0.5277 - accuracy: 0.8334 - val_loss: 1.3179 - val_accuracy: 0.6813\n",
            "Epoch 199/200\n",
            "531/531 [==============================] - 18s 33ms/step - loss: 0.5304 - accuracy: 0.8324 - val_loss: 1.4251 - val_accuracy: 0.6733\n",
            "Epoch 200/200\n",
            "531/531 [==============================] - 18s 33ms/step - loss: 0.5223 - accuracy: 0.8352 - val_loss: 1.3732 - val_accuracy: 0.6845\n"
          ],
          "name": "stdout"
        },
        {
          "output_type": "execute_result",
          "data": {
            "text/plain": [
              "<tensorflow.python.keras.callbacks.History at 0x7fa362240a58>"
            ]
          },
          "metadata": {
            "tags": []
          },
          "execution_count": 18
        }
      ]
    },
    {
      "cell_type": "code",
      "metadata": {
        "colab_type": "code",
        "id": "OHB8cRmCne4_",
        "outputId": "9aef8cc8-db9c-44c7-8f2c-0698c1fa8b23",
        "colab": {
          "base_uri": "https://localhost:8080/",
          "height": 625
        }
      },
      "source": [
        "model_report(ADAM_MODEL_AUG, ADAM_MODEL_AUG.history)"
      ],
      "execution_count": 0,
      "outputs": [
        {
          "output_type": "display_data",
          "data": {
            "image/png": "[encoded data removed]",
            "text/plain": [
              "<Figure size 576x576 with 2 Axes>"
            ]
          },
          "metadata": {
            "tags": []
          }
        },
        {
          "output_type": "stream",
          "text": [
            "\n",
            "Test set evaluation metrics\n",
            "125/125 [==============================] - 1s 9ms/step - loss: 1.3400 - accuracy: 0.6874\n",
            "loss: 1.34\n",
            "accuracy: 0.69\n"
          ],
          "name": "stdout"
        }
      ]
    },
    {
      "cell_type": "markdown",
      "metadata": {
        "colab_type": "text",
        "id": "96hjcISnA2XE"
      },
      "source": [
        "Όπως ανεμέναμε το δίκτυο μας κατάφερε να βελτιώση την απόδοση του με μεγαλύτερο πλήθος εποχών. Παρόλα αυτά αξίζει να παρατηρήσουμε ότι ξεκινά και πάλι να δημιουργείται πρόβλημα υπερ-εκπαίδευσης στα δεδομένα εισόδου.\n",
        "\n",
        "Η τελική ακρίβεια που επιτύχαμε με το δίκτυό μας είναι ίση με 70% περίπου, ενώ ο δείκτης απώλειας είναι ίσος με 1.34."
      ]
    },
    {
      "cell_type": "markdown",
      "metadata": {
        "colab_type": "text",
        "id": "12z4zsoVbPWR"
      },
      "source": [
        "### Transfer Learning"
      ]
    },
    {
      "cell_type": "markdown",
      "metadata": {
        "id": "_hfy5wPzHW8E",
        "colab_type": "text"
      },
      "source": [
        "Για τη μέθοδο της μεταφοράς μάθησης θα χρησιμοποιήσουμε το δίκτυο [VGG19](https://bit.ly/3dicnCq), για την εκπαίδευση του οποίου θα πειραματιστούμε με το όρισμα `model.trainable`. Σημειώνουμε ότι και για τις δύο μεθόδους θα κάνουμε χρήση του `ImageDataGenerator`, όπως είδαμε παραπάνω."
      ]
    },
    {
      "cell_type": "code",
      "metadata": {
        "id": "cLQuux8-HeXi",
        "colab_type": "code",
        "colab": {}
      },
      "source": [
        "def preprocess_image(image):\n",
        "  image = tf.image.resize(image, [224, 224])\n",
        "  return image\n",
        "\n",
        "def _new_input_fn(x, y, BATCH_SIZE):\n",
        "  \"\"\" Returns shuffled and batched tensors in the form of PrefetchDataset objects. \"\"\"\n",
        "  x_ds = tf.data.Dataset.from_tensor_slices((x))\n",
        "  x_ds = x_ds.map(preprocess_image, num_parallel_calls=AUTOTUNE)\n",
        "  y_ds = tf.data.Dataset.from_tensor_slices(tf.cast(y, tf.int64))\n",
        "  ds = tf.data.Dataset.zip((x_ds, y_ds))\n",
        "\n",
        "  ds = ds.shuffle(buffer_size=data_size)\n",
        "  ds = ds.repeat() # repeat indefinately\n",
        "  ds = ds.batch(BATCH_SIZE)\n",
        "  ds = ds.prefetch(buffer_size=AUTOTUNE)\n",
        "  return ds\n",
        "\n",
        "# PrefetchDataset objects\n",
        "new_train_ds =_new_input_fn(x_train, y_train, BATCH_SIZE)\n",
        "new_validation_ds =_new_input_fn(x_val, y_val, BATCH_SIZE)\n",
        "new_test_ds =_new_input_fn(x_test, y_test, BATCH_SIZE)"
      ],
      "execution_count": 0,
      "outputs": []
    },
    {
      "cell_type": "markdown",
      "metadata": {
        "id": "I0SsrTcrHcBS",
        "colab_type": "text"
      },
      "source": [
        "Θα ξεκινήσουμε με όρισμα `trainable=False`:"
      ]
    },
    {
      "cell_type": "code",
      "metadata": {
        "colab_type": "code",
        "id": "6QJueWvUXUTJ",
        "colab": {}
      },
      "source": [
        "def init_VGG19_model(summary):\n",
        "\n",
        "  VGG19_MODEL=tf.keras.applications.VGG19(input_shape=(img_rows, img_cols, img_channels), include_top=False, weights='imagenet')\n",
        "\n",
        "  VGG19_MODEL.trainable=False\n",
        "\n",
        "  flatten_layer = tf.keras.layers.Flatten()\n",
        "  dense_layer = tf.keras.layers.Dense(1024, activation='elu')\n",
        "  dropout_layer = tf.keras.layers.Dropout(rate=0.50)\n",
        "  prediction_layer = tf.keras.layers.Dense(100, activation='softmax')\n",
        "\n",
        "  model = tf.keras.Sequential([VGG19_MODEL, flatten_layer, dense_layer, dropout_layer, prediction_layer])\n",
        "  \n",
        "  model.compile(optimizer=tf.optimizers.Adam(learning_rate=0.00005), loss=tf.keras.losses.sparse_categorical_crossentropy, metrics=[\"accuracy\"])\n",
        "\n",
        "  if summary: \n",
        "    model.summary()\n",
        "\n",
        "  return model"
      ],
      "execution_count": 0,
      "outputs": []
    },
    {
      "cell_type": "code",
      "metadata": {
        "colab_type": "code",
        "id": "HR-bPAmGGt2N",
        "outputId": "52319918-5fdb-4735-85a0-b8f7c5cfe9e5",
        "colab": {
          "base_uri": "https://localhost:8080/",
          "height": 1000
        }
      },
      "source": [
        "VGG19_MODEL_ = init_VGG19_model(summary = True)\n",
        "\n",
        "VGG19_MODEL_.fit(datagen.flow(x_train, y_train, batch_size=64), steps_per_epoch=x_train.shape[0]//64, epochs=50, validation_data=(x_val, y_val))"
      ],
      "execution_count": 14,
      "outputs": [
        {
          "output_type": "stream",
          "text": [
            "Downloading data from https://github.com/fchollet/deep-learning-models/releases/download/v0.1/vgg19_weights_tf_dim_ordering_tf_kernels_notop.h5\n",
            "80142336/80134624 [==============================] - 4s 0us/step\n",
            "Model: \"sequential\"\n",
            "_________________________________________________________________\n",
            "Layer (type)                 Output Shape              Param #   \n",
            "=================================================================\n",
            "vgg19 (Model)                (None, 1, 1, 512)         20024384  \n",
            "_________________________________________________________________\n",
            "flatten (Flatten)            (None, 512)               0         \n",
            "_________________________________________________________________\n",
            "dense (Dense)                (None, 1024)              525312    \n",
            "_________________________________________________________________\n",
            "dropout (Dropout)            (None, 1024)              0         \n",
            "_________________________________________________________________\n",
            "dense_1 (Dense)              (None, 100)               102500    \n",
            "=================================================================\n",
            "Total params: 20,652,196\n",
            "Trainable params: 627,812\n",
            "Non-trainable params: 20,024,384\n",
            "_________________________________________________________________\n",
            "WARNING:tensorflow:sample_weight modes were coerced from\n",
            "  ...\n",
            "    to  \n",
            "  ['...']\n",
            "Train for 531 steps, validate on 6000 samples\n",
            "Epoch 1/50\n",
            "531/531 [==============================] - 30s 56ms/step - loss: 4.2103 - accuracy: 0.0644 - val_loss: 3.7080 - val_accuracy: 0.1532\n",
            "Epoch 2/50\n",
            "531/531 [==============================] - 22s 42ms/step - loss: 3.6470 - accuracy: 0.1453 - val_loss: 3.3705 - val_accuracy: 0.2065\n",
            "Epoch 3/50\n",
            "531/531 [==============================] - 22s 41ms/step - loss: 3.3848 - accuracy: 0.1858 - val_loss: 3.1978 - val_accuracy: 0.2290\n",
            "Epoch 4/50\n",
            "531/531 [==============================] - 22s 41ms/step - loss: 3.2445 - accuracy: 0.2091 - val_loss: 3.0900 - val_accuracy: 0.2428\n",
            "Epoch 5/50\n",
            "531/531 [==============================] - 22s 41ms/step - loss: 3.1496 - accuracy: 0.2260 - val_loss: 3.0196 - val_accuracy: 0.2495\n",
            "Epoch 6/50\n",
            "531/531 [==============================] - 21s 40ms/step - loss: 3.0749 - accuracy: 0.2366 - val_loss: 2.9628 - val_accuracy: 0.2620\n",
            "Epoch 7/50\n",
            "531/531 [==============================] - 21s 40ms/step - loss: 3.0180 - accuracy: 0.2477 - val_loss: 2.9188 - val_accuracy: 0.2712\n",
            "Epoch 8/50\n",
            "531/531 [==============================] - 21s 40ms/step - loss: 2.9771 - accuracy: 0.2539 - val_loss: 2.8865 - val_accuracy: 0.2722\n",
            "Epoch 9/50\n",
            "531/531 [==============================] - 21s 39ms/step - loss: 2.9434 - accuracy: 0.2615 - val_loss: 2.8587 - val_accuracy: 0.2830\n",
            "Epoch 10/50\n",
            "531/531 [==============================] - 21s 39ms/step - loss: 2.9095 - accuracy: 0.2682 - val_loss: 2.8342 - val_accuracy: 0.2840\n",
            "Epoch 11/50\n",
            "531/531 [==============================] - 21s 39ms/step - loss: 2.8793 - accuracy: 0.2715 - val_loss: 2.8153 - val_accuracy: 0.2930\n",
            "Epoch 12/50\n",
            "531/531 [==============================] - 21s 39ms/step - loss: 2.8547 - accuracy: 0.2761 - val_loss: 2.7924 - val_accuracy: 0.2912\n",
            "Epoch 13/50\n",
            "531/531 [==============================] - 20s 38ms/step - loss: 2.8330 - accuracy: 0.2837 - val_loss: 2.7719 - val_accuracy: 0.2993\n",
            "Epoch 14/50\n",
            "531/531 [==============================] - 21s 39ms/step - loss: 2.8144 - accuracy: 0.2889 - val_loss: 2.7584 - val_accuracy: 0.3003\n",
            "Epoch 15/50\n",
            "531/531 [==============================] - 20s 38ms/step - loss: 2.7925 - accuracy: 0.2930 - val_loss: 2.7412 - val_accuracy: 0.3052\n",
            "Epoch 16/50\n",
            "531/531 [==============================] - 20s 38ms/step - loss: 2.7729 - accuracy: 0.2941 - val_loss: 2.7371 - val_accuracy: 0.3083\n",
            "Epoch 17/50\n",
            "531/531 [==============================] - 20s 39ms/step - loss: 2.7582 - accuracy: 0.2972 - val_loss: 2.7216 - val_accuracy: 0.3100\n",
            "Epoch 18/50\n",
            "531/531 [==============================] - 20s 39ms/step - loss: 2.7442 - accuracy: 0.3000 - val_loss: 2.7129 - val_accuracy: 0.3110\n",
            "Epoch 19/50\n",
            "531/531 [==============================] - 20s 38ms/step - loss: 2.7295 - accuracy: 0.3030 - val_loss: 2.7007 - val_accuracy: 0.3173\n",
            "Epoch 20/50\n",
            "531/531 [==============================] - 20s 38ms/step - loss: 2.7112 - accuracy: 0.3084 - val_loss: 2.6941 - val_accuracy: 0.3120\n",
            "Epoch 21/50\n",
            "531/531 [==============================] - 20s 39ms/step - loss: 2.7065 - accuracy: 0.3080 - val_loss: 2.6793 - val_accuracy: 0.3167\n",
            "Epoch 22/50\n",
            "531/531 [==============================] - 21s 39ms/step - loss: 2.6896 - accuracy: 0.3117 - val_loss: 2.6721 - val_accuracy: 0.3195\n",
            "Epoch 23/50\n",
            "531/531 [==============================] - 21s 39ms/step - loss: 2.6762 - accuracy: 0.3144 - val_loss: 2.6644 - val_accuracy: 0.3238\n",
            "Epoch 24/50\n",
            "531/531 [==============================] - 20s 38ms/step - loss: 2.6733 - accuracy: 0.3149 - val_loss: 2.6599 - val_accuracy: 0.3213\n",
            "Epoch 25/50\n",
            "531/531 [==============================] - 20s 38ms/step - loss: 2.6586 - accuracy: 0.3193 - val_loss: 2.6534 - val_accuracy: 0.3232\n",
            "Epoch 26/50\n",
            "531/531 [==============================] - 20s 38ms/step - loss: 2.6479 - accuracy: 0.3202 - val_loss: 2.6454 - val_accuracy: 0.3253\n",
            "Epoch 27/50\n",
            "531/531 [==============================] - 20s 38ms/step - loss: 2.6377 - accuracy: 0.3208 - val_loss: 2.6449 - val_accuracy: 0.3245\n",
            "Epoch 28/50\n",
            "531/531 [==============================] - 20s 38ms/step - loss: 2.6349 - accuracy: 0.3241 - val_loss: 2.6356 - val_accuracy: 0.3267\n",
            "Epoch 29/50\n",
            "531/531 [==============================] - 20s 38ms/step - loss: 2.6242 - accuracy: 0.3239 - val_loss: 2.6311 - val_accuracy: 0.3263\n",
            "Epoch 30/50\n",
            "531/531 [==============================] - 20s 38ms/step - loss: 2.6130 - accuracy: 0.3281 - val_loss: 2.6234 - val_accuracy: 0.3312\n",
            "Epoch 31/50\n",
            "531/531 [==============================] - 21s 39ms/step - loss: 2.6079 - accuracy: 0.3283 - val_loss: 2.6212 - val_accuracy: 0.3312\n",
            "Epoch 32/50\n",
            "531/531 [==============================] - 21s 39ms/step - loss: 2.6013 - accuracy: 0.3290 - val_loss: 2.6104 - val_accuracy: 0.3308\n",
            "Epoch 33/50\n",
            "531/531 [==============================] - 20s 38ms/step - loss: 2.5870 - accuracy: 0.3337 - val_loss: 2.6115 - val_accuracy: 0.3315\n",
            "Epoch 34/50\n",
            "531/531 [==============================] - 21s 39ms/step - loss: 2.5864 - accuracy: 0.3346 - val_loss: 2.6034 - val_accuracy: 0.3325\n",
            "Epoch 35/50\n",
            "531/531 [==============================] - 21s 39ms/step - loss: 2.5797 - accuracy: 0.3326 - val_loss: 2.6029 - val_accuracy: 0.3322\n",
            "Epoch 36/50\n",
            "531/531 [==============================] - 21s 39ms/step - loss: 2.5719 - accuracy: 0.3345 - val_loss: 2.5970 - val_accuracy: 0.3373\n",
            "Epoch 37/50\n",
            "531/531 [==============================] - 21s 39ms/step - loss: 2.5675 - accuracy: 0.3373 - val_loss: 2.5969 - val_accuracy: 0.3350\n",
            "Epoch 38/50\n",
            "531/531 [==============================] - 21s 40ms/step - loss: 2.5523 - accuracy: 0.3376 - val_loss: 2.5986 - val_accuracy: 0.3385\n",
            "Epoch 39/50\n",
            "531/531 [==============================] - 21s 39ms/step - loss: 2.5557 - accuracy: 0.3383 - val_loss: 2.5823 - val_accuracy: 0.3377\n",
            "Epoch 40/50\n",
            "531/531 [==============================] - 20s 39ms/step - loss: 2.5466 - accuracy: 0.3425 - val_loss: 2.5802 - val_accuracy: 0.3362\n",
            "Epoch 41/50\n",
            "531/531 [==============================] - 21s 39ms/step - loss: 2.5474 - accuracy: 0.3404 - val_loss: 2.5856 - val_accuracy: 0.3395\n",
            "Epoch 42/50\n",
            "531/531 [==============================] - 21s 39ms/step - loss: 2.5354 - accuracy: 0.3431 - val_loss: 2.5750 - val_accuracy: 0.3363\n",
            "Epoch 43/50\n",
            "531/531 [==============================] - 21s 39ms/step - loss: 2.5303 - accuracy: 0.3447 - val_loss: 2.5734 - val_accuracy: 0.3365\n",
            "Epoch 44/50\n",
            "531/531 [==============================] - 20s 38ms/step - loss: 2.5260 - accuracy: 0.3458 - val_loss: 2.5732 - val_accuracy: 0.3383\n",
            "Epoch 45/50\n",
            "531/531 [==============================] - 20s 39ms/step - loss: 2.5246 - accuracy: 0.3446 - val_loss: 2.5627 - val_accuracy: 0.3432\n",
            "Epoch 46/50\n",
            "531/531 [==============================] - 21s 39ms/step - loss: 2.5137 - accuracy: 0.3464 - val_loss: 2.5629 - val_accuracy: 0.3408\n",
            "Epoch 47/50\n",
            "531/531 [==============================] - 20s 39ms/step - loss: 2.5080 - accuracy: 0.3467 - val_loss: 2.5580 - val_accuracy: 0.3447\n",
            "Epoch 48/50\n",
            "531/531 [==============================] - 20s 39ms/step - loss: 2.5059 - accuracy: 0.3491 - val_loss: 2.5657 - val_accuracy: 0.3432\n",
            "Epoch 49/50\n",
            "531/531 [==============================] - 21s 39ms/step - loss: 2.5000 - accuracy: 0.3506 - val_loss: 2.5587 - val_accuracy: 0.3458\n",
            "Epoch 50/50\n",
            "531/531 [==============================] - 21s 39ms/step - loss: 2.5043 - accuracy: 0.3490 - val_loss: 2.5607 - val_accuracy: 0.3465\n"
          ],
          "name": "stdout"
        },
        {
          "output_type": "execute_result",
          "data": {
            "text/plain": [
              "<tensorflow.python.keras.callbacks.History at 0x7fe08048ee48>"
            ]
          },
          "metadata": {
            "tags": []
          },
          "execution_count": 14
        }
      ]
    },
    {
      "cell_type": "code",
      "metadata": {
        "colab_type": "code",
        "id": "2bZChKpdh0Cn",
        "outputId": "99b3e9f7-179b-4f24-e6b8-3caaaa4c4158",
        "colab": {
          "base_uri": "https://localhost:8080/",
          "height": 625
        }
      },
      "source": [
        "model_report(VGG19_MODEL_, VGG19_MODEL_.history)"
      ],
      "execution_count": 15,
      "outputs": [
        {
          "output_type": "display_data",
          "data": {
            "image/png": "[encoded data removed]",
            "text/plain": [
              "<Figure size 576x576 with 2 Axes>"
            ]
          },
          "metadata": {
            "tags": []
          }
        },
        {
          "output_type": "stream",
          "text": [
            "\n",
            "Test set evaluation metrics\n",
            "125/125 [==============================] - 2s 13ms/step - loss: 2.5289 - accuracy: 0.3465\n",
            "loss: 2.53\n",
            "accuracy: 0.35\n"
          ],
          "name": "stdout"
        }
      ]
    },
    {
      "cell_type": "markdown",
      "metadata": {
        "id": "UVCssgybHgnX",
        "colab_type": "text"
      },
      "source": [
        "Συνεχίζουμε με `trainable=True`:"
      ]
    },
    {
      "cell_type": "code",
      "metadata": {
        "id": "xwUJ_L8BHNVh",
        "colab_type": "code",
        "colab": {}
      },
      "source": [
        "def init_VGG19_model_V2(summary):\n",
        "\n",
        "  VGG19_MODEL=tf.keras.applications.VGG19(input_shape=(img_rows, img_cols, img_channels), include_top=False, weights='imagenet')\n",
        "\n",
        "  VGG19_MODEL.trainable=True\n",
        "  \n",
        "  flatten_layer = tf.keras.layers.Flatten()\n",
        "  dense_layer = tf.keras.layers.Dense(1024, activation='elu')\n",
        "  dropout_layer = tf.keras.layers.Dropout(rate=0.50)\n",
        "  prediction_layer = tf.keras.layers.Dense(100, activation='softmax')\n",
        "\n",
        "  model = tf.keras.Sequential([VGG19_MODEL, flatten_layer, dense_layer, dropout_layer, prediction_layer])\n",
        "  model.compile(optimizer=tf.optimizers.Adam(learning_rate=0.0001), loss=tf.keras.losses.sparse_categorical_crossentropy, metrics=[\"accuracy\"])\n",
        "\n",
        "  if summary: \n",
        "    model.summary()\n",
        "\n",
        "  return model"
      ],
      "execution_count": 0,
      "outputs": []
    },
    {
      "cell_type": "code",
      "metadata": {
        "id": "j1R2EUYMN3l3",
        "colab_type": "code",
        "colab": {
          "base_uri": "https://localhost:8080/",
          "height": 1000
        },
        "outputId": "0e2be067-b007-4185-dd0e-055096cc41d2"
      },
      "source": [
        "VGG19_MODEL_V2 = init_VGG19_model_V2(summary = True)\n",
        "\n",
        "VGG19_MODEL_V2.fit(datagen.flow(x_train, y_train, batch_size=64), steps_per_epoch=x_train.shape[0]//64, epochs=25, validation_data=(x_val, y_val))"
      ],
      "execution_count": 25,
      "outputs": [
        {
          "output_type": "stream",
          "text": [
            "Model: \"sequential_5\"\n",
            "_________________________________________________________________\n",
            "Layer (type)                 Output Shape              Param #   \n",
            "=================================================================\n",
            "vgg19 (Model)                (None, 1, 1, 512)         20024384  \n",
            "_________________________________________________________________\n",
            "flatten_5 (Flatten)          (None, 512)               0         \n",
            "_________________________________________________________________\n",
            "dense_10 (Dense)             (None, 1024)              525312    \n",
            "_________________________________________________________________\n",
            "dropout_5 (Dropout)          (None, 1024)              0         \n",
            "_________________________________________________________________\n",
            "dense_11 (Dense)             (None, 100)               102500    \n",
            "=================================================================\n",
            "Total params: 20,652,196\n",
            "Trainable params: 20,652,196\n",
            "Non-trainable params: 0\n",
            "_________________________________________________________________\n",
            "WARNING:tensorflow:sample_weight modes were coerced from\n",
            "  ...\n",
            "    to  \n",
            "  ['...']\n",
            "Train for 531 steps, validate on 6000 samples\n",
            "Epoch 1/25\n",
            "531/531 [==============================] - 26s 49ms/step - loss: 4.0115 - accuracy: 0.0561 - val_loss: 3.3859 - val_accuracy: 0.1210\n",
            "Epoch 2/25\n",
            "531/531 [==============================] - 25s 48ms/step - loss: 3.1197 - accuracy: 0.1706 - val_loss: 2.6278 - val_accuracy: 0.2702\n",
            "Epoch 3/25\n",
            "531/531 [==============================] - 25s 47ms/step - loss: 2.6077 - accuracy: 0.2825 - val_loss: 2.2958 - val_accuracy: 0.3683\n",
            "Epoch 4/25\n",
            "531/531 [==============================] - 25s 47ms/step - loss: 2.2590 - accuracy: 0.3716 - val_loss: 2.1042 - val_accuracy: 0.4203\n",
            "Epoch 5/25\n",
            "531/531 [==============================] - 24s 46ms/step - loss: 2.0242 - accuracy: 0.4320 - val_loss: 1.9414 - val_accuracy: 0.4618\n",
            "Epoch 6/25\n",
            "531/531 [==============================] - 24s 45ms/step - loss: 1.8568 - accuracy: 0.4752 - val_loss: 1.8859 - val_accuracy: 0.4762\n",
            "Epoch 7/25\n",
            "531/531 [==============================] - 24s 46ms/step - loss: 1.6973 - accuracy: 0.5192 - val_loss: 1.8571 - val_accuracy: 0.5028\n",
            "Epoch 8/25\n",
            "531/531 [==============================] - 24s 45ms/step - loss: 1.5740 - accuracy: 0.5514 - val_loss: 1.6935 - val_accuracy: 0.5280\n",
            "Epoch 9/25\n",
            "531/531 [==============================] - 24s 45ms/step - loss: 1.4641 - accuracy: 0.5775 - val_loss: 1.7308 - val_accuracy: 0.5373\n",
            "Epoch 10/25\n",
            "531/531 [==============================] - 24s 45ms/step - loss: 1.3641 - accuracy: 0.6090 - val_loss: 1.6786 - val_accuracy: 0.5482\n",
            "Epoch 11/25\n",
            "531/531 [==============================] - 24s 46ms/step - loss: 1.2587 - accuracy: 0.6337 - val_loss: 1.6428 - val_accuracy: 0.5627\n",
            "Epoch 12/25\n",
            "531/531 [==============================] - 24s 46ms/step - loss: 1.1917 - accuracy: 0.6529 - val_loss: 1.6136 - val_accuracy: 0.5652\n",
            "Epoch 13/25\n",
            "531/531 [==============================] - 24s 45ms/step - loss: 1.0953 - accuracy: 0.6810 - val_loss: 1.6146 - val_accuracy: 0.5787\n",
            "Epoch 14/25\n",
            "531/531 [==============================] - 24s 45ms/step - loss: 1.0342 - accuracy: 0.6981 - val_loss: 1.5508 - val_accuracy: 0.5933\n",
            "Epoch 15/25\n",
            "531/531 [==============================] - 24s 45ms/step - loss: 0.9708 - accuracy: 0.7117 - val_loss: 1.6406 - val_accuracy: 0.5908\n",
            "Epoch 16/25\n",
            "531/531 [==============================] - 24s 46ms/step - loss: 0.9150 - accuracy: 0.7298 - val_loss: 1.6251 - val_accuracy: 0.5897\n",
            "Epoch 17/25\n",
            "531/531 [==============================] - 24s 45ms/step - loss: 0.8421 - accuracy: 0.7493 - val_loss: 1.5779 - val_accuracy: 0.6047\n",
            "Epoch 18/25\n",
            "531/531 [==============================] - 24s 46ms/step - loss: 0.7809 - accuracy: 0.7661 - val_loss: 1.6326 - val_accuracy: 0.6010\n",
            "Epoch 19/25\n",
            "531/531 [==============================] - 24s 45ms/step - loss: 0.7473 - accuracy: 0.7736 - val_loss: 1.6435 - val_accuracy: 0.5978\n",
            "Epoch 20/25\n",
            "531/531 [==============================] - 24s 45ms/step - loss: 0.6821 - accuracy: 0.7936 - val_loss: 1.7078 - val_accuracy: 0.5980\n",
            "Epoch 21/25\n",
            "531/531 [==============================] - 24s 45ms/step - loss: 0.6425 - accuracy: 0.8060 - val_loss: 1.6831 - val_accuracy: 0.6060\n",
            "Epoch 22/25\n",
            "531/531 [==============================] - 24s 45ms/step - loss: 0.5846 - accuracy: 0.8234 - val_loss: 1.7456 - val_accuracy: 0.5892\n",
            "Epoch 23/25\n",
            "531/531 [==============================] - 24s 45ms/step - loss: 0.5645 - accuracy: 0.8304 - val_loss: 1.6663 - val_accuracy: 0.6137\n",
            "Epoch 24/25\n",
            "531/531 [==============================] - 24s 46ms/step - loss: 0.5277 - accuracy: 0.8409 - val_loss: 1.7915 - val_accuracy: 0.6035\n",
            "Epoch 25/25\n",
            "531/531 [==============================] - 24s 46ms/step - loss: 0.4989 - accuracy: 0.8485 - val_loss: 1.8076 - val_accuracy: 0.5973\n"
          ],
          "name": "stdout"
        },
        {
          "output_type": "execute_result",
          "data": {
            "text/plain": [
              "<tensorflow.python.keras.callbacks.History at 0x7fe043df6c18>"
            ]
          },
          "metadata": {
            "tags": []
          },
          "execution_count": 25
        }
      ]
    },
    {
      "cell_type": "code",
      "metadata": {
        "id": "2pUkOLitHSLj",
        "colab_type": "code",
        "colab": {
          "base_uri": "https://localhost:8080/",
          "height": 625
        },
        "outputId": "8e01eb4f-0d31-4d0c-85d9-bdd8c2ef0e65"
      },
      "source": [
        "model_report(VGG19_MODEL_V2, VGG19_MODEL_.history)"
      ],
      "execution_count": 27,
      "outputs": [
        {
          "output_type": "display_data",
          "data": {
            "image/png": "[encoded data removed]",
            "text/plain": [
              "<Figure size 576x576 with 2 Axes>"
            ]
          },
          "metadata": {
            "tags": []
          }
        },
        {
          "output_type": "stream",
          "text": [
            "\n",
            "Test set evaluation metrics\n",
            "125/125 [==============================] - 2s 12ms/step - loss: 1.7700 - accuracy: 0.6072\n",
            "loss: 1.77\n",
            "accuracy: 0.61\n"
          ],
          "name": "stdout"
        }
      ]
    }
  ]
}