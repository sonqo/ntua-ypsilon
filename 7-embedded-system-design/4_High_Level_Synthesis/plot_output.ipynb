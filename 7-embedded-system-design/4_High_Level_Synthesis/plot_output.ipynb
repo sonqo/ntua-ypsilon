{
  "nbformat": 4,
  "nbformat_minor": 0,
  "metadata": {
    "kernelspec": {
      "display_name": "Python 3",
      "language": "python",
      "name": "python3"
    },
    "language_info": {
      "codemirror_mode": {
        "name": "ipython",
        "version": 3
      },
      "file_extension": ".py",
      "mimetype": "text/x-python",
      "name": "python",
      "nbconvert_exporter": "python",
      "pygments_lexer": "ipython3",
      "version": "3.7.3"
    },
    "colab": {
      "name": "plot_output.ipynb",
      "provenance": [],
      "collapsed_sections": [],
      "toc_visible": true
    }
  },
  "cells": [
    {
      "cell_type": "code",
      "metadata": {
        "id": "ewfOSrR7CNjO"
      },
      "source": [
        "import numpy as np\n",
        "import matplotlib.pyplot as plt"
      ],
      "execution_count": null,
      "outputs": []
    },
    {
      "cell_type": "code",
      "metadata": {
        "id": "LT6o1UVGCHXJ"
      },
      "source": [
        "# Mount your google drive if you run in google collab (need to re-mount if drive is updated)\n",
        "from google.colab import drive\n",
        "drive.mount('/content/drive')"
      ],
      "execution_count": null,
      "outputs": []
    },
    {
      "cell_type": "code",
      "metadata": {
        "id": "MuxEl1SDCNjO"
      },
      "source": [
        "# load data for half input images\n",
        "f = open('drive/MyDrive/Embedded/data.txt')\n",
        "content = f.read()\n",
        "f.close()\n",
        "\n",
        "data = []\n",
        "for line in content.split('\\n'):\n",
        "    if line != '':\n",
        "        row = line.split(';')\n",
        "        data.append(list(map(float, row)))\n",
        "        \n",
        "data = np.asarray(data)"
      ],
      "execution_count": null,
      "outputs": []
    },
    {
      "cell_type": "code",
      "metadata": {
        "colab": {
          "base_uri": "https://localhost:8080/"
        },
        "id": "pZphMqO4CNjO",
        "outputId": "c05e8e99-6e7e-46df-da6f-cfe307208a7f"
      },
      "source": [
        "data.shape"
      ],
      "execution_count": null,
      "outputs": [
        {
          "output_type": "execute_result",
          "data": {
            "text/plain": [
              "(10000, 392)"
            ]
          },
          "metadata": {
            "tags": []
          },
          "execution_count": 4
        }
      ]
    },
    {
      "cell_type": "code",
      "metadata": {
        "colab": {
          "base_uri": "https://localhost:8080/",
          "height": 215
        },
        "id": "_EUBlxrSCNjR",
        "outputId": "bcd98f84-9440-40c9-a891-08db88ef0b5f"
      },
      "source": [
        "#Set Image to evaluate\n",
        "idx = 12\n",
        "\n",
        "plt.figure()\n",
        "plt.imshow(data[idx,:].reshape(14,28), cmap = 'gray')\n",
        "plt.axis('off')"
      ],
      "execution_count": null,
      "outputs": [
        {
          "output_type": "execute_result",
          "data": {
            "text/plain": [
              "(-0.5, 27.5, 13.5, -0.5)"
            ]
          },
          "metadata": {
            "tags": []
          },
          "execution_count": 81
        },
        {
          "output_type": "display_data",
          "data": {
            "image/png": "[encoded data removed]",
            "text/plain": [
              "<Figure size 432x288 with 1 Axes>"
            ]
          },
          "metadata": {
            "tags": [],
            "needs_background": "light"
          }
        }
      ]
    },
    {
      "cell_type": "code",
      "metadata": {
        "id": "LY1HNVl-CNjS"
      },
      "source": [
        "#load data for half output images\n",
        "f = open('drive/MyDrive/Embedded/output.txt')\n",
        "content = f.readlines()[1:]\n",
        "f.close()\n",
        "\n",
        "data_sw = []\n",
        "data_hw = []\n",
        "\n",
        "for s in content:\n",
        "  t = s.split(';')\n",
        "  data_sw.append(float(t[0]))\n",
        "  data_hw.append(float((t[1].split('\\n'))[0]))\n",
        "  \n",
        "data_sw = np.asarray(data_sw)\n",
        "data_hw = np.asarray(data_hw)"
      ],
      "execution_count": null,
      "outputs": []
    },
    {
      "cell_type": "code",
      "metadata": {
        "id": "70lHikk8RsRn"
      },
      "source": [
        "def image_combiner(cut, generated):\n",
        "  full_image = np.concatenate((cut,generated))\n",
        "  return full_image"
      ],
      "execution_count": null,
      "outputs": []
    },
    {
      "cell_type": "code",
      "metadata": {
        "id": "4wV_P3mHTaPF",
        "colab": {
          "base_uri": "https://localhost:8080/",
          "height": 496
        },
        "outputId": "f28bcc3d-caf0-44a1-ece3-e5f95eb892d0"
      },
      "source": [
        "offset = 14*28    # offset for pixels of half image, do not change\n",
        "\n",
        "# combined image for software output\n",
        "output_sw = image_combiner(data[idx,:].reshape(14,28), data_sw[idx*offset:idx*offset+offset].reshape(14,28))\n",
        "\n",
        "# combined image for hardware output\n",
        "output_hw = image_combiner(data[idx,:].reshape(14,28), data_hw[idx*offset:idx*offset+offset].reshape(14,28))\n",
        "\n",
        "plt.figure()\n",
        "plt.imshow(output_sw.reshape((28,28)).astype(np.float32), cmap = 'gray')\n",
        "plt.axis('off')\n",
        "\n",
        "plt.figure()\n",
        "plt.imshow(output_hw.reshape((28,28)).astype(np.float32), cmap = 'gray')\n",
        "plt.axis('off')"
      ],
      "execution_count": null,
      "outputs": [
        {
          "output_type": "execute_result",
          "data": {
            "text/plain": [
              "(-0.5, 27.5, 27.5, -0.5)"
            ]
          },
          "metadata": {
            "tags": []
          },
          "execution_count": 83
        },
        {
          "output_type": "display_data",
          "data": {
            "image/png": "[encoded data removed]",
            "text/plain": [
              "<Figure size 432x288 with 1 Axes>"
            ]
          },
          "metadata": {
            "tags": [],
            "needs_background": "light"
          }
        },
        {
          "output_type": "display_data",
          "data": {
            "image/png": "[encoded data removed]",
            "text/plain": [
              "<Figure size 432x288 with 1 Axes>"
            ]
          },
          "metadata": {
            "tags": [],
            "needs_background": "light"
          }
        }
      ]
    },
    {
      "cell_type": "code",
      "metadata": {
        "id": "lseZK-UntJst"
      },
      "source": [
        "# scale images to 0-255\n",
        "img_data_hw=(output_hw*127.5 + 127.5).astype(int)\n",
        "img_data_sw=(output_sw*127.5 + 127.5).astype(int)"
      ],
      "execution_count": null,
      "outputs": []
    },
    {
      "cell_type": "code",
      "metadata": {
        "id": "7kRHetUUtKus"
      },
      "source": [
        "import math\n",
        "\n",
        "def psnr(img_data1, img_data2):\n",
        "    mse = np.mean( (img_data1 - img_data2) ** 2 )\n",
        "    if mse == 0:\n",
        "      return 100\n",
        "    PIXEL_MAX = 255.0\n",
        "    return 20 * math.log10(PIXEL_MAX / math.sqrt(mse))\n",
        "\n",
        "def max_error (img_data1, img_data2):\n",
        "    return np.max(abs(img_data1-img_data2))"
      ],
      "execution_count": null,
      "outputs": []
    },
    {
      "cell_type": "code",
      "metadata": {
        "id": "OZh2_Om2tNLF",
        "colab": {
          "base_uri": "https://localhost:8080/"
        },
        "outputId": "6a128423-c2d4-485c-e349-e2fd24eae7df"
      },
      "source": [
        "print (\"Max pixel error: \", max_error(img_data_sw, img_data_hw))\n",
        "print (\"Peak Signal-to-Noise Ratio: \", psnr(img_data_sw, img_data_hw))"
      ],
      "execution_count": null,
      "outputs": [
        {
          "output_type": "stream",
          "text": [
            "Max pixel error:  4\n",
            "Peak Signal-to-Noise Ratio:  53.76982650203158\n"
          ],
          "name": "stdout"
        }
      ]
    }
  ]
}